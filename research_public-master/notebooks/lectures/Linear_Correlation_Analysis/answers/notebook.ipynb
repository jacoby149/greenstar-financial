{
 "cells": [
  {
   "cell_type": "markdown",
   "metadata": {},
   "source": [
    "# Exercises: Linear Correlation Analysis - Answer Key\n",
    "\n",
    "## Lecture Link : \n",
    "https://www.quantopian.com/lectures/linear-correlation-analysis\n",
    "\n",
    "###IMPORTANT NOTE: \n",
    "This lecture corresponds to the Linear Correlation Analysis lecture, which is part of the Quantopian lecture series. This homework expects you to rely heavily on the code presented in the corresponding lecture. Please copy and paste regularly from that lecture when starting to work on the problems, as trying to do them from scratch will likely be too difficult.\n",
    "\n",
    "Part of the Quantopian Lecture Series:\n",
    "\n",
    "* [www.quantopian.com/lectures](https://www.quantopian.com/lectures)\n",
    "* [github.com/quantopian/research_public](https://github.com/quantopian/research_public)\n",
    "\n",
    "----"
   ]
  },
  {
   "cell_type": "markdown",
   "metadata": {
    "deletable": true,
    "editable": true
   },
   "source": [
    "## Key Concepts"
   ]
  },
  {
   "cell_type": "code",
   "execution_count": 1,
   "metadata": {
    "collapsed": true,
    "deletable": true,
    "editable": true
   },
   "outputs": [],
   "source": [
    "# Useful Functions\n",
    "def find_most_correlated(data):\n",
    "    n = data.shape[1]\n",
    "    keys = data.keys()\n",
    "    pair = []\n",
    "    max_value = 0\n",
    "    for i in range(n):\n",
    "        for j in range(i+1, n):\n",
    "            S1 = data[keys[i]]\n",
    "            S2 = data[keys[j]]\n",
    "            result = np.corrcoef(S1, S2)[0,1]\n",
    "            if result > max_value:\n",
    "                pair = (keys[i], keys[j])\n",
    "                max_value = result\n",
    "    return pair, max_value"
   ]
  },
  {
   "cell_type": "code",
   "execution_count": 2,
   "metadata": {
    "collapsed": false,
    "deletable": true,
    "editable": true
   },
   "outputs": [],
   "source": [
    "# Useful Libraries\n",
    "import numpy as np\n",
    "import pandas as pd\n",
    "import matplotlib.pyplot as plt"
   ]
  },
  {
   "cell_type": "markdown",
   "metadata": {
    "deletable": true,
    "editable": true
   },
   "source": [
    "----"
   ]
  },
  {
   "cell_type": "markdown",
   "metadata": {
    "deletable": true,
    "editable": true
   },
   "source": [
    "# Exercise 1: Dependence of Artificial Variables\n",
    "\n",
    "## a. Finding Variance, Covariance, and Correlation I\n",
    "\n",
    "By reading the matrix output from the `np.cov()` and `np.corrcoef()` functions, find the variance of the variables $A$ and $B$ and the covariance and correlation of their relationship. "
   ]
  },
  {
   "cell_type": "code",
   "execution_count": 3,
   "metadata": {
    "collapsed": false,
    "deletable": true,
    "editable": true
   },
   "outputs": [
    {
     "name": "stdout",
     "output_type": "stream",
     "text": [
      "Covariance matrix: \n",
      "[[ 0.08237163 -0.24773898]\n",
      " [-0.24773898  0.74865838]]\n",
      "\n",
      "Correlation matrix: \n",
      "[[ 1.         -0.99761661]\n",
      " [-0.99761661  1.        ]]\n",
      "\n",
      "Variance of A: 0.0823716314393\n",
      "Variance of B: 0.748658383296\n",
      "\n",
      "Covariance of A and B: -0.247738983929\n",
      "Correlation of A and B: -0.997616611853\n"
     ]
    }
   ],
   "source": [
    "A = np.random.rand(100)\n",
    "B = -3 * A + np.random.exponential(0.05, 100)\n",
    "\n",
    "#Your code goes here\n",
    "\n",
    "covm = np.cov(A, B)\n",
    "corrm = np.corrcoef(A, B)\n",
    "\n",
    "print 'Covariance matrix: \\n' + str(covm) + '\\n'\n",
    "print 'Correlation matrix: \\n' + str(corrm) + '\\n'\n",
    "\n",
    "print 'Variance of A: ' + str(covm[0,0])\n",
    "print 'Variance of B: ' + str(covm[1,1]) + '\\n'\n",
    "\n",
    "print 'Covariance of A and B: ' + str(covm[1,0])\n",
    "print 'Correlation of A and B: ' + str(corrm[1,0])"
   ]
  },
  {
   "cell_type": "markdown",
   "metadata": {
    "deletable": true,
    "editable": true
   },
   "source": [
    "## b. Finding Variance, Covariance, and Correlation II\n",
    "\n",
    "By reading the matrix output from the `np.cov()` and `np.corrcoef()` functions, find the variance of the variables $C$ and $D$ and the covariance and correlation of their relationship. "
   ]
  },
  {
   "cell_type": "code",
   "execution_count": 4,
   "metadata": {
    "collapsed": false,
    "deletable": true,
    "editable": true,
    "scrolled": true
   },
   "outputs": [
    {
     "name": "stdout",
     "output_type": "stream",
     "text": [
      "Covariance matrix: \n",
      "[[ 0.09119246  0.00740988]\n",
      " [ 0.00740988  0.24265135]]\n",
      "\n",
      "Correlation matrix: \n",
      "[[ 1.          0.04981272]\n",
      " [ 0.04981272  1.        ]]\n",
      "\n",
      "Variance of C: 0.0911924610123\n",
      "Variance of D: 0.242651347657\n",
      "\n",
      "Covariance of C and D: 0.00740987878297\n",
      "Correlation of C and D: 0.0498127228365\n"
     ]
    }
   ],
   "source": [
    "C = np.random.rand(100)\n",
    "D = np.random.normal(0, 0.5, 100)\n",
    "\n",
    "#Your code goes here\n",
    "\n",
    "covm = np.cov(C, D)\n",
    "corrm = np.corrcoef(C, D)\n",
    "\n",
    "print 'Covariance matrix: \\n' + str(covm) + '\\n'\n",
    "print 'Correlation matrix: \\n' + str(corrm) + '\\n'\n",
    "\n",
    "print 'Variance of C: ' + str(covm[0,0])\n",
    "print 'Variance of D: ' + str(covm[1,1]) + '\\n'\n",
    "\n",
    "print 'Covariance of C and D: ' + str(covm[1,0])\n",
    "print 'Correlation of C and D: ' + str(corrm[1,0])"
   ]
  },
  {
   "cell_type": "markdown",
   "metadata": {
    "deletable": true,
    "editable": true
   },
   "source": [
    "----"
   ]
  },
  {
   "cell_type": "markdown",
   "metadata": {
    "deletable": true,
    "editable": true
   },
   "source": [
    "# Exercise 2: Constructing Example Relationships\n",
    "\n",
    "## a. Positive Correlation Example\n",
    "\n",
    "Construct a variable $Y$ which has a strong, but not perfect, positive correlation with $X$ $(0.9 < Corr(X,Y) < 1)$, and plot their relationship."
   ]
  },
  {
   "cell_type": "code",
   "execution_count": 5,
   "metadata": {
    "collapsed": false,
    "deletable": true,
    "editable": true
   },
   "outputs": [
    {
     "name": "stdout",
     "output_type": "stream",
     "text": [
      "Correlation of X and Y: 0.984086064122\n"
     ]
    },
    {
     "data": {
      "image/png": "[encoded data removed]",
      "text/plain": [
       "<matplotlib.figure.Figure at 0x7f16cfc4fb50>"
      ]
     },
     "metadata": {},
     "output_type": "display_data"
    }
   ],
   "source": [
    "X = np.random.rand(100)\n",
    "\n",
    "#Your code goes here\n",
    "\n",
    "Y = 2*X + np.random.normal(0, 0.1, 100)\n",
    "\n",
    "plt.scatter(X,Y)\n",
    "plt.xlabel('X Value')\n",
    "plt.ylabel('Y Value')\n",
    "\n",
    "print 'Correlation of X and Y: ' + str(np.corrcoef(X, Y)[0,1])"
   ]
  },
  {
   "cell_type": "markdown",
   "metadata": {
    "deletable": true,
    "editable": true
   },
   "source": [
    "## b. Negative Correlation Example\n",
    "\n",
    "Construct a variable $W$ which has a weak, negative correlation with $Z$ $(-0.3 < Corr(Z,W) < 0)$, and plot their relationship."
   ]
  },
  {
   "cell_type": "code",
   "execution_count": 6,
   "metadata": {
    "collapsed": false,
    "deletable": true,
    "editable": true
   },
   "outputs": [
    {
     "name": "stdout",
     "output_type": "stream",
     "text": [
      "Correlation of Z and W: -0.0498600763248\n"
     ]
    },
    {
     "data": {
      "image/png": "[encoded data removed]",
      "text/plain": [
       "<matplotlib.figure.Figure at 0x7f16d4f1cc90>"
      ]
     },
     "metadata": {},
     "output_type": "display_data"
    }
   ],
   "source": [
    "Z = np.random.rand(100)\n",
    "\n",
    "#Your code goes here\n",
    "\n",
    "W = -4*Z + np.random.normal(0, 10, 100)\n",
    "\n",
    "plt.scatter(Z,W)\n",
    "plt.xlabel('Z Value')\n",
    "plt.ylabel('W Value')\n",
    "\n",
    "print 'Correlation of Z and W: ' + str(np.corrcoef(Z, W)[0,1])"
   ]
  },
  {
   "cell_type": "markdown",
   "metadata": {
    "deletable": true,
    "editable": true
   },
   "source": [
    "----"
   ]
  },
  {
   "cell_type": "markdown",
   "metadata": {
    "deletable": true,
    "editable": true
   },
   "source": [
    "# Exercise 3: Correlation of Real Assets\n",
    "\n",
    "## a. Finding Correlation of Real Assets\n",
    "\n",
    "Find the correlation between the stocks OKE and LAKE. Also check how they correlate with the provided benchmark."
   ]
  },
  {
   "cell_type": "code",
   "execution_count": 7,
   "metadata": {
    "collapsed": false,
    "deletable": true,
    "editable": true
   },
   "outputs": [
    {
     "name": "stdout",
     "output_type": "stream",
     "text": [
      "Correlation coefficient of OKE and LAKE:  0.446484870844\n",
      "Correlation coefficient of OKE and benchmark:  0.853638499475\n",
      "Correlation coefficient of LAKE and benchmark:  0.625923407419\n"
     ]
    }
   ],
   "source": [
    "OKE = get_pricing('OKE', fields='price', start_date='2013-01-01', end_date='2015-01-01')\n",
    "LAKE = get_pricing('LAKE', fields='price', start_date='2013-01-01', end_date='2015-01-01')\n",
    "benchmark = get_pricing('SPY', fields='price', start_date='2013-01-01', end_date='2015-01-01')\n",
    "\n",
    "#Your code goes here\n",
    "\n",
    "print \"Correlation coefficient of OKE and LAKE: \", np.corrcoef(OKE, LAKE)[0,1]\n",
    "print \"Correlation coefficient of OKE and benchmark: \", np.corrcoef(OKE, benchmark)[0,1]\n",
    "print \"Correlation coefficient of LAKE and benchmark: \", np.corrcoef(LAKE, benchmark)[0,1]"
   ]
  },
  {
   "cell_type": "markdown",
   "metadata": {
    "deletable": true,
    "editable": true
   },
   "source": [
    "## b. Finding Correlated Pairs\n",
    "\n",
    "Find the most correlated pair of stocks in the following portfolio using 2015 pricing data and the `find_most_correlated` function defined in the Helper Functions section above."
   ]
  },
  {
   "cell_type": "code",
   "execution_count": 8,
   "metadata": {
    "collapsed": false,
    "deletable": true,
    "editable": true
   },
   "outputs": [
    {
     "data": {
      "text/plain": [
       "(('FB', 'AMZN'), 0.95751089566007552)"
      ]
     },
     "execution_count": 8,
     "metadata": {},
     "output_type": "execute_result"
    }
   ],
   "source": [
    "symbol_list = ['GSK', 'SNOW', 'FB', 'AZO', 'XEC', 'AMZN']\n",
    "data = get_pricing(symbol_list, fields=['price']\n",
    "                               , start_date='2015-01-01', end_date='2016-01-01')['price']\n",
    "data.columns = symbol_list\n",
    "\n",
    "#Your code goes here\n",
    "\n",
    "find_most_correlated(data)"
   ]
  },
  {
   "cell_type": "markdown",
   "metadata": {
    "deletable": true,
    "editable": true
   },
   "source": [
    "----"
   ]
  },
  {
   "cell_type": "markdown",
   "metadata": {
    "deletable": true,
    "editable": true
   },
   "source": [
    "# Exercise 4: Limitations of Correlation\n",
    "\n",
    "## a. Out of Sample Tests\n",
    "\n",
    "Using pricing data from the first half of 2016, find the correlation coefficient between FB and AMZN and compare it to the strong positive relationship predicted from the 2015 correlation coefficient to see if that result holds."
   ]
  },
  {
   "cell_type": "code",
   "execution_count": 9,
   "metadata": {
    "collapsed": false,
    "deletable": true,
    "editable": true
   },
   "outputs": [
    {
     "name": "stdout",
     "output_type": "stream",
     "text": [
      "2015 correlation coefficient:  0.95751089566\n",
      "2016 correlation coefficient:  0.651288727673\n",
      "The strong correlation from 2015 did not hold outside of the 2015 pricing sample.\n"
     ]
    }
   ],
   "source": [
    "FB_15 = get_pricing('FB', fields='price', start_date='2015-01-01', end_date='2016-01-01')\n",
    "AMZN_15 = get_pricing('AMZN', fields='price', start_date='2015-01-01', end_date='2016-01-01')\n",
    "FB_16 = get_pricing('FB', fields='price', start_date='2016-01-01', end_date='2016-07-01')\n",
    "AMZN_16 = get_pricing('AMZN', fields='price', start_date='2016-01-01', end_date='2016-07-01')\n",
    "\n",
    "#Your code goes here\n",
    "\n",
    "print \"2015 correlation coefficient: \", np.corrcoef(FB_15, AMZN_15)[0,1]\n",
    "print \"2016 correlation coefficient: \", np.corrcoef(FB_16, AMZN_16)[0,1]\n",
    "print \"The strong correlation from 2015 did not hold outside of the 2015 pricing sample.\""
   ]
  },
  {
   "cell_type": "markdown",
   "metadata": {
    "deletable": true,
    "editable": true
   },
   "source": [
    "## b. Rolling Correlation\n",
    "\n",
    "Plot the 60-day rolling correlation coefficient between FB and AMZN to make a conclusion about the stability of their relationship."
   ]
  },
  {
   "cell_type": "code",
   "execution_count": 10,
   "metadata": {
    "collapsed": false,
    "deletable": true,
    "editable": true
   },
   "outputs": [
    {
     "name": "stdout",
     "output_type": "stream",
     "text": [
      "Upon further investigation, FB and AMZN do not consistently have the strong correlation suggested by our result from question 3b.\n"
     ]
    },
    {
     "data": {
      "image/png": "[encoded data removed]",
      "text/plain": [
       "<matplotlib.figure.Figure at 0x7f16a3bfef10>"
      ]
     },
     "metadata": {},
     "output_type": "display_data"
    }
   ],
   "source": [
    "FB = get_pricing('FB', fields='price', start_date='2015-01-01', end_date='2017-01-01')\n",
    "AMZN = get_pricing('AMZN', fields='price', start_date='2015-01-01', end_date='2017-01-01')\n",
    "\n",
    "#Your code goes here\n",
    "\n",
    "rolling_correlation = FB.rolling(window=60).corr(AMZN)\n",
    "plt.plot(rolling_correlation)\n",
    "plt.xlabel('Day')\n",
    "plt.ylabel('60-day Rolling Correlation')\n",
    "print \"Upon further investigation, FB and AMZN do not consistently have the strong correlation suggested by our result from question 3b.\""
   ]
  },
  {
   "cell_type": "markdown",
   "metadata": {
    "deletable": true,
    "editable": true
   },
   "source": [
    "Congratulations on completing the Linear Correlation Analysis exercises!\n",
    "\n",
    "As you learn more about writing trading models and the Quantopian platform, enter a daily [Quantopian Contest](https://www.quantopian.com/contest). Your strategy will be evaluated for a cash prize every day.\n",
    "\n",
    "Start by going through the [Writing a Contest Algorithm](https://www.quantopian.com/tutorials/contest) tutorial."
   ]
  },
  {
   "cell_type": "markdown",
   "metadata": {
    "deletable": true,
    "editable": true
   },
   "source": [
    "*This presentation is for informational purposes only and does not constitute an offer to sell, a solicitation to buy, or a recommendation for any security; nor does it constitute an offer to provide investment advisory or other services by Quantopian, Inc. (\"Quantopian\"). Nothing contained herein constitutes investment advice or offers any opinion with respect to the suitability of any security, and any views expressed herein should not be taken as advice to buy, sell, or hold any security or as an endorsement of any security or company.  In preparing the information contained herein, Quantopian, Inc. has not taken into account the investment needs, objectives, and financial circumstances of any particular investor. Any views expressed and data illustrated herein were prepared based upon information, believed to be reliable, available to Quantopian, Inc. at the time of publication. Quantopian makes no guarantees as to their accuracy or completeness. All information is subject to change and may quickly become unreliable for various reasons, including changes in market conditions or economic circumstances.*"
   ]
  }
 ],
 "metadata": {
  "kernelspec": {
   "display_name": "Python 2",
   "language": "python",
   "name": "python2"
  },
  "language_info": {
   "codemirror_mode": {
    "name": "ipython",
    "version": 2
   },
   "file_extension": ".py",
   "mimetype": "text/x-python",
   "name": "python",
   "nbconvert_exporter": "python",
   "pygments_lexer": "ipython2",
   "version": "2.7.12"
  }
 },
 "nbformat": 4,
 "nbformat_minor": 0
}