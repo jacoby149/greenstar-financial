{
 "cells": [
  {
   "cell_type": "markdown",
   "metadata": {},
   "source": [
    "# Exercises: Confidence Intervals - Answer Key\n",
    "By Christopher Fenaroli and Delaney Mackenzie\n",
    "\n",
    "## Lecture Link:\n",
    "https://www.quantopian.com/lectures/confidence-intervals\n",
    "\n",
    "### IMPORTANT NOTE: \n",
    "This lecture corresponds to the Confidence Intervals lecture, which is part of the Quantopian lecture series. This homework expects you to rely heavily on the code presented in the corresponding lecture. Please copy and paste regularly from that lecture when starting to work on the problems, as trying to do them from scratch will likely be too difficult.\n",
    "\n",
    "When you feel comfortable with the topics presented here, see if you can create an algorithm that qualifies for the Quantopian Contest. Participants are evaluated on their ability to produce risk-constrained alpha and the top 10 contest participants are awarded cash prizes on a daily basis.\n",
    "\n",
    "https://www.quantopian.com/contest\n",
    "\n",
    "Part of the Quantopian Lecture Series:\n",
    "\n",
    "* [www.quantopian.com/lectures](https://www.quantopian.com/lectures)\n",
    "* [github.com/quantopian/research_public](https://github.com/quantopian/research_public)\n",
    "\n",
    "----"
   ]
  },
  {
   "cell_type": "markdown",
   "metadata": {},
   "source": [
    "## Key Concepts"
   ]
  },
  {
   "cell_type": "code",
   "execution_count": 1,
   "metadata": {
    "collapsed": true
   },
   "outputs": [],
   "source": [
    "def generate_autocorrelated_data(theta, mu, sigma, N):\n",
    "    X = np.zeros((N, 1))\n",
    "    for t in range(1, N):\n",
    "        X[t] = theta * X[t-1] + np.random.normal(mu, sigma)\n",
    "    return X\n",
    "\n",
    "def newey_west_SE(data):\n",
    "    ind = range(0, len(data))\n",
    "    ind = sm.add_constant(ind)\n",
    "    model = regression.linear_model.OLS(data, ind).fit(cov_type='HAC',cov_kwds={'maxlags':1})\n",
    "    return model.bse[0]\n",
    "\n",
    "def newey_west_matrix(data):\n",
    "    ind = range(0, len(data))\n",
    "    ind = sm.add_constant(ind)\n",
    "    model = regression.linear_model.OLS(data, ind).fit()\n",
    "    return sw.cov_hac(model)"
   ]
  },
  {
   "cell_type": "code",
   "execution_count": 2,
   "metadata": {
    "collapsed": true
   },
   "outputs": [],
   "source": [
    "# Useful Libraries\n",
    "import numpy as np\n",
    "import seaborn as sns\n",
    "from scipy import stats\n",
    "import matplotlib.pyplot as plt\n",
    "from statsmodels.stats.stattools import jarque_bera\n",
    "import statsmodels.stats.sandwich_covariance as sw\n",
    "from statsmodels import regression\n",
    "import statsmodels.api as sm"
   ]
  },
  {
   "cell_type": "markdown",
   "metadata": {},
   "source": [
    "#### Data"
   ]
  },
  {
   "cell_type": "code",
   "execution_count": 3,
   "metadata": {
    "collapsed": true
   },
   "outputs": [],
   "source": [
    "np.random.seed(11)\n",
    "POPULATION_MU = 105\n",
    "POPULATION_SIGMA = 20\n",
    "sample_size = 50"
   ]
  },
  {
   "cell_type": "markdown",
   "metadata": {},
   "source": [
    "# Exercise 1: Determining Confidence Intervals\n",
    "\n",
    "## a. Mean\n",
    "\n",
    "Determine the mean of the following artificial data in `sample`."
   ]
  },
  {
   "cell_type": "code",
   "execution_count": 4,
   "metadata": {},
   "outputs": [
    {
     "name": "stdout",
     "output_type": "stream",
     "text": [
      "Mean: 103.223647005\n"
     ]
    }
   ],
   "source": [
    "sample = np.random.normal(POPULATION_MU, POPULATION_SIGMA, sample_size)\n",
    "\n",
    "#Your code goes here\n",
    "\n",
    "Mean = np.mean(sample)\n",
    "\n",
    "print \"Mean:\", Mean"
   ]
  },
  {
   "cell_type": "markdown",
   "metadata": {},
   "source": [
    "## b. Standard Deviation\n",
    "\n",
    "Determine standard deviation of the sample."
   ]
  },
  {
   "cell_type": "code",
   "execution_count": 5,
   "metadata": {},
   "outputs": [
    {
     "name": "stdout",
     "output_type": "stream",
     "text": [
      "Standard Deviation: 18.0645730239\n"
     ]
    }
   ],
   "source": [
    "#Your code goes here\n",
    "\n",
    "SD = np.std(sample)\n",
    "\n",
    "print \"Standard Deviation:\", SD"
   ]
  },
  {
   "cell_type": "markdown",
   "metadata": {},
   "source": [
    "## c. Standard Error\n",
    "\n",
    "Using the standard deviation and `sample_size`, determine the standard error for the sample."
   ]
  },
  {
   "cell_type": "code",
   "execution_count": 6,
   "metadata": {},
   "outputs": [
    {
     "name": "stdout",
     "output_type": "stream",
     "text": [
      "Standard Error: 2.55471641688\n"
     ]
    }
   ],
   "source": [
    "#Your code goes here\n",
    "\n",
    "SE = SD / np.sqrt(sample_size)\n",
    "\n",
    "print \"Standard Error:\", SE"
   ]
  },
  {
   "cell_type": "markdown",
   "metadata": {},
   "source": [
    "## d. Confidence Intervals\n",
    "\n",
    "Using the standard error and mean, determine 95% `(Z = 1.96)`, 90% `(Z = 1.64)`, and 80% `(Z = 1.28)` confidence intervals for the sample. "
   ]
  },
  {
   "cell_type": "code",
   "execution_count": 7,
   "metadata": {},
   "outputs": [
    {
     "name": "stdout",
     "output_type": "stream",
     "text": [
      "95% Confidence Interval: (98.216402827473189, 108.23089118165043)\n",
      "90% Confidence Interval: (99.03391208087541, 107.41338192824821)\n",
      "80% Confidence Interval: (99.953609990952913, 106.49368401817071)\n"
     ]
    }
   ],
   "source": [
    "#Your code goes here\n",
    "\n",
    "print \"95% Confidence Interval:\", (-1.96 * SE + Mean, 1.96 * SE + Mean)\n",
    "print \"90% Confidence Interval:\", (-1.64 * SE + Mean, 1.64 * SE + Mean)\n",
    "print \"80% Confidence Interval:\", (-1.28 * SE + Mean, 1.28 * SE + Mean)"
   ]
  },
  {
   "cell_type": "markdown",
   "metadata": {},
   "source": [
    "----"
   ]
  },
  {
   "cell_type": "markdown",
   "metadata": {},
   "source": [
    "# Exercise 2: Interpreting Confidence Intervals\n",
    "\n",
    "Assuming our interval was correctly calculated and that the underlying data was independent, if we take many samples and make many 95% confidence intervals, the intervals will contain the true mean 95% of the time. Run 1000 samples and measure how many of their confidence intervals actually contain the true mean."
   ]
  },
  {
   "cell_type": "code",
   "execution_count": 8,
   "metadata": {},
   "outputs": [
    {
     "name": "stdout",
     "output_type": "stream",
     "text": [
      "Expected Result: 950.0\n",
      "Actual Result 932\n"
     ]
    }
   ],
   "source": [
    "n = 1000\n",
    "correct = 0\n",
    "samples = [np.random.normal(loc=POPULATION_MU, scale=POPULATION_SIGMA, size=sample_size) for i in range(n)]\n",
    "\n",
    "#Your code goes here\n",
    "\n",
    "for i in range(n):\n",
    "    sample_mean = np.mean(samples[i])\n",
    "    sample_SE = stats.sem(samples[i])\n",
    "    if ((POPULATION_MU >= -1.96 * sample_SE + sample_mean) and (POPULATION_MU <= 1.96 * sample_SE + sample_mean)):\n",
    "        correct += 1;\n",
    "\n",
    "print \"Expected Result:\", .95 * 1000\n",
    "print \"Actual Result\", correct"
   ]
  },
  {
   "cell_type": "markdown",
   "metadata": {},
   "source": [
    "----"
   ]
  },
  {
   "cell_type": "markdown",
   "metadata": {},
   "source": [
    "# Exercise 3: Central Limit Theorem\n",
    "\n",
    "## a. Plotting Sample Means - Normal\n",
    "\n",
    "Assuming our samples are independent, the distribution of the sample means should be normally distributed, regardless of the underlying distribution. \n",
    "\n",
    "Draw 500 samples of size `sample_size` from the same normal distribution from question 1, plot the means of each of the samples, and check to see if the distribution of the sample means is normal using the `jarque_bera` function (see [here](https://www.quantopian.com/lectures/statistical-moments) more information on the Jarque-Bera test)"
   ]
  },
  {
   "cell_type": "code",
   "execution_count": 9,
   "metadata": {},
   "outputs": [
    {
     "name": "stdout",
     "output_type": "stream",
     "text": [
      "0.639560006167\n",
      "The distribution of sample means is likely normal.\n"
     ]
    },
    {
     "data": {
      "image/png": "[encoded data removed]",
      "text/plain": [
       "<matplotlib.figure.Figure at 0x7f03f0469f50>"
      ]
     },
     "metadata": {},
     "output_type": "display_data"
    }
   ],
   "source": [
    "n = 500\n",
    "normal_samples = [np.mean(np.random.normal(loc=POPULATION_MU, scale=POPULATION_SIGMA, size=sample_size)) for i in range(n)]\n",
    "\n",
    "#Your code goes here\n",
    "\n",
    "plt.hist(normal_samples, 10)\n",
    "\n",
    "_, pvalue, _, _ = jarque_bera(normal_samples)\n",
    "\n",
    "print pvalue\n",
    "if pvalue > 0.05:\n",
    "    print 'The distribution of sample means is likely normal.'\n",
    "else:\n",
    "    print 'The distribution of sample means is likely not normal.'"
   ]
  },
  {
   "cell_type": "markdown",
   "metadata": {},
   "source": [
    "## b. Plotting Sample Means - Exponential\n",
    "\n",
    "Draw 500 samples of size `sample_size` from a new exponential distribution, plot the means of each of the samples, and check to see if the distribution of the sample means is normal."
   ]
  },
  {
   "cell_type": "code",
   "execution_count": 10,
   "metadata": {},
   "outputs": [
    {
     "name": "stdout",
     "output_type": "stream",
     "text": [
      "0.306129798551\n",
      "The distribution of sample means is likely normal, despite the underlying distribution being non-normal (exponential).\n"
     ]
    },
    {
     "data": {
      "image/png": "[encoded data removed]",
      "text/plain": [
       "<matplotlib.figure.Figure at 0x7f03f03cf4d0>"
      ]
     },
     "metadata": {},
     "output_type": "display_data"
    }
   ],
   "source": [
    "n = 500\n",
    "expo_samples = [np.mean(np.random.exponential(POPULATION_MU, sample_size)) for i in range(n)]\n",
    "\n",
    "#Your code goes here\n",
    "\n",
    "plt.hist(expo_samples, 10)\n",
    "\n",
    "_, pvalue, _, _ = jarque_bera(expo_samples)\n",
    "\n",
    "print pvalue\n",
    "if pvalue > 0.05:\n",
    "    print 'The distribution of sample means is likely normal, despite the underlying distribution being non-normal (exponential).'\n",
    "else:\n",
    "    print 'The distribution of sample means is likely not normal.'"
   ]
  },
  {
   "cell_type": "markdown",
   "metadata": {},
   "source": [
    "## c.i Plotting Sample Means - Autocorrelated\n",
    "\n",
    "Draw 500 samples of size `sample_size` from a new autocorrelated (dependent) distribution, plot the means of each of the samples, and check to see if the distribution of the sample means is normal."
   ]
  },
  {
   "cell_type": "code",
   "execution_count": 11,
   "metadata": {},
   "outputs": [
    {
     "name": "stdout",
     "output_type": "stream",
     "text": [
      "0.440090741806\n",
      "The distribution of sample means is likely normal, despite an autocorrelated underlying distribution.\n"
     ]
    },
    {
     "data": {
      "image/png": "[encoded data removed]",
      "text/plain": [
       "<matplotlib.figure.Figure at 0x7f03f5a75150>"
      ]
     },
     "metadata": {},
     "output_type": "display_data"
    }
   ],
   "source": [
    "n = 500\n",
    "autocorrelated_samples = [(generate_autocorrelated_data(0.5, 0, 1, sample_size) + POPULATION_MU) for i in range(n)]\n",
    "autocorrelated_means = [np.mean(autocorrelated_samples[i]) for i in range(n)]\n",
    "\n",
    "#Your code goes here\n",
    "\n",
    "plt.hist(autocorrelated_means, 10)\n",
    "\n",
    "_, pvalue, _, _ = jarque_bera(autocorrelated_means)\n",
    "\n",
    "print pvalue\n",
    "if pvalue > 0.05:\n",
    "    print 'The distribution of sample means is likely normal, despite an autocorrelated underlying distribution.'\n",
    "else:\n",
    "    print 'The distribution of sample means is likely not normal.'"
   ]
  },
  {
   "cell_type": "markdown",
   "metadata": {},
   "source": [
    "## c.ii Plotting Sample Standard Deviations - Autocorrelated\n",
    "\n",
    "Draw 500 samples of size `sample_size` from the same autocorrelated distribution, plot the standard deviations of each of the samples, and check to see if the distribution of the sample standard deviations is normal."
   ]
  },
  {
   "cell_type": "code",
   "execution_count": 12,
   "metadata": {},
   "outputs": [
    {
     "name": "stdout",
     "output_type": "stream",
     "text": [
      "0.00411075021602\n",
      "The distribution of sample standard deviations is likely not normal, due to the autocorrelated underlying distribution and the different assumptions for the CLT for means and for standard deviations.\n"
     ]
    },
    {
     "data": {
      "image/png": "[encoded data removed]",
      "text/plain": [
       "<matplotlib.figure.Figure at 0x7f03f02ca690>"
      ]
     },
     "metadata": {},
     "output_type": "display_data"
    }
   ],
   "source": [
    "n = 500\n",
    "autocorrelated_samples = [(generate_autocorrelated_data(0.5, 0, 1, sample_size) + POPULATION_MU) for i in range(n)]\n",
    "autocorrelated_stds = [np.std(autocorrelated_samples[i]) for i in range(n)]\n",
    "\n",
    "#Your code goes here\n",
    "\n",
    "plt.hist(autocorrelated_stds, 10)\n",
    "\n",
    "_, pvalue, _, _ = jarque_bera(autocorrelated_stds)\n",
    "\n",
    "print pvalue\n",
    "if pvalue > 0.05:\n",
    "    print 'The distribution of sample standard deviations is likely normal.'\n",
    "else:\n",
    "    print 'The distribution of sample standard deviations is likely not normal, due to the autocorrelated underlying distribution and the different assumptions for the CLT for means and for standard deviations.'\n",
    "    "
   ]
  },
  {
   "cell_type": "markdown",
   "metadata": {},
   "source": [
    "----"
   ]
  },
  {
   "cell_type": "markdown",
   "metadata": {},
   "source": [
    "# Exercise 4: Small Sample Sizes\n",
    "\n",
    "## a. Error Due to Small Sample Size\n",
    "\n",
    "Run 100 samples of size `small_size` and measure how many of their 95% confidence intervals actually contain the true mean."
   ]
  },
  {
   "cell_type": "code",
   "execution_count": 13,
   "metadata": {},
   "outputs": [
    {
     "name": "stdout",
     "output_type": "stream",
     "text": [
      "Expected Result: 95.0\n",
      "Actual Result 74\n",
      "Due to the small sample size, the actual number of confidence intervals containing the population mean is much lower than what we would expect given a correctly calibrated interval.\n"
     ]
    }
   ],
   "source": [
    "n = 100\n",
    "small_size = 3\n",
    "correct = 0\n",
    "samples = [np.random.normal(loc=POPULATION_MU, scale=POPULATION_SIGMA, size=small_size) for i in range(n)]\n",
    "    \n",
    "#Your code goes here\n",
    "    \n",
    "for i in range(n):\n",
    "    sample_mean = np.mean(samples[i])\n",
    "    sample_SE = stats.sem(samples[i])\n",
    "    if ((POPULATION_MU >= -1.96 * sample_SE + sample_mean) and (POPULATION_MU <= 1.96 * sample_SE + sample_mean)):\n",
    "        correct += 1\n",
    "\n",
    "print \"Expected Result:\", .95 * n\n",
    "print \"Actual Result:\", correct\n",
    "print \"Due to the small sample size, the actual number of confidence intervals containing the population mean is much lower than what we would expect given a correctly calibrated interval.\"\n"
   ]
  },
  {
   "cell_type": "markdown",
   "metadata": {},
   "source": [
    "## b. T-distribution Correction\n",
    "\n",
    "Run 100 samples of size `small_size`, this time accouting for the small sample size using a t-distribution, and measure how many of their 95% confidence intervals actually contain the true mean."
   ]
  },
  {
   "cell_type": "code",
   "execution_count": 14,
   "metadata": {
    "scrolled": true
   },
   "outputs": [
    {
     "name": "stdout",
     "output_type": "stream",
     "text": [
      "Expected Result: 95.0\n",
      "Actual Result 95\n",
      "After using the t-distribution to correct for the smaller sample size, the actual number of confidence intervals containing the population mean is about what we expected.\n"
     ]
    }
   ],
   "source": [
    "n = 100\n",
    "small_size = 5\n",
    "correct = 0\n",
    "samples = [np.random.normal(loc=POPULATION_MU, scale=POPULATION_SIGMA, size=small_size) for i in range(n)]\n",
    "\n",
    "#Your code goes here\n",
    "    \n",
    "for i in range(n):\n",
    "    sample_mean = np.mean(samples[i])\n",
    "    sample_SE = stats.sem(samples[i])\n",
    "    h = sample_SE * stats.t.ppf((1+0.95) / 2, len(samples[i])-1)\n",
    "    if ((POPULATION_MU >= sample_mean - h) and (POPULATION_MU <= sample_mean + h)):\n",
    "        correct += 1\n",
    "\n",
    "print \"Expected Result:\", .95 * n\n",
    "print \"Actual Result:\", correct\n",
    "print \"After using the t-distribution to correct for the smaller sample size, the actual number of confidence intervals containing the population mean is about what we expected.\"\n"
   ]
  },
  {
   "cell_type": "markdown",
   "metadata": {},
   "source": [
    "----"
   ]
  },
  {
   "cell_type": "markdown",
   "metadata": {},
   "source": [
    "# Exercise 5: Dependence\n",
    "\n",
    "## a. Error due to Dependence\n",
    "\n",
    "Run 100 samples of the following autocorrelated distribution and measure how many of their 95% confidence intervals actually contain the true mean. (Use the helper function `generate_autocorrelated_data(theta, noise_mu, noise_sigma, sample_size)` to generate the samples)"
   ]
  },
  {
   "cell_type": "code",
   "execution_count": 15,
   "metadata": {},
   "outputs": [
    {
     "name": "stdout",
     "output_type": "stream",
     "text": [
      "Expected Result: 95.0\n",
      "Actual Result 71\n",
      "Because the underlying data was autocorrelated, the actual number of confidence intervals containing the population mean is much lower than what we expected.\n"
     ]
    }
   ],
   "source": [
    "n = 100\n",
    "correct = 0\n",
    "theta = 0.5\n",
    "noise_mu = 0\n",
    "noise_sigma = 1\n",
    "\n",
    "#Your code goes here\n",
    "\n",
    "for i in range(n):\n",
    "    X = generate_autocorrelated_data(theta, noise_mu, noise_sigma, sample_size) + POPULATION_MU\n",
    "    sample_mean = np.mean(X)\n",
    "    sample_SE = np.std(X) / np.sqrt(sample_size)\n",
    "    if ((POPULATION_MU >= -1.96 * sample_SE + sample_mean) and (POPULATION_MU <= 1.96 * sample_SE + sample_mean)):\n",
    "        correct += 1\n",
    "    \n",
    "\n",
    "print \"Expected Result:\", .95 * n\n",
    "print \"Actual Result:\", correct\n",
    "print \"Because the underlying data was autocorrelated, the actual number of confidence intervals containing the population mean is much lower than what we expected.\"\n"
   ]
  },
  {
   "cell_type": "markdown",
   "metadata": {},
   "source": [
    "## b. T-distribution Correction\n",
    "\n",
    "Run 100 samples from the autocorrelated distribution, this time attempting to account for the autocorrelation using a t-distribution, and measure how many of their 95% confidence intervals actually contain the true mean to see if the correction works."
   ]
  },
  {
   "cell_type": "code",
   "execution_count": 16,
   "metadata": {},
   "outputs": [
    {
     "name": "stdout",
     "output_type": "stream",
     "text": [
      "Expected Result: 95.0\n",
      "Actual Result 73\n",
      "We did not see a significant improvement in the actual number of confidence intervals containing the population mean. This is because a t-distribution only corrects for small sample sizes, not autocorrelation.\n"
     ]
    }
   ],
   "source": [
    "n = 100\n",
    "correct = 0\n",
    "\n",
    "#Your code goes here\n",
    "\n",
    "for i in range(n):\n",
    "    X = generate_autocorrelated_data(theta, noise_mu, noise_sigma, sample_size) + POPULATION_MU\n",
    "    sample_mean = np.mean(X)\n",
    "    sample_SE = np.std(X) / np.sqrt(sample_size)\n",
    "    h = sample_SE * stats.t.ppf((1+0.95) / 2, len(X)-1)\n",
    "    if ((POPULATION_MU >= sample_mean - h) and (POPULATION_MU <= sample_mean + h)):\n",
    "        correct += 1\n",
    "    \n",
    "\n",
    "print \"Expected Result:\", .95 * n\n",
    "print \"Actual Result:\", correct\n",
    "print \"We did not see a significant improvement in the actual number of confidence intervals containing the population mean. This is because a t-distribution only corrects for small sample sizes, not autocorrelation.\"\n"
   ]
  },
  {
   "cell_type": "markdown",
   "metadata": {},
   "source": [
    "## c. Newey-West Matrix\n",
    "\n",
    "Use the `newey_west_matrix` helper function to compute an adjusted (robust) covariance matrix for a single sample of the autocorrelated data. "
   ]
  },
  {
   "cell_type": "code",
   "execution_count": 17,
   "metadata": {
    "scrolled": true
   },
   "outputs": [
    {
     "name": "stdout",
     "output_type": "stream",
     "text": [
      "[[ 0.33326676 -0.00994368]\n",
      " [-0.00994368  0.00036869]]\n"
     ]
    }
   ],
   "source": [
    "X = generate_autocorrelated_data(theta, noise_mu, noise_sigma, sample_size) + POPULATION_MU\n",
    "\n",
    "#Your code goes here\n",
    "\n",
    "print newey_west_matrix(X)"
   ]
  },
  {
   "cell_type": "markdown",
   "metadata": {},
   "source": [
    "## d. Newey-West Correction\n",
    "\n",
    "Run 100 samples of the following autocorrelated distribution, this time accounting for the autocorrelation by using a Newey-West correction on the standard error, and measure how many of their 95% confidence intervals actually contain the true mean to see if the correction works. (Use the helper function `newey_west_SE` to find the corrected standard error)"
   ]
  },
  {
   "cell_type": "code",
   "execution_count": 18,
   "metadata": {},
   "outputs": [
    {
     "name": "stdout",
     "output_type": "stream",
     "text": [
      "New Standard Error: 0.426986022024\n",
      "Expected Result: 95.0\n",
      "Actual Result 97\n",
      "After accounting for autocorrelation by finding a Newey-West standard error, the actual number of confidence intervals containing the population mean is about what we expected.\n"
     ]
    }
   ],
   "source": [
    "n = 100\n",
    "correct = 0\n",
    "\n",
    "#Your code goes here\n",
    "\n",
    "for i in range(n):\n",
    "    X = generate_autocorrelated_data(theta, noise_mu, noise_sigma, sample_size) + POPULATION_MU\n",
    "    sample_mean = np.mean(X)\n",
    "    sample_SE = newey_west_SE(X)\n",
    "    if ((POPULATION_MU >= -1.96 * sample_SE + sample_mean) and (POPULATION_MU <= 1.96 * sample_SE + sample_mean)):\n",
    "        correct += 1\n",
    "\n",
    "print \"New Standard Error:\", sample_SE\n",
    "print \"Expected Result:\", .95 * n\n",
    "print \"Actual Result:\", correct\n",
    "print \"After accounting for autocorrelation by finding a Newey-West standard error, the actual number of confidence intervals containing the population mean is about what we expected.\"\n"
   ]
  },
  {
   "cell_type": "markdown",
   "metadata": {},
   "source": [
    "---\n",
    "\n",
    "Congratulations on completing the Confidence Intervals exercises!\n",
    "\n",
    "As you learn more about writing trading models and the Quantopian platform, enter the daily [Quantopian Contest](https://www.quantopian.com/contest). Your strategy will be evaluated for a cash prize every day.\n",
    "\n",
    "Start by going through the [Writing a Contest Algorithm](https://www.quantopian.com/tutorials/contest) tutorial."
   ]
  },
  {
   "cell_type": "markdown",
   "metadata": {},
   "source": [
    "*This presentation is for informational purposes only and does not constitute an offer to sell, a solic\n",
    "itation to buy, or a recommendation for any security; nor does it constitute an offer to provide investment advisory or other services by Quantopian, Inc. (\"Quantopian\"). Nothing contained herein constitutes investment advice or offers any opinion with respect to the suitability of any security, and any views expressed herein should not be taken as advice to buy, sell, or hold any security or as an endorsement of any security or company.  In preparing the information contained herein, Quantopian, Inc. has not taken into account the investment needs, objectives, and financial circumstances of any particular investor. Any views expressed and data illustrated herein were prepared based upon information, believed to be reliable, available to Quantopian, Inc. at the time of publication. Quantopian makes no guarantees as to their accuracy or completeness. All information is subject to change and may quickly become unreliable for various reasons, including changes in market conditions or economic circumstances.*"
   ]
  }
 ],
 "metadata": {
  "kernelspec": {
   "display_name": "Python 2",
   "language": "python",
   "name": "python2"
  },
  "language_info": {
   "codemirror_mode": {
    "name": "ipython",
    "version": 2
   },
   "file_extension": ".py",
   "mimetype": "text/x-python",
   "name": "python",
   "nbconvert_exporter": "python",
   "pygments_lexer": "ipython2",
   "version": "2.7.10"
  }
 },
 "nbformat": 4,
 "nbformat_minor": 1
}