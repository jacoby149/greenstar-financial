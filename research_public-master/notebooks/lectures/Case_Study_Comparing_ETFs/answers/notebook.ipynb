{
 "cells": [
  {
   "cell_type": "markdown",
   "metadata": {
    "collapsed": true
   },
   "source": [
    "# Exercises: Comparing ETFs - Answer Key\n",
    "By Christopher van Hoecke, Maxwell Margenot, and Delaney Mackenzie\n",
    "\n",
    "\n",
    "## Lecture Link :\n",
    "https://www.quantopian.com/lectures/statistical-moments\n",
    "\n",
    "https://www.quantopian.com/lectures/hypothesis-testing\n",
    "\n",
    "###IMPORTANT NOTE: \n",
    "This lecture corresponds to the statistical moments and hypothesis testing lecture, which is part of the Quantopian lecture series. This homework expects you to rely heavily on the code presented in the corresponding lecture. Please copy and paste regularly from that lecture when starting to work on the problems, as trying to do them from scratch will likely be too difficult.\n",
    "\n",
    "When you feel comfortable with the topics presented here, see if you can create an algorithm that qualifies for the Quantopian Contest. Participants are evaluated on their ability to produce risk-constrained alpha and the top 10 contest participants are awarded cash prizes on a daily basis.\n",
    "\n",
    "https://www.quantopian.com/contest\n",
    "\n",
    "Part of the Quantopian Lecture Series:\n",
    "\n",
    "* [www.quantopian.com/lectures](https://www.quantopian.com/lectures)\n",
    "* [github.com/quantopian/research_public](https://github.com/quantopian/research_public)\n",
    "\n",
    "----"
   ]
  },
  {
   "cell_type": "markdown",
   "metadata": {},
   "source": [
    "## Key Concepts\n",
    "t-statistic formula for unequal variances : $ t = \\frac{\\bar{X}_1 - \\bar{X}_2}{(\\frac{s_1^2}{n_1} + \\frac{s_2^2}{n_2})^{1/2}}$\n",
    "\n",
    "Where $s_1$ and $s_2$ are the standard deviation of set 1 and set 2; and $n_1$ and $n_2$ are the number of observations we have."
   ]
  },
  {
   "cell_type": "code",
   "execution_count": 1,
   "metadata": {
    "collapsed": true
   },
   "outputs": [],
   "source": [
    "# Useful functions\n",
    "def normal_test(X):\n",
    "    z, pval = stats.normaltest(X)\n",
    "    if pval < 0.05:\n",
    "        print 'Values are not normally distributed.'\n",
    "    else: \n",
    "        print 'Values are normally distributed.'\n",
    "    return"
   ]
  },
  {
   "cell_type": "code",
   "execution_count": 2,
   "metadata": {
    "collapsed": true
   },
   "outputs": [],
   "source": [
    "# Useful Libraries\n",
    "import numpy as np\n",
    "import matplotlib.pyplot as plt\n",
    "from scipy import stats\n",
    "import seaborn as sns"
   ]
  },
  {
   "cell_type": "markdown",
   "metadata": {},
   "source": [
    "#### Data:"
   ]
  },
  {
   "cell_type": "code",
   "execution_count": 3,
   "metadata": {
    "collapsed": true
   },
   "outputs": [],
   "source": [
    "# Get pricing data for an energy (XLE) and industrial (XLI) ETF\n",
    "xle = get_pricing('XLE', fields = 'price', start_date = '2016-01-01', end_date = '2017-01-01')\n",
    "xli = get_pricing('XLI', fields = 'price', start_date = '2016-01-01', end_date = '2017-01-01')\n",
    "\n",
    "# Compute returns\n",
    "xle_returns = xle.pct_change()[1:]\n",
    "xli_returns = xli.pct_change()[1:]"
   ]
  },
  {
   "cell_type": "markdown",
   "metadata": {},
   "source": [
    "## Exercise 1 : Hypothesis Testing on Variances. \n",
    "- Plot the histogram of the returns of XLE and XLI\n",
    "- Check to see if each return stream is normally distributed\n",
    "- If the assets are normally distributed, use the F-test to perform a hypothesis test and decide whether they have the two assets have the same variance.\n",
    "- If the assets are **not** normally distributed, use the Levene test (in the scipy library) to perform a hypothesis test on variance. "
   ]
  },
  {
   "cell_type": "code",
   "execution_count": 4,
   "metadata": {},
   "outputs": [
    {
     "data": {
      "image/png": "[encoded data removed]",
      "text/plain": [
       "<matplotlib.figure.Figure at 0x7f200ad63c50>"
      ]
     },
     "metadata": {},
     "output_type": "display_data"
    }
   ],
   "source": [
    "xle = plt.hist(xle_returns, bins=30)\n",
    "xli = plt.hist(xli_returns, bins=30, color='r')\n",
    "\n",
    "plt.xlabel('returns')\n",
    "plt.ylabel('Frequency')\n",
    "plt.title('Histogram of the returns of XLE and XLI')\n",
    "plt.legend(['XLE returns', 'XLI returns']);"
   ]
  },
  {
   "cell_type": "code",
   "execution_count": 5,
   "metadata": {},
   "outputs": [
    {
     "name": "stdout",
     "output_type": "stream",
     "text": [
      "XLE\n",
      "Values are normally distributed.\n",
      "XLI\n",
      "Values are not normally distributed.\n"
     ]
    }
   ],
   "source": [
    "# Checking for normality using function above. \n",
    "\n",
    "print 'XLE'\n",
    "normal_test(xle_returns)\n",
    "print 'XLI'\n",
    "normal_test(xli_returns)"
   ]
  },
  {
   "cell_type": "code",
   "execution_count": 6,
   "metadata": {},
   "outputs": [
    {
     "data": {
      "text/plain": [
       "LeveneResult(statistic=42.17712538196367, pvalue=2.0149310189859354e-10)"
      ]
     },
     "execution_count": 6,
     "metadata": {},
     "output_type": "execute_result"
    }
   ],
   "source": [
    "# Because the data is not normally distributed, we must use the levene and not the F-test of variance. \n",
    "\n",
    "stats.levene(xle_returns, xli_returns)"
   ]
  },
  {
   "cell_type": "markdown",
   "metadata": {},
   "source": [
    "Since we find a pvalue for the Levene test of less than our $\\alpha$ level (0.05), we can reject the null hypothesis that the variability of the two groups are equal thus implying that **the variances are unequal.**"
   ]
  },
  {
   "cell_type": "markdown",
   "metadata": {},
   "source": [
    "-----"
   ]
  },
  {
   "cell_type": "markdown",
   "metadata": {},
   "source": [
    "## Exercise 2 : Hypothesis Testing on Means.\n",
    "\n",
    "Since we know that the variances are not equal, we must use Welch's t-test. \n",
    "- Calculate the mean returns of XLE and XLI.\n",
    "    - Find the difference between the two means.\n",
    "- Calculate the standard deviation of the returns of XLE and XLI\n",
    "- Using the formula given above, calculate the t-test statistic (Using $\\alpha = 0.05$) for Welch's t-test to test whether the mean returns of XLE and XLI are different.\n",
    "- Consult the [Hypothesis Testing Lecture](https://www.quantopian.com/lectures#Hypothesis-Testing) to calculate the p-value for this test. Are the mean returns of XLE and XLI the same?\n",
    "\n",
    "- Now use the t-test function for two independent samples from the scipy library. Compare the results."
   ]
  },
  {
   "cell_type": "code",
   "execution_count": 7,
   "metadata": {},
   "outputs": [
    {
     "name": "stdout",
     "output_type": "stream",
     "text": [
      "t-test statistic: 0.246212554505\n"
     ]
    }
   ],
   "source": [
    "# Manually calculating the t-statistic\n",
    "\n",
    "N1 = len(xle_returns)\n",
    "N2 = len(xli_returns)\n",
    "\n",
    "m1 = xle_returns.mean()\n",
    "m2 = xli_returns.mean()\n",
    "\n",
    "s1 = xle_returns.std()\n",
    "s2 = xli_returns.std()\n",
    "\n",
    "test_statistic = (m1 - m2) / (s1**2 / N1 + s2**2 / N2)**0.5\n",
    "print 't-test statistic:', test_statistic"
   ]
  },
  {
   "cell_type": "code",
   "execution_count": 8,
   "metadata": {},
   "outputs": [
    {
     "data": {
      "text/plain": [
       "Ttest_indResult(statistic=0.24621255450523835, pvalue=0.80564256071472806)"
      ]
     },
     "execution_count": 8,
     "metadata": {},
     "output_type": "execute_result"
    }
   ],
   "source": [
    "# Alternative form, using the scipy library on python. \n",
    "\n",
    "stats.ttest_ind(xle_returns, xli_returns, equal_var=False)"
   ]
  },
  {
   "cell_type": "markdown",
   "metadata": {},
   "source": [
    "----"
   ]
  },
  {
   "cell_type": "markdown",
   "metadata": {
    "collapsed": true
   },
   "source": [
    "## Exercise 3 : Skewness\n",
    "- Calculate the mean and median of the two assets\n",
    "- Calculate the skewness using the scipy library"
   ]
  },
  {
   "cell_type": "code",
   "execution_count": 9,
   "metadata": {},
   "outputs": [
    {
     "name": "stdout",
     "output_type": "stream",
     "text": [
      "Mean of XLE returns =  0.0011018423017 ; median =  0.000303393455803\n",
      "Mean of XLI returns =  0.000822235474081 ; median =  0.000546099936288\n"
     ]
    }
   ],
   "source": [
    "# Calculate the mean and median of xle and xli using the numpy library\n",
    "\n",
    "xle_mean = np.mean(xle_returns)\n",
    "xle_median = np.median(xle_returns)\n",
    "print 'Mean of XLE returns = ', xle_mean, '; median = ', xle_median\n",
    "\n",
    "xli_mean = np.mean(xli_returns)\n",
    "xli_median = np.median(xli_returns)\n",
    "print 'Mean of XLI returns = ', xli_mean, '; median = ', xli_median"
   ]
  },
  {
   "cell_type": "code",
   "execution_count": 10,
   "metadata": {},
   "outputs": [
    {
     "name": "stdout",
     "output_type": "stream",
     "text": [
      "Skew of XLE returns: 0.090984051661\n",
      "Skew of XLI returns: -0.332324357079\n"
     ]
    }
   ],
   "source": [
    "# Print values of Skewness for xle and xli returns \n",
    "\n",
    "print 'Skew of XLE returns:', stats.skew(xle_returns)\n",
    "print 'Skew of XLI returns:',  stats.skew(xli_returns)"
   ]
  },
  {
   "cell_type": "markdown",
   "metadata": {},
   "source": [
    "And the skewness of XLE returns of values > 0 means that there is more weight in the right tail of the distribution. The skewness of XLI returns of value > 0 means that there is more weight in the left tail of the distribution.\n",
    "\n",
    "----"
   ]
  },
  {
   "cell_type": "markdown",
   "metadata": {},
   "source": [
    "## Exercise 4 :  Kurtosis\n",
    "- Check the kurtosis of the two assets, using the scipy library. \n",
    "- Using the seaborn library, plot the distribution of XLE and XLI returns. \n",
    "\n",
    "Recall: \n",
    "- Kurtosis > 3 is leptokurtic, a highly peaked, narrow deviation from the mean\n",
    "- Kurtosis = 3 is mesokurtic. The most significant mesokurtic distribution is the normal distribution family. \n",
    "- Kurtosis < 3 is platykurtic, a lower-peaked, broad deviation from the mean "
   ]
  },
  {
   "cell_type": "code",
   "execution_count": 11,
   "metadata": {
    "scrolled": true
   },
   "outputs": [
    {
     "name": "stdout",
     "output_type": "stream",
     "text": [
      "kurtosis: 0.854981014172\n",
      "kurtosis: 2.17804780091\n"
     ]
    }
   ],
   "source": [
    "# Print value of Kurtosis for xle and xli returns \n",
    "\n",
    "print 'kurtosis:', stats.kurtosis(xle_returns)\n",
    "print 'kurtosis:', stats.kurtosis(xli_returns)"
   ]
  },
  {
   "cell_type": "code",
   "execution_count": 12,
   "metadata": {
    "scrolled": false
   },
   "outputs": [
    {
     "data": {
      "image/png": "[encoded data removed]",
      "text/plain": [
       "<matplotlib.figure.Figure at 0x7f200bc9ab90>"
      ]
     },
     "metadata": {},
     "output_type": "display_data"
    }
   ],
   "source": [
    "# Distribution plot of XLE returns in red (for Kurtosis of 1.6). \n",
    "# Distribution plot of XLI returns in blue (for Kurtosis of 2.0).\n",
    "\n",
    "xle = sns.distplot(xle_returns, color = 'r', axlabel  = 'xle')\n",
    "xli = sns.distplot(xli_returns, axlabel = 'xli');"
   ]
  },
  {
   "cell_type": "markdown",
   "metadata": {},
   "source": [
    "We can clearly see from the two graphs that as our kurtosis gets lower, the distribution gets more flat."
   ]
  },
  {
   "cell_type": "markdown",
   "metadata": {},
   "source": [
    "*This presentation is for informational purposes only and does not constitute an offer to sell, a solicitation to buy, or a recommendation for any security; nor does it constitute an offer to provide investment advisory or other services by Quantopian, Inc. (\"Quantopian\"). Nothing contained herein constitutes investment advice or offers any opinion with respect to the suitability of any security, and any views expressed herein should not be taken as advice to buy, sell, or hold any security or as an endorsement of any security or company.  In preparing the information contained herein, Quantopian, Inc. has not taken into account the investment needs, objectives, and financial circumstances of any particular investor. Any views expressed and data illustrated herein were prepared based upon information, believed to be reliable, available to Quantopian, Inc. at the time of publication. Quantopian makes no guarantees as to their accuracy or completeness. All information is subject to change and may quickly become unreliable for various reasons, including changes in market conditions or economic circumstances.*"
   ]
  }
 ],
 "metadata": {
  "kernelspec": {
   "display_name": "Python 2",
   "language": "python",
   "name": "python2"
  },
  "language_info": {
   "codemirror_mode": {
    "name": "ipython",
    "version": 2
   },
   "file_extension": ".py",
   "mimetype": "text/x-python",
   "name": "python",
   "nbconvert_exporter": "python",
   "pygments_lexer": "ipython2",
   "version": "2.7.10"
  }
 },
 "nbformat": 4,
 "nbformat_minor": 2
}
