{
 "cells": [
  {
   "cell_type": "markdown",
   "metadata": {
    "deletable": true,
    "editable": true
   },
   "source": [
    "#Exercises: Integration, Cointegration, and Stationarity \n",
    "by Delaney Granizo-Mackenzie and Maxwell Margenot\n",
    "\n",
    "## Lecture Link :\n",
    "https://www.quantopian.com/lectures/integration-cointegration-and-stationarity\n",
    "\n",
    "###IMPORTANT NOTE: \n",
    "This lecture corresponds to the Integration, Cointegration, and Stationarity lecture, which is part of the Quantopian lecture series. This homework expects you to rely heavily on the code presented in the corresponding lecture. Please copy and paste regularly from that lecture when starting to work on the problems, as trying to do them from scratch will likely be too difficult.\n",
    "\n",
    "Part of the Quantopian Lecture Series:\n",
    "\n",
    "* [www.quantopian.com/lectures](https://www.quantopian.com/lectures)\n",
    "* [github.com/quantopian/research_public](https://github.com/quantopian/research_public)\n",
    "----"
   ]
  },
  {
   "cell_type": "markdown",
   "metadata": {
    "deletable": true,
    "editable": true
   },
   "source": [
    "## Helper Functions"
   ]
  },
  {
   "cell_type": "code",
   "execution_count": null,
   "metadata": {
    "collapsed": true,
    "deletable": true,
    "editable": true
   },
   "outputs": [],
   "source": [
    "# Useful Functions\n",
    "def check_for_stationarity(X, cutoff=0.01):\n",
    "    # H_0 in adfuller is unit root exists (non-stationary)\n",
    "    # We must observe significant p-value to convince ourselves that the series is stationary\n",
    "    pvalue = adfuller(X)[1]\n",
    "    if pvalue < cutoff:\n",
    "        print 'p-value = ' + str(pvalue) + ' The series is likely stationary.'\n",
    "        return True\n",
    "    else:\n",
    "        print 'p-value = ' + str(pvalue) + ' The series is likely non-stationary.'\n",
    "        return False\n",
    "    \n",
    "def generate_datapoint(params):\n",
    "    mu = params[0]\n",
    "    sigma = params[1]\n",
    "    return np.random.normal(mu, sigma)"
   ]
  },
  {
   "cell_type": "code",
   "execution_count": null,
   "metadata": {
    "collapsed": true,
    "deletable": true,
    "editable": true
   },
   "outputs": [],
   "source": [
    "# Useful Libraries\n",
    "import numpy as np\n",
    "import pandas as pd\n",
    "\n",
    "import statsmodels\n",
    "import statsmodels.api as sm\n",
    "from statsmodels.tsa.stattools import coint, adfuller\n",
    "\n",
    "import matplotlib.pyplot as plt"
   ]
  },
  {
   "cell_type": "markdown",
   "metadata": {
    "deletable": true,
    "editable": true
   },
   "source": [
    "----"
   ]
  },
  {
   "cell_type": "markdown",
   "metadata": {
    "deletable": true,
    "editable": true
   },
   "source": [
    "#Exercise 1: Stationarity Testing\n",
    "\n",
    "##a. Checking For Stationarity\n",
    "\n",
    "Check whether the following series is stationary using the tests from the lecture."
   ]
  },
  {
   "cell_type": "code",
   "execution_count": null,
   "metadata": {
    "collapsed": false,
    "deletable": true,
    "editable": true
   },
   "outputs": [],
   "source": [
    "QQQ = get_pricing(\"QQQ\", start_date='2014-1-1', end_date='2015-1-1', fields='price')\n",
    "QQQ.name = QQQ.name.symbol\n",
    "\n",
    "# Your code goes here"
   ]
  },
  {
   "cell_type": "markdown",
   "metadata": {
    "deletable": true,
    "editable": true
   },
   "source": [
    "## b. Checking for Normality\n",
    "\n",
    "As an extra all-purpose check, and one that is often done on series, check whether the above series is normally distributed using the Jarque-Bera test."
   ]
  },
  {
   "cell_type": "code",
   "execution_count": null,
   "metadata": {
    "collapsed": false,
    "deletable": true,
    "editable": true
   },
   "outputs": [],
   "source": [
    "from statsmodels.stats.stattools import jarque_bera\n",
    "\n",
    "# Your code goes here"
   ]
  },
  {
   "cell_type": "markdown",
   "metadata": {
    "deletable": true,
    "editable": true
   },
   "source": [
    "##c. Constructing Examples I\n",
    "\n",
    "Create/provide a series that is stationary and different from any covered so far in the exercise or the lecture."
   ]
  },
  {
   "cell_type": "code",
   "execution_count": null,
   "metadata": {
    "collapsed": false,
    "deletable": true,
    "editable": true
   },
   "outputs": [],
   "source": [
    "# Your code goes here"
   ]
  },
  {
   "cell_type": "markdown",
   "metadata": {
    "deletable": true,
    "editable": true
   },
   "source": [
    "##d. Constructing Examples II\n",
    "\n",
    "Create/provide a series that is non-stationary and different from any covered so far in the exercise or the lecture."
   ]
  },
  {
   "cell_type": "code",
   "execution_count": null,
   "metadata": {
    "collapsed": true,
    "deletable": true,
    "editable": true
   },
   "outputs": [],
   "source": [
    "# Your code goes here"
   ]
  },
  {
   "cell_type": "markdown",
   "metadata": {
    "deletable": true,
    "editable": true
   },
   "source": [
    "----"
   ]
  },
  {
   "cell_type": "markdown",
   "metadata": {
    "deletable": true,
    "editable": true
   },
   "source": [
    "# Exercise 2: Estimate Order of Integration\n",
    "\n",
    "Use the techniques laid out in the lecture notebook to estimate the order of integration for the following timeseries."
   ]
  },
  {
   "cell_type": "code",
   "execution_count": null,
   "metadata": {
    "collapsed": false,
    "deletable": true,
    "editable": true
   },
   "outputs": [],
   "source": [
    "QQQ = get_pricing(\"QQQ\", start_date='2014-1-1', end_date='2015-1-1', fields='price')\n",
    "QQQ.name = QQQ.name.symbol\n",
    "\n",
    "# Write code to estimate the order of integration of QQQ.\n",
    "# Feel free to sample from the code provided in the lecture."
   ]
  },
  {
   "cell_type": "markdown",
   "metadata": {
    "deletable": true,
    "editable": true
   },
   "source": [
    "----"
   ]
  },
  {
   "cell_type": "markdown",
   "metadata": {
    "deletable": true,
    "editable": true
   },
   "source": [
    "#Exercise 3: Find a Stationary Linear (Cointegrated) Combination\n",
    "\n",
    "Use the techniques laid out in the lecture notebook to find a linear combination of the following timeseries that is stationary."
   ]
  },
  {
   "cell_type": "code",
   "execution_count": null,
   "metadata": {
    "collapsed": false,
    "deletable": true,
    "editable": true
   },
   "outputs": [],
   "source": [
    "T = 500\n",
    "\n",
    "X1 = pd.Series(index=range(T))\n",
    "X1.name = 'X1'\n",
    "\n",
    "for t in range(T):\n",
    "    # Now the parameters are dependent on time\n",
    "    # Specifically, the mean of the series changes over time\n",
    "    params = (t * 0.1, 1)\n",
    "    X1[t] = generate_datapoint(params)\n",
    "\n",
    "X2 = np.power(X1, 2) + X1\n",
    "X3 = np.power(X1, 3) + X1\n",
    "X4 = np.sin(X1) + X1\n",
    "\n",
    "# We now have 4 time series, X1, X2, X3, X4\n",
    "# Determine a linear combination of the 4 that is stationary over the \n",
    "# time period shown using the techniques in the lecture."
   ]
  },
  {
   "cell_type": "markdown",
   "metadata": {},
   "source": [
    "---\n",
    "\n",
    "Congratulations on completing the Integration, Cointegration, and Stationarity exercises!\n",
    "\n",
    "As you learn more about writing trading models and the Quantopian platform, enter the daily [Quantopian Contest](https://www.quantopian.com/contest). Your strategy will be evaluated for a cash prize every day.\n",
    "\n",
    "Start by going through the [Writing a Contest Algorithm](https://www.quantopian.com/tutorials/contest) tutorial."
   ]
  },
  {
   "cell_type": "markdown",
   "metadata": {
    "deletable": true,
    "editable": true
   },
   "source": [
    "*This presentation is for informational purposes only and does not constitute an offer to sell, a solicitation to buy, or a recommendation for any security; nor does it constitute an offer to provide investment advisory or other services by Quantopian, Inc. (\"Quantopian\"). Nothing contained herein constitutes investment advice or offers any opinion with respect to the suitability of any security, and any views expressed herein should not be taken as advice to buy, sell, or hold any security or as an endorsement of any security or company.  In preparing the information contained herein, Quantopian, Inc. has not taken into account the investment needs, objectives, and financial circumstances of any particular investor. Any views expressed and data illustrated herein were prepared based upon information, believed to be reliable, available to Quantopian, Inc. at the time of publication. Quantopian makes no guarantees as to their accuracy or completeness. All information is subject to change and may quickly become unreliable for various reasons, including changes in market conditions or economic circumstances.*"
   ]
  }
 ],
 "metadata": {
  "kernelspec": {
   "display_name": "Python 2",
   "language": "python",
   "name": "python2"
  },
  "language_info": {
   "codemirror_mode": {
    "name": "ipython",
    "version": 2
   },
   "file_extension": ".py",
   "mimetype": "text/x-python",
   "name": "python",
   "nbconvert_exporter": "python",
   "pygments_lexer": "ipython2",
   "version": "2.7.12"
  }
 },
 "nbformat": 4,
 "nbformat_minor": 0
}
