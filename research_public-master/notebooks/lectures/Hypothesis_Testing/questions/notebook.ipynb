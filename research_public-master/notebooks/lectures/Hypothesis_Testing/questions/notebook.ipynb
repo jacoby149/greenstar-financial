{
 "cells": [
  {
   "cell_type": "markdown",
   "metadata": {
    "deletable": true,
    "editable": true
   },
   "source": [
    "#Exercises: Hypothesis Testing\n",
    "By Christopher van Hoecke and Maxwell Margenot\n",
    "\n",
    "## Lecture Link\n",
    "\n",
    "https://www.quantopian.com/lectures/hypothesis-testing\n",
    "\n",
    "###IMPORTANT NOTE: \n",
    "This lecture corresponds to the Hypothesis Testing lecture, which is part of the Quantopian lecture series. This homework expects you to rely heavily on the code presented in the corresponding lecture. Please copy and paste regularly from that lecture when starting to work on the problems, as trying to do them from scratch will likely be too difficult.\n",
    "\n",
    "When you feel comfortable with the topics presented here, see if you can create an algorithm that qualifies for the Quantopian Contest. Participants are evaluated on their ability to produce risk-constrained alpha and the top 10 contest participants are awarded cash prizes on a daily basis.\n",
    "\n",
    "https://www.quantopian.com/contest\n",
    "\n",
    "Part of the Quantopian Lecture Series:\n",
    "\n",
    "* [www.quantopian.com/lectures](https://www.quantopian.com/lectures)\n",
    "* [github.com/quantopian/research_public](https://github.com/quantopian/research_public)\n",
    "\n",
    "----"
   ]
  },
  {
   "cell_type": "code",
   "execution_count": null,
   "metadata": {
    "collapsed": true,
    "deletable": true,
    "editable": true
   },
   "outputs": [],
   "source": [
    "# Useful Libraries\n",
    "import pandas as pd\n",
    "import numpy as np\n",
    "import matplotlib.pyplot as plt\n",
    "from scipy.stats import t\n",
    "import scipy.stats"
   ]
  },
  {
   "cell_type": "markdown",
   "metadata": {
    "deletable": true,
    "editable": true
   },
   "source": [
    "# Exercise 1: Hypothesis Testing.\n",
    "## a. One tail test. \n",
    "\n",
    "Using the techniques laid out in lecture, verify if we can state that the returns of TSLA **are greater** than 0.\n",
    "- Start by stating the null and alternative hypothesis\n",
    "    - Are we dealing with a one or two tailed test? Why? \n",
    "- Calculate the mean differences, and the Z-test using the formula provided in class. \n",
    "    - *Recall: This is a one parameter test, use the appropriate Z-test*\n",
    "- Use the stat library to calculate the associated p value with your t statistic. \n",
    "    - Compare your found p-value to the set $\\alpha$ value, and conclude. \n",
    "    \n",
    "\n",
    "###### Useful Formulas: \n",
    "$$ \\text{Test statistic} =  \\frac{\\bar{X}*\\mu - \\theta_0}{s*{\\bar{X}}} = \\frac{\\bar{X}_\\mu - 0}{s\\sqrt{n}} $$  "
   ]
  },
  {
   "cell_type": "code",
   "execution_count": null,
   "metadata": {
    "collapsed": true,
    "deletable": true,
    "editable": true
   },
   "outputs": [],
   "source": [
    "prices1 = get_pricing('TSLA', start_date = '2015-01-01', end_date = '2016-01-01', fields = 'price')\n",
    "returns_sample_tsla = prices1.pct_change()[1:]\n",
    "\n",
    "print 'Tesla return sample mean', returns_sample_tsla.mean()\n",
    "print 'Tesla return sample standard deviation', returns_sample_tsla.std()\n",
    "print 'Tesla return sample size', len(returns_sample_tsla)"
   ]
  },
  {
   "cell_type": "markdown",
   "metadata": {
    "deletable": true,
    "editable": true
   },
   "source": [
    "Write your hypotheses here:"
   ]
  },
  {
   "cell_type": "code",
   "execution_count": null,
   "metadata": {
    "collapsed": true,
    "deletable": true,
    "editable": true
   },
   "outputs": [],
   "source": [
    "# Testing\n",
    "\n",
    "## Your code goes here\n",
    "\n",
    "## Sample mean difference: \n",
    "\n",
    "\n",
    "## Z- Statistic: \n",
    "\n",
    "print 't-statistic is:', test_stat\n",
    "\n",
    "## Finding the p-value for one tail test\n",
    "\n",
    "print 'p-value is: ', p_val"
   ]
  },
  {
   "cell_type": "markdown",
   "metadata": {
    "deletable": true,
    "editable": true
   },
   "source": [
    "## b. Two tailed test. \n",
    "\n",
    "Using the techniques laid out in lecture, verify if we can state that the returns of TSLA **are equal** to 0.\n",
    "- Start by stating the null and alternative hypothesis\n",
    "    - Are we dealing with a one or two tailed test? Why? \n",
    "- Calculate the mean differences, and the Z-test using the formula provided in class. \n",
    "    - *Recall: This is a one parameter test, use the appropriate Z-test*\n",
    "- Use the stat library to calculate the associated p value with your t statistic. \n",
    "    - Compare your found p-value to the set $\\alpha$ value, and conclude. "
   ]
  },
  {
   "cell_type": "markdown",
   "metadata": {
    "deletable": true,
    "editable": true
   },
   "source": [
    "###### Hypotheses.\n",
    "<center>_Your answer goes here_</center>"
   ]
  },
  {
   "cell_type": "code",
   "execution_count": null,
   "metadata": {
    "collapsed": true,
    "deletable": true,
    "editable": true
   },
   "outputs": [],
   "source": [
    "## Your code goes here\n",
    "\n",
    "## Sample mean difference: \n",
    "\n",
    "\n",
    "## Z- Statistic: \n",
    "\n",
    "print 't-statistic is:', test_stat\n",
    "\n",
    "## Finding the p-value for one tail test\n",
    "\n",
    "print 'p-value is: ', p_val"
   ]
  },
  {
   "cell_type": "markdown",
   "metadata": {
    "deletable": true,
    "editable": true
   },
   "source": [
    "----"
   ]
  },
  {
   "cell_type": "markdown",
   "metadata": {
    "deletable": true,
    "editable": true
   },
   "source": [
    "# Exercise 2: \n",
    "## a. Critical Values. \n",
    "Find the critical values associated with $\\alpha = 1\\%, 5\\%, 10\\%$ and graph the rejection regions on a plot for a two tailed test. \n",
    "\n",
    "Useful formulas: \n",
    "$$ f = 1 - \\frac{\\alpha}{2} $$ \n",
    "\n",
    "In order to find the z-value associated with each f value use the [z-table](http://www.stat.ufl.edu/~athienit/Tables/Ztable.pdf) here.   \n",
    "*You can read more about how to read z-tables [here](http://www.dummies.com/education/math/statistics/how-to-find-probabilities-for-z-with-the-z-table/)*"
   ]
  },
  {
   "cell_type": "code",
   "execution_count": null,
   "metadata": {
    "collapsed": true,
    "deletable": true,
    "editable": true
   },
   "outputs": [],
   "source": [
    "## Your code goes here\n",
    "\n",
    "# For alpha = 10%\n",
    "alpha = 0.1\n",
    "f =\n",
    "print 'alpha = 10%: f = ', f\n",
    "\n",
    "# For alpha = 5%\n",
    "alpha = 0.05\n",
    "f = \n",
    "print 'alpha = 5%: f = ', f\n",
    "\n",
    "# For alpha = 1%\n",
    "alpha = 0.01\n",
    "f = \n",
    "print 'alpha = 1%: f = ', f"
   ]
  },
  {
   "cell_type": "code",
   "execution_count": null,
   "metadata": {
    "collapsed": true,
    "deletable": true,
    "editable": true
   },
   "outputs": [],
   "source": [
    "# Plot a standard normal distribution and mark the critical regions with shading\n",
    "x = np.linspace(-3, 3, 100)\n",
    "norm_pdf = lambda x: (1/np.sqrt(2 * np.pi)) * np.exp(-x * x / 2)\n",
    "y = norm_pdf(x)\n",
    "\n",
    "fig, ax = plt.subplots(1, 1, sharex=True)\n",
    "ax.plot(x, y)\n",
    "\n",
    "# Value for alpha = 1%\n",
    "ax.fill_between(x, 0, y, where =  x > ## Your code goes here\n",
    "                , label = 'alpha = 10%')\n",
    "ax.fill_between(x, 0, y, where = x < ) ## Your code goes here\n",
    "\n",
    "# Value for alpha = 5%\n",
    "ax.fill_between(x, 0, y, where = x > ## Your code goes here\n",
    "                , color = 'red', label = 'alpha = 5%')\n",
    "ax.fill_between(x, 0, y, where = x < ## Your code goes here\n",
    "                , color = 'red')\n",
    "\n",
    "#Value for alpha = 10%\n",
    "ax.fill_between(x, 0, y, where = x > ## Your code goes here\n",
    "                , facecolor='green', label = 'alpha = 1%')\n",
    "ax.fill_between(x, 0, y, where = x < ## Your code goes here\n",
    "                , facecolor='green')\n",
    "\n",
    "plt.title('Rejection regions for a two-tailed hypothesis test at 90%, 95%, 99% confidence')\n",
    "plt.xlabel('x')\n",
    "plt.ylabel('p(x)')\n",
    "plt.legend();"
   ]
  },
  {
   "cell_type": "markdown",
   "metadata": {
    "deletable": true,
    "editable": true
   },
   "source": [
    "## b. Mean T-Test\n",
    "Run a T-test on the SPY returns, to determine if the mean returns is 0.01.   \n",
    "- Find the two critical values for a 90% two tailed $z$-test\n",
    "- Use the formula above to run a t-test on the sample data.\n",
    "- Conclude about the test results."
   ]
  },
  {
   "cell_type": "code",
   "execution_count": null,
   "metadata": {
    "collapsed": true,
    "deletable": true,
    "editable": true
   },
   "outputs": [],
   "source": [
    "# Calculating Critical Values probability\n",
    "\n",
    "alpha = 0.1\n",
    "f = ## Your code goes here\n",
    "print f"
   ]
  },
  {
   "cell_type": "code",
   "execution_count": null,
   "metadata": {
    "collapsed": true,
    "deletable": true,
    "editable": true
   },
   "outputs": [],
   "source": [
    "data = get_pricing('SPY', start_date = '2016-01-01', end_date = '2017-01-01', fields = 'price')\n",
    "returns_sample = data.pct_change()[1:]\n",
    "\n",
    "# Running the T-test.\n",
    "n = len(returns_sample)\n",
    "\n",
    "test_statistic = ## Your code goes here\n",
    "print 't test statistic: ', test_statistic"
   ]
  },
  {
   "cell_type": "markdown",
   "metadata": {
    "collapsed": true,
    "deletable": true,
    "editable": true
   },
   "source": [
    "# c. Mean p-value test\n",
    "Given the returns data above, use the p-value to determine the results of the previous hypothesis test. "
   ]
  },
  {
   "cell_type": "code",
   "execution_count": null,
   "metadata": {
    "collapsed": true,
    "deletable": true,
    "editable": true
   },
   "outputs": [],
   "source": [
    "# Running p-value test. \n",
    "\n",
    "alpha = 0.1\n",
    "p_val = ## Your code goes here\n",
    "print 'p-value is: ', p_val"
   ]
  },
  {
   "cell_type": "markdown",
   "metadata": {
    "deletable": true,
    "editable": true
   },
   "source": [
    "----"
   ]
  },
  {
   "cell_type": "markdown",
   "metadata": {
    "collapsed": true,
    "deletable": true,
    "editable": true
   },
   "source": [
    "# Exercise 3: Multiple Variables Tests.\n",
    "## a. Hypothesis testing on Means.\n",
    "- State the hypothesis tests for comparing two means\n",
    "- Find the test statistic along with the degrees of freedom for the following two assets. Assume variance is different (We assume XLF to be a safer buy than GS. \n",
    "- Use the [t-table](https://en.wikipedia.org/wiki/Student%27s_t-distribution#Table_of_selected_values) to conclude about your hypothesis test. *Pick $\\alpha = 10\\%$*\n",
    "\n",
    "######Useful Formulas: \n",
    "$$ t = \\frac{\\bar{X}_1 - \\bar{X}_2}{(\\frac{s_p^2}{n_1} + \\frac{s_p^2}{n_2})^{1/2}}$$\n",
    "$$ t = \\frac{\\bar{X}_1 - \\bar{X}_2}{(\\frac{s_1^2}{n_1} + \\frac{s_2^2}{n_2})^{1/2}}$$\n",
    "$$df = \\frac{(\\frac{s_1^2}{n_1} + \\frac{s_2^2}{n_2})^2}{(s_1^2/n_1)^2/(n_1-1) + (s_2^2/n_2)^2/(n_2-1)}$$\n",
    "\n",
    "*note: one formula for t involves equal variance, the other does not. Use the right one given the information above*\n",
    "\n",
    "\n",
    "-----------------"
   ]
  },
  {
   "cell_type": "markdown",
   "metadata": {
    "deletable": true,
    "editable": true
   },
   "source": [
    "Write your hypotheses here:"
   ]
  },
  {
   "cell_type": "code",
   "execution_count": null,
   "metadata": {
    "collapsed": true,
    "deletable": true,
    "editable": true
   },
   "outputs": [],
   "source": [
    "# Data Collection\n",
    "alpha = 0.1\n",
    "symbol_list = ['XLF', 'MCD']\n",
    "start = '2015-01-01'\n",
    "end = '2016-01-01'\n",
    "\n",
    "pricing_sample = get_pricing(symbol_list, start_date = start, end_date = end, fields='price')\n",
    "pricing_sample.columns = map(lambda x: x.symbol, pricing_sample.columns)\n",
    "returns_sample = pricing_sample.pct_change()[1:]\n",
    "\n",
    "\n",
    "# Sample mean values\n",
    "mu_xlf, mu_gs = returns_sample.mean()\n",
    "s_xlf, s_gs = returns_sample.std()\n",
    "n_xlf = len(returns_sample['XLF'])\n",
    "n_gs = len(returns_sample['MCD'])\n",
    "\n",
    "test_statistic = ## Your code goes here\n",
    "df = ## Your code goes here\n",
    "\n",
    "print 't test statistic: ', test_statistic\n",
    "print 'Degrees of freedom (modified): ', df\n",
    "print 'p-value: ', ## Your code goes here"
   ]
  },
  {
   "cell_type": "markdown",
   "metadata": {
    "deletable": true,
    "editable": true
   },
   "source": [
    "## b. Hypothesis Testing on Variances. \n",
    "- State the hypothesis tests for comparing two means. \n",
    "- Calculate the returns and compare their variances.\n",
    "- Calculate the F-test using the variances\n",
    "- Check that both values have the same degrees of freedom. "
   ]
  },
  {
   "cell_type": "markdown",
   "metadata": {
    "collapsed": true,
    "deletable": true,
    "editable": true
   },
   "source": [
    "Write your hypotheses here:"
   ]
  },
  {
   "cell_type": "code",
   "execution_count": null,
   "metadata": {
    "collapsed": true,
    "deletable": true,
    "editable": true
   },
   "outputs": [],
   "source": [
    "# Data\n",
    "symbol_list = ['XLF', 'MCD']\n",
    "start = \"2015-01-01\"\n",
    "end = \"2016-01-01\"\n",
    "pricing_sample = get_pricing(symbol_list, start_date = start, end_date = end, fields = 'price')\n",
    "pricing_sample.columns = map(lambda x: x.symbol, pricing_sample.columns)\n",
    "returns_sample = pricing_sample.pct_change()[1:]\n",
    "\n",
    "# Take returns from above, MCD and XLF, and compare their variances\n",
    "\n",
    "## Your code goes here\n",
    "\n",
    "print 'XLF standard deviation is: ', xlf_std_dev\n",
    "print 'MCD standard deviation is: ', mcd_std_dev\n",
    "\n",
    "# Calculate F-test with MCD.std > XLF.std\n",
    "\n",
    "## Your code goes here\n",
    "\n",
    "print \"F Test statistic: \", test_statistic\n",
    "\n",
    "#degree of freedom \n",
    "df1 = ## Your code goes here\n",
    "df2 = ## Your code goe here\n",
    "print df1\n",
    "print df2\n",
    "\n",
    "# Calculate critical values. \n",
    "from scipy.stats import f\n",
    "\n",
    "upper_crit_value = f.ppf(0.975, df1, df2)\n",
    "lower_crit_value = f.ppf(0.025, df1, df2)\n",
    "print 'Upper critical value at a = 0.05 with df1 = {0} and df2 = {1}: '.format(df1, df2), upper_crit_value\n",
    "print 'Lower critical value at a = 0.05 with df1 = {0} and df2 = {1}: '.format(df1, df2), lower_crit_value"
   ]
  },
  {
   "cell_type": "markdown",
   "metadata": {},
   "source": [
    "---\n",
    "\n",
    "Congratulations on completing the Hypothesis Testing exercises!\n",
    "\n",
    "As you learn more about writing trading models and the Quantopian platform, enter the daily [Quantopian Contest](https://www.quantopian.com/contest). Your strategy will be evaluated for a cash prize every day.\n",
    "\n",
    "Start by going through the [Writing a Contest Algorithm](https://www.quantopian.com/tutorials/contest) tutorial."
   ]
  },
  {
   "cell_type": "markdown",
   "metadata": {
    "collapsed": true,
    "deletable": true,
    "editable": true
   },
   "source": [
    "*This presentation is for informational purposes only and does not constitute an offer to sell, a solicitation to buy, or a recommendation for any security; nor does it constitute an offer to provide investment advisory or other services by Quantopian, Inc. (\"Quantopian\"). Nothing contained herein constitutes investment advice or offers any opinion with respect to the suitability of any security, and any views expressed herein should not be taken as advice to buy, sell, or hold any security or as an endorsement of any security or company.  In preparing the information contained herein, Quantopian, Inc. has not taken into account the investment needs, objectives, and financial circumstances of any particular investor. Any views expressed and data illustrated herein were prepared based upon information, believed to be reliable, available to Quantopian, Inc. at the time of publication. Quantopian makes no guarantees as to their accuracy or completeness. All information is subject to change and may quickly become unreliable for various reasons, including changes in market conditions or economic circumstances.*"
   ]
  }
 ],
 "metadata": {
  "kernelspec": {
   "display_name": "Python 2",
   "language": "python",
   "name": "python2"
  },
  "language_info": {
   "codemirror_mode": {
    "name": "ipython",
    "version": 2
   },
   "file_extension": ".py",
   "mimetype": "text/x-python",
   "name": "python",
   "nbconvert_exporter": "python",
   "pygments_lexer": "ipython2",
   "version": "2.7.12"
  }
 },
 "nbformat": 4,
 "nbformat_minor": 2
}
