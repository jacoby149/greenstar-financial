{
 "cells": [
  {
   "cell_type": "markdown",
   "metadata": {
    "deletable": true,
    "editable": true
   },
   "source": [
    "# Exercises: Variance\n",
    "By Christopher van Hoecke, Maxwell Margenot, and Delaney Mackenzie\n",
    "\n",
    "## Lecture Link :\n",
    "https://www.quantopian.com/lectures/variance\n",
    "\n",
    "### IMPORTANT NOTE: \n",
    "This lecture corresponds to the Variance lecture, which is part of the Quantopian lecture series. This homework expects you to rely heavily on the code presented in the corresponding lecture. Please copy and paste regularly from that lecture when starting to work on the problems, as trying to do them from scratch will likely be too difficult.\n",
    "\n",
    "Part of the Quantopian Lecture Series:\n",
    "\n",
    "* [www.quantopian.com/lectures](https://www.quantopian.com/lectures)\n",
    "* [github.com/quantopian/research_public](https://github.com/quantopian/research_public)\n",
    "\n",
    "-----"
   ]
  },
  {
   "cell_type": "code",
   "execution_count": null,
   "metadata": {
    "collapsed": true,
    "deletable": true,
    "editable": true
   },
   "outputs": [],
   "source": [
    "# Useful Libraries\n",
    "import pandas as pd\n",
    "import numpy as np\n",
    "import matplotlib.pyplot as plt"
   ]
  },
  {
   "cell_type": "markdown",
   "metadata": {
    "deletable": true,
    "editable": true
   },
   "source": [
    "#### Data:"
   ]
  },
  {
   "cell_type": "code",
   "execution_count": null,
   "metadata": {
    "collapsed": true,
    "deletable": true,
    "editable": true
   },
   "outputs": [],
   "source": [
    "X = np.random.randint(100, size = 100)"
   ]
  },
  {
   "cell_type": "markdown",
   "metadata": {
    "deletable": true,
    "editable": true
   },
   "source": [
    "---"
   ]
  },
  {
   "cell_type": "markdown",
   "metadata": {
    "deletable": true,
    "editable": true
   },
   "source": [
    "# Exercise 1: \n",
    "Using the skills aquired in the lecture series, find the following parameters of the list X above:\n",
    "- Range\n",
    "- Mean Absolute Deviation\n",
    "- Variance and Standard Deviation\n",
    "- Semivariance and Semideviation\n",
    "- Target variance (with B = 60)"
   ]
  },
  {
   "cell_type": "code",
   "execution_count": null,
   "metadata": {
    "collapsed": false,
    "deletable": true,
    "editable": true
   },
   "outputs": [],
   "source": [
    "# Range of X\n",
    "range_X =\n",
    "\n",
    "## Your code goes here\n",
    "print 'Range of X: %s' %(range_X)"
   ]
  },
  {
   "cell_type": "code",
   "execution_count": null,
   "metadata": {
    "collapsed": false,
    "deletable": true,
    "editable": true
   },
   "outputs": [],
   "source": [
    "# Mean Absolute Deviation\n",
    "# First calculate the value of mu (the mean)\n",
    "\n",
    "mu = np.mean(X)\n",
    "\n",
    "## Your code goes here\n",
    "print 'Mean absolute deviation of X:', MAD"
   ]
  },
  {
   "cell_type": "code",
   "execution_count": null,
   "metadata": {
    "collapsed": false,
    "deletable": true,
    "editable": true
   },
   "outputs": [],
   "source": [
    "# Variance and standard deviation\n",
    "\n",
    "## Your code goes here\n",
    "\n",
    "print 'Variance of X:',\n",
    "print 'Standard deviation of X:',"
   ]
  },
  {
   "cell_type": "code",
   "execution_count": null,
   "metadata": {
    "collapsed": false,
    "deletable": true,
    "editable": true
   },
   "outputs": [],
   "source": [
    "# Semivariance and semideviation\n",
    "\n",
    "## Your code goes here\n",
    "\n",
    "print 'Semivariance of X:', \n",
    "print 'Semideviation of X:', "
   ]
  },
  {
   "cell_type": "code",
   "execution_count": null,
   "metadata": {
    "collapsed": false,
    "deletable": true,
    "editable": true
   },
   "outputs": [],
   "source": [
    "# Target variance\n",
    "\n",
    "## Your code goes here\n",
    "\n",
    "print 'Target semivariance of X:',\n",
    "print 'Target semideviation of X:', "
   ]
  },
  {
   "cell_type": "markdown",
   "metadata": {
    "deletable": true,
    "editable": true
   },
   "source": [
    "---"
   ]
  },
  {
   "cell_type": "markdown",
   "metadata": {
    "deletable": true,
    "editable": true
   },
   "source": [
    "# Exercise 2:\n",
    "Using the skills aquired in the lecture series, find the following parameters of prices for AT&T stock over a year:\n",
    "- 30 days rolling variance \n",
    "- 15 days rolling Standard Deviation"
   ]
  },
  {
   "cell_type": "code",
   "execution_count": null,
   "metadata": {
    "collapsed": false,
    "deletable": true,
    "editable": true
   },
   "outputs": [],
   "source": [
    "att = get_pricing('T', fields='open_price', start_date='2016-01-01', end_date='2017-01-01')"
   ]
  },
  {
   "cell_type": "code",
   "execution_count": null,
   "metadata": {
    "collapsed": false,
    "deletable": true,
    "editable": true
   },
   "outputs": [],
   "source": [
    "# Rolling mean\n",
    "\n",
    "## Your code goes here"
   ]
  },
  {
   "cell_type": "code",
   "execution_count": null,
   "metadata": {
    "collapsed": true,
    "deletable": true,
    "editable": true
   },
   "outputs": [],
   "source": [
    "# Rolling standard deviation\n",
    "\n",
    "## Your code goes here"
   ]
  },
  {
   "cell_type": "markdown",
   "metadata": {
    "deletable": true,
    "editable": true
   },
   "source": [
    "---"
   ]
  },
  {
   "cell_type": "markdown",
   "metadata": {
    "deletable": true,
    "editable": true
   },
   "source": [
    "# Exercise 3 : \n",
    "The portfolio variance is calculated as\n",
    "\n",
    "$$\\text{VAR}_p = \\text{VAR}_{s1} (w_1^2) + \\text{VAR}_{s2}(w_2^2) + \\text{COV}_{S_1, S_2} (2 w_1 w_2)$$\n",
    "\n",
    "Where $w_1$ and $w_2$ are the weights of $S_1$ and $S_2$.\n",
    "\n",
    "Find values of $w_1$ and $w_2$ to have a portfolio variance of 50. "
   ]
  },
  {
   "cell_type": "code",
   "execution_count": null,
   "metadata": {
    "collapsed": false,
    "deletable": true,
    "editable": true
   },
   "outputs": [],
   "source": [
    "asset1 = get_pricing('AAPL', fields='open_price', start_date='2016-01-01', end_date='2017-01-01')\n",
    "asset2 = get_pricing('XLF', fields='open_price', start_date='2016-01-01', end_date='2017-01-01')\n",
    "\n",
    "cov = np.cov(asset1, asset2)[0,1]\n",
    "\n",
    "w1 = ## Your code goes here.\n",
    "w2 = 1 - w1\n",
    "\n",
    "v1 = np.var(asset1)\n",
    "v2 = np.var(asset2)\n",
    "\n",
    "pvariance = (w1**2)*v1+(w2**2)*v2+(2*w1*w2)*cov\n",
    "\n",
    "print 'Portfolio variance: ', pvariance"
   ]
  },
  {
   "cell_type": "markdown",
   "metadata": {
    "deletable": true,
    "editable": true
   },
   "source": [
    "---\n",
    "\n",
    "Congratulations on completing the Variance exercises!\n",
    "\n",
    "As you learn more about writing trading models and the Quantopian platform, enter a daily [Quantopian Contest](https://www.quantopian.com/contest). Your strategy will be evaluated for a cash prize every day.\n",
    "\n",
    "Start by going through the [Writing a Contest Algorithm](https://www.quantopian.com/tutorials/contest) tutorial."
   ]
  },
  {
   "cell_type": "markdown",
   "metadata": {
    "deletable": true,
    "editable": true
   },
   "source": [
    "*This presentation is for informational purposes only and does not constitute an offer to sell, a solicitation to buy, or a recommendation for any security; nor does it constitute an offer to provide investment advisory or other services by Quantopian, Inc. (\"Quantopian\"). Nothing contained herein constitutes investment advice or offers any opinion with respect to the suitability of any security, and any views expressed herein should not be taken as advice to buy, sell, or hold any security or as an endorsement of any security or company.  In preparing the information contained herein, Quantopian, Inc. has not taken into account the investment needs, objectives, and financial circumstances of any particular investor. Any views expressed and data illustrated herein were prepared based upon information, believed to be reliable, available to Quantopian, Inc. at the time of publication. Quantopian makes no guarantees as to their accuracy or completeness. All information is subject to change and may quickly become unreliable for various reasons, including changes in market conditions or economic circumstances.*"
   ]
  }
 ],
 "metadata": {
  "kernelspec": {
   "display_name": "Python 2",
   "language": "python",
   "name": "python2"
  },
  "language_info": {
   "codemirror_mode": {
    "name": "ipython",
    "version": 2
   },
   "file_extension": ".py",
   "mimetype": "text/x-python",
   "name": "python",
   "nbconvert_exporter": "python",
   "pygments_lexer": "ipython2",
   "version": "2.7.12"
  }
 },
 "nbformat": 4,
 "nbformat_minor": 2
}
