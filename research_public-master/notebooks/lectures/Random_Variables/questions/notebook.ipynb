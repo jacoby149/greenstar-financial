{
 "cells": [
  {
   "cell_type": "markdown",
   "metadata": {
    "deletable": true,
    "editable": true
   },
   "source": [
    "# Exercises: Random Variables\n",
    "By Christopher van Hoecke, Max Margenot, and Delaney Mackenzie\n",
    "\n",
    "## Lecture Link : \n",
    "https://www.quantopian.com/lectures/random-variables\n",
    "\n",
    "### IMPORTANT NOTE: \n",
    "This lecture corresponds to the Random Variables lecture, which is part of the Quantopian lecture series. This homework expects you to rely heavily on the code presented in the corresponding lecture. Please copy and paste regularly from that lecture when starting to work on the problems, as trying to do them from scratch will likely be too difficult.\n",
    "\n",
    "Part of the Quantopian Lecture Series:\n",
    "\n",
    "* [www.quantopian.com/lectures](https://www.quantopian.com/lectures)\n",
    "* [github.com/quantopian/research_public](https://github.com/quantopian/research_public)\n",
    "\n",
    "----"
   ]
  },
  {
   "cell_type": "markdown",
   "metadata": {
    "deletable": true,
    "editable": true
   },
   "source": [
    "## Key Concepts"
   ]
  },
  {
   "cell_type": "code",
   "execution_count": null,
   "metadata": {
    "collapsed": true,
    "deletable": true,
    "editable": true
   },
   "outputs": [],
   "source": [
    "# Useful Functions\n",
    "class DiscreteRandomVariable:\n",
    "    def __init__(self, a=0, b=1):\n",
    "        self.variableType = \"\"\n",
    "        self.low = a\n",
    "        self.high = b\n",
    "        return\n",
    "    def draw(self, numberOfSamples):\n",
    "        samples = np.random.randint(self.low, self.high, numberOfSamples)\n",
    "        return samples\n",
    "    \n",
    "class BinomialRandomVariable(DiscreteRandomVariable):\n",
    "    def __init__(self, numberOfTrials = 10, probabilityOfSuccess = 0.5):\n",
    "        self.variableType = \"Binomial\"\n",
    "        self.numberOfTrials = numberOfTrials\n",
    "        self.probabilityOfSuccess = probabilityOfSuccess\n",
    "        return\n",
    "    def draw(self, numberOfSamples):\n",
    "        samples = np.random.binomial(self.numberOfTrials, self.probabilityOfSuccess, numberOfSamples)\n",
    "        return samples\n",
    "    \n",
    "def factorial(n):return reduce(lambda x,y:x*y,[1]+range(1,n+1))"
   ]
  },
  {
   "cell_type": "code",
   "execution_count": null,
   "metadata": {
    "collapsed": false,
    "deletable": true,
    "editable": true
   },
   "outputs": [],
   "source": [
    "# Useful Libraries\n",
    "import pandas as pd\n",
    "import numpy as np\n",
    "import matplotlib.pyplot as plt\n",
    "import statsmodels.stats as stats\n",
    "from statsmodels.stats import stattools\n",
    "from __future__ import division"
   ]
  },
  {
   "cell_type": "markdown",
   "metadata": {
    "deletable": true,
    "editable": true
   },
   "source": [
    "---"
   ]
  },
  {
   "cell_type": "markdown",
   "metadata": {
    "collapsed": true,
    "deletable": true,
    "editable": true
   },
   "source": [
    "# Exercise 1 : Uniform Distribution\n",
    "- Plot the histogram of 10 tosses with a fair coin (let 1 be heads and 2 be tails).  \n",
    "- Plot the histogram of 1000000 tosses of a fair coin "
   ]
  },
  {
   "cell_type": "code",
   "execution_count": null,
   "metadata": {
    "collapsed": false,
    "deletable": true,
    "editable": true
   },
   "outputs": [],
   "source": [
    "# Histograms with 10 tosses. \n",
    "\n",
    "## Your code goes here\n",
    "\n",
    "plt.xlabel('Value')\n",
    "plt.ylabel('Occurences')\n",
    "plt.legend(['Coin Tosses']);"
   ]
  },
  {
   "cell_type": "code",
   "execution_count": null,
   "metadata": {
    "collapsed": false,
    "deletable": true,
    "editable": true
   },
   "outputs": [],
   "source": [
    "# Histograms with 1000000 tosses. \n",
    "\n",
    "## Your code goes here\n",
    "\n",
    "plt.xlabel('Value')\n",
    "plt.ylabel('Occurences')\n",
    "plt.legend(['Coin Tosses']);"
   ]
  },
  {
   "cell_type": "markdown",
   "metadata": {
    "deletable": true,
    "editable": true
   },
   "source": [
    "---"
   ]
  },
  {
   "cell_type": "markdown",
   "metadata": {
    "deletable": true,
    "editable": true
   },
   "source": [
    "# Exercise 2 :  Binomial Distributions.\n",
    "- Graph the histogram of 1000000 samples from a binomial distribution of probability 0.25 and $n = 20$\n",
    "- Find the value that occurs the most often\n",
    "- Calculate the probability of the value that occurs the most often occurring. *Use the factorial(x) function to find factorials*"
   ]
  },
  {
   "cell_type": "code",
   "execution_count": null,
   "metadata": {
    "collapsed": false,
    "deletable": true,
    "editable": true
   },
   "outputs": [],
   "source": [
    "# Binomial distribution with p=0.25 and n=20\n",
    "\n",
    "## Your code goes here. \n",
    "\n",
    "plt.title('Binomial Distributino with p=0.25 and n=20')\n",
    "plt.xlabel('Value')\n",
    "plt.ylabel('Occurences')\n",
    "plt.legend(['Die Rolls']);"
   ]
  },
  {
   "cell_type": "code",
   "execution_count": null,
   "metadata": {
    "collapsed": false,
    "deletable": true,
    "editable": true,
    "scrolled": false
   },
   "outputs": [],
   "source": [
    "# Finding x which occurs most often\n",
    "\n",
    "## Your code goes here"
   ]
  },
  {
   "cell_type": "code",
   "execution_count": null,
   "metadata": {
    "collapsed": false,
    "deletable": true,
    "editable": true
   },
   "outputs": [],
   "source": [
    "# Calculating the probability of finding x. \n",
    "\n",
    "## Your code goes here"
   ]
  },
  {
   "cell_type": "markdown",
   "metadata": {
    "deletable": true,
    "editable": true
   },
   "source": [
    "---"
   ]
  },
  {
   "cell_type": "markdown",
   "metadata": {
    "deletable": true,
    "editable": true
   },
   "source": [
    "# Exercise 3 : Normal Distributions\n",
    "## a. Graphing\n",
    "Graph a normal distribution using the Probability Density Function bellow, with a mean of 0 and standard deviation of 5. \n",
    "\n",
    "$$f(x) = \\frac{1}{\\sigma\\sqrt{2\\pi}}e^{-\\frac{(x - \\mu)^2}{2\\sigma^2}}$$"
   ]
  },
  {
   "cell_type": "code",
   "execution_count": null,
   "metadata": {
    "collapsed": false,
    "deletable": true,
    "editable": true
   },
   "outputs": [],
   "source": [
    "# Graphin a normal distribution pdf. \n",
    "\n",
    "## Your code goes here\n",
    "\n",
    "mu = \n",
    "sigma = \n",
    "x = np.linspace(-30, 30, 200)\n",
    "y = \n",
    "plt.plot(x, y)\n",
    "plt.title('Graph of PDF with mu = 0 and sigma = 5')\n",
    "plt.xlabel('Value')\n",
    "plt.ylabel('Probability');"
   ]
  },
  {
   "cell_type": "markdown",
   "metadata": {
    "deletable": true,
    "editable": true
   },
   "source": [
    "## b. Confidence Intervals. \n",
    "- Calculate the first, second, and third confidence intervals. \n",
    "- Plot the PDF and the first, second, and third confidence intervals. "
   ]
  },
  {
   "cell_type": "code",
   "execution_count": null,
   "metadata": {
    "collapsed": false,
    "deletable": true,
    "editable": true
   },
   "outputs": [],
   "source": [
    "# finding the 1st, 2nd, and third confidence intervals. \n",
    "\n",
    "## Your code goes here\n",
    "\n",
    "first_ci =\n",
    "second_ci =\n",
    "third_ci = \n",
    "\n",
    "print '1-sigma -> mu +/-', sigma\n",
    "print '2-sigma -> mu +/-', second_ci[1]\n",
    "print '3-sigma -> mu +/-', third_ci[1]"
   ]
  },
  {
   "cell_type": "code",
   "execution_count": null,
   "metadata": {
    "collapsed": true,
    "deletable": true,
    "editable": true
   },
   "outputs": [],
   "source": [
    "## Graphing.\n",
    "\n",
    "## Your code goes here. \n",
    "\n",
    "plt.title('Graph of PDF with 3 confidence intervals.')\n",
    "plt.legend();"
   ]
  },
  {
   "cell_type": "markdown",
   "metadata": {
    "deletable": true,
    "editable": true
   },
   "source": [
    "---"
   ]
  },
  {
   "cell_type": "markdown",
   "metadata": {
    "deletable": true,
    "editable": true
   },
   "source": [
    "# Exercise 4: Financial Applications: \n",
    "Fit the returns of SPY from 2016-01-01 to 2016-05-01 to a normal distribution. \n",
    "- Fit the returns to a normal distribution by clacluating the values of $\\mu$ and $\\sigma$\n",
    "- Plot the returns and the distribution, along with 3 confidence intervals. \n",
    "- Use the Jarque-Bera test to check for normality. "
   ]
  },
  {
   "cell_type": "code",
   "execution_count": null,
   "metadata": {
    "collapsed": false,
    "deletable": true,
    "editable": true
   },
   "outputs": [],
   "source": [
    "# Collect prices and retursn. \n",
    "prices = get_pricing('SPY', start_date = '2016-01-01', end_date='2016-05-01', \n",
    "                     fields = 'price')\n",
    "returns = prices.pct_change()[1:]"
   ]
  },
  {
   "cell_type": "code",
   "execution_count": null,
   "metadata": {
    "collapsed": false,
    "deletable": true,
    "editable": true
   },
   "outputs": [],
   "source": [
    "# Calculating the mean and standard deviation. \n",
    "\n",
    "## Your code goes here\n",
    "sample_mean =\n",
    "sample_std_dev = \n",
    "\n",
    "x = np.linspace(-(sample_mean + 4 * sample_std_dev), (sample_mean + 4 * sample_std_dev), len(returns))\n",
    "sample_distribution = ((1/(sample_std_dev * 2 * np.pi)) * \n",
    "                       np.exp(-(x - sample_mean)*(x - sample_mean) / (2 * sample_std_dev * sample_std_dev)))"
   ]
  },
  {
   "cell_type": "code",
   "execution_count": null,
   "metadata": {
    "collapsed": false,
    "deletable": true,
    "editable": true
   },
   "outputs": [],
   "source": [
    "# Plotting histograms and confidence intervals. \n",
    "\n",
    "## Your code goes here\n",
    "\n",
    "plt.title('Graph of returns with fitted PDF and the 3 confidence intervals. ')\n",
    "plt.legend();"
   ]
  },
  {
   "cell_type": "code",
   "execution_count": null,
   "metadata": {
    "collapsed": false,
    "deletable": true,
    "editable": true
   },
   "outputs": [],
   "source": [
    "# Run the JB test for normality. \n",
    "\n",
    "## Your code goes here\n",
    "\n",
    "\n",
    "print \"The JB test p-value is: \", p_value\n",
    "print \"We reject the hypothesis that the data are normally distributed \", p_value < cutoff\n",
    "print \"The skewness of the returns is: \", skewness\n",
    "print \"The kurtosis of the returns is: \", kurtosis"
   ]
  },
  {
   "cell_type": "markdown",
   "metadata": {
    "deletable": true,
    "editable": true
   },
   "source": [
    "---\n",
    "\n",
    "Congratulations on completing the Random Variables exercises!\n",
    "\n",
    "As you learn more about writing trading models and the Quantopian platform, enter a daily [Quantopian Contest](https://www.quantopian.com/contest). Your strategy will be evaluated for a cash prize every day.\n",
    "\n",
    "Start by going through the [Writing a Contest Algorithm](https://www.quantopian.com/tutorials/contest) tutorial."
   ]
  },
  {
   "cell_type": "markdown",
   "metadata": {
    "collapsed": true,
    "deletable": true,
    "editable": true
   },
   "source": [
    "*This presentation is for informational purposes only and does not constitute an offer to sell, a solicitation to buy, or a recommendation for any security; nor does it constitute an offer to provide investment advisory or other services by Quantopian, Inc. (\"Quantopian\"). Nothing contained herein constitutes investment advice or offers any opinion with respect to the suitability of any security, and any views expressed herein should not be taken as advice to buy, sell, or hold any security or as an endorsement of any security or company.  In preparing the information contained herein, Quantopian, Inc. has not taken into account the investment needs, objectives, and financial circumstances of any particular investor. Any views expressed and data illustrated herein were prepared based upon information, believed to be reliable, available to Quantopian, Inc. at the time of publication. Quantopian makes no guarantees as to their accuracy or completeness. All information is subject to change and may quickly become unreliable for various reasons, including changes in market conditions or economic circumstances.*"
   ]
  }
 ],
 "metadata": {
  "kernelspec": {
   "display_name": "Python 2",
   "language": "python",
   "name": "python2"
  },
  "language_info": {
   "codemirror_mode": {
    "name": "ipython",
    "version": 2
   },
   "file_extension": ".py",
   "mimetype": "text/x-python",
   "name": "python",
   "nbconvert_exporter": "python",
   "pygments_lexer": "ipython2",
   "version": "2.7.12"
  }
 },
 "nbformat": 4,
 "nbformat_minor": 2
}
