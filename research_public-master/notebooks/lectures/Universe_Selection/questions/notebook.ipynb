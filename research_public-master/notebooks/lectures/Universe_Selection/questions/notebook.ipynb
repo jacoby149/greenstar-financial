{
 "cells": [
  {
   "cell_type": "markdown",
   "metadata": {
    "deletable": true,
    "editable": true
   },
   "source": [
    "#Exercises: Universe Selection\n",
    "\n",
    "## Lecture Link\n",
    "\n",
    "This exercise notebook refers to this lecture. Please use the lecture for explanations and sample code.\n",
    "\n",
    "https://www.quantopian.com/lectures#Universe-Selection\n",
    "\n",
    "Part of the Quantopian Lecture Series:\n",
    "\n",
    "* [www.quantopian.com/lectures](https://www.quantopian.com/lectures)\n",
    "* [github.com/quantopian/research_public](https://github.com/quantopian/research_public)"
   ]
  },
  {
   "cell_type": "code",
   "execution_count": null,
   "metadata": {
    "collapsed": true,
    "deletable": true,
    "editable": true
   },
   "outputs": [],
   "source": [
    "import numpy as np\n",
    "import pandas as pd\n",
    "import matplotlib.pyplot as plt\n",
    "from quantopian.pipeline.classifiers.morningstar import Sector\n",
    "from quantopian.pipeline import Pipeline\n",
    "from quantopian.pipeline.data.builtin import USEquityPricing\n",
    "from quantopian.pipeline.filters import QTradableStocksUS, AtLeastN\n",
    "from quantopian.research import run_pipeline\n",
    "from quantopian.pipeline.data import morningstar\n",
    "from quantopian.pipeline.factors import CustomFactor, AverageDollarVolume"
   ]
  },
  {
   "cell_type": "markdown",
   "metadata": {
    "deletable": true,
    "editable": true
   },
   "source": [
    "## Helper Functions"
   ]
  },
  {
   "cell_type": "code",
   "execution_count": null,
   "metadata": {
    "collapsed": true,
    "deletable": true,
    "editable": true
   },
   "outputs": [],
   "source": [
    "def calculate_daily_turnover(unstacked):\n",
    "    return (unstacked\n",
    "            .diff()        # Get True/False showing where values changed from previous day.\n",
    "            .iloc[1:]      # Drop first row, which is meaningless after diff().\n",
    "            .astype(bool)  # diff() coerces from bool -> object :(.  Undo that.\n",
    "            .groupby(axis=1, level=0)  \n",
    "            .sum())  "
   ]
  },
  {
   "cell_type": "markdown",
   "metadata": {
    "deletable": true,
    "editable": true
   },
   "source": [
    "#Exercise 1: Examining the QTradableStocksUS Universe\n",
    "\n",
    "##a. Initializing the Universe\n",
    "\n",
    "Set the QTradableStocksUS as your universe by using the `QTradableStocksUS()` function."
   ]
  },
  {
   "cell_type": "code",
   "execution_count": null,
   "metadata": {
    "collapsed": true,
    "deletable": true,
    "editable": true
   },
   "outputs": [],
   "source": [
    "# Your code goes here"
   ]
  },
  {
   "cell_type": "markdown",
   "metadata": {
    "deletable": true,
    "editable": true
   },
   "source": [
    "## b. Finding Asset Composition\n",
    "\n",
    "Use the pipeline API with the QTradableStocksUS as a screen to find and print the list of equities included in the QTradableStocksUS on 2016-07-01."
   ]
  },
  {
   "cell_type": "code",
   "execution_count": null,
   "metadata": {
    "collapsed": false,
    "deletable": true,
    "editable": true,
    "scrolled": false
   },
   "outputs": [],
   "source": [
    "# Your code goes here"
   ]
  },
  {
   "cell_type": "markdown",
   "metadata": {
    "deletable": true,
    "editable": true
   },
   "source": [
    "## c. Sector Exposure\n",
    "\n",
    "Use the pipeline API with the QtradableStocksUS as a screen to find and print the sector composition of the universe on 2016-07-01."
   ]
  },
  {
   "cell_type": "code",
   "execution_count": null,
   "metadata": {
    "collapsed": false,
    "deletable": true,
    "editable": true
   },
   "outputs": [],
   "source": [
    "SECTOR_CODE_NAMES = {\n",
    "    Sector.BASIC_MATERIALS: 'Basic Materials',\n",
    "    Sector.CONSUMER_CYCLICAL: 'Consumer Cyclical',\n",
    "    Sector.FINANCIAL_SERVICES: 'Financial Services',\n",
    "    Sector.REAL_ESTATE: 'Real Estate',\n",
    "    Sector.CONSUMER_DEFENSIVE: 'Consumer Defensive',\n",
    "    Sector.HEALTHCARE: 'Healthcare',\n",
    "    Sector.UTILITIES: 'Utilities',\n",
    "    Sector.COMMUNICATION_SERVICES: 'Communication Services',\n",
    "    Sector.ENERGY: 'Energy',\n",
    "    Sector.INDUSTRIALS: 'Industrials',\n",
    "    Sector.TECHNOLOGY: 'Technology',\n",
    "    -1 : 'Misc'\n",
    "}\n",
    "\n",
    "# Your code goes here"
   ]
  },
  {
   "cell_type": "markdown",
   "metadata": {
    "deletable": true,
    "editable": true
   },
   "source": [
    "## d. Turnover Rate\n",
    "\n",
    "Use the pipeline API with the QtradableStocksUS as a screen and the `calculate_daily_turnover` helper function to find and plot the turnover of the universe during 2016."
   ]
  },
  {
   "cell_type": "code",
   "execution_count": null,
   "metadata": {
    "collapsed": false,
    "deletable": true,
    "editable": true,
    "scrolled": false
   },
   "outputs": [],
   "source": [
    "# Your code goes here"
   ]
  },
  {
   "cell_type": "markdown",
   "metadata": {
    "deletable": true,
    "editable": true
   },
   "source": [
    "# Exercise 2: Examining Tradability\n",
    "\n",
    "## a. NetIncome 1500\n",
    "\n",
    "Create a universe consisting of the top 1500 equities by net income then find and print the list of equities included in the universe on 2016-07-01."
   ]
  },
  {
   "cell_type": "code",
   "execution_count": null,
   "metadata": {
    "collapsed": false,
    "deletable": true,
    "editable": true
   },
   "outputs": [],
   "source": [
    "# Your code goes here"
   ]
  },
  {
   "cell_type": "markdown",
   "metadata": {
    "deletable": true,
    "editable": true
   },
   "source": [
    "## b. Measuring Tradability\n",
    "\n",
    "\n",
    "Find the average 200 day average dollar volume of the NetIncome 1500 universe using the `AverageDollarVolume` built in factor and compare to that of the QTradableStocksUS."
   ]
  },
  {
   "cell_type": "code",
   "execution_count": null,
   "metadata": {
    "collapsed": false,
    "deletable": true,
    "editable": true
   },
   "outputs": [],
   "source": [
    "# Your code goes here"
   ]
  },
  {
   "cell_type": "markdown",
   "metadata": {
    "deletable": true,
    "editable": true
   },
   "source": [
    "# Exercise 3: Sector Balance\n",
    "\n",
    "## a. Dividend 1500\n",
    "\n",
    "Create a universe consisting of the top 1500 equities by dividend yield then find and print the list of equities included in the this universe on 2016-07-01."
   ]
  },
  {
   "cell_type": "code",
   "execution_count": null,
   "metadata": {
    "collapsed": false,
    "deletable": true,
    "editable": true
   },
   "outputs": [],
   "source": [
    "# Your code goes here"
   ]
  },
  {
   "cell_type": "markdown",
   "metadata": {
    "deletable": true,
    "editable": true
   },
   "source": [
    "## b. Dividend 1500 Sector Composition\n",
    "\n",
    "Find and print the sector composition of the universe on 2016-07-01."
   ]
  },
  {
   "cell_type": "code",
   "execution_count": null,
   "metadata": {
    "collapsed": false,
    "deletable": true,
    "editable": true
   },
   "outputs": [],
   "source": [
    "SECTOR_CODE_NAMES = {\n",
    "    Sector.BASIC_MATERIALS: 'Basic Materials',\n",
    "    Sector.CONSUMER_CYCLICAL: 'Consumer Cyclical',\n",
    "    Sector.FINANCIAL_SERVICES: 'Financial Services',\n",
    "    Sector.REAL_ESTATE: 'Real Estate',\n",
    "    Sector.CONSUMER_DEFENSIVE: 'Consumer Defensive',\n",
    "    Sector.HEALTHCARE: 'Healthcare',\n",
    "    Sector.UTILITIES: 'Utilities',\n",
    "    Sector.COMMUNICATION_SERVICES: 'Communication Services',\n",
    "    Sector.ENERGY: 'Energy',\n",
    "    Sector.INDUSTRIALS: 'Industrials',\n",
    "    Sector.TECHNOLOGY: 'Technology',\n",
    "    -1 : 'Misc'\n",
    "}\n",
    "\n",
    "# Your code goes here"
   ]
  },
  {
   "cell_type": "markdown",
   "metadata": {
    "deletable": true,
    "editable": true
   },
   "source": [
    "# Exercise 4: Turnover Smoothing\n",
    "\n",
    "## a. PE 1500\n",
    "\n",
    "Create a universe consisting of the top 1500 equities by price to earnings ratio then find and print the list of equities included in the this universe on 2016-07-01."
   ]
  },
  {
   "cell_type": "code",
   "execution_count": null,
   "metadata": {
    "collapsed": false,
    "deletable": true,
    "editable": true
   },
   "outputs": [],
   "source": [
    "# Your code goes here"
   ]
  },
  {
   "cell_type": "markdown",
   "metadata": {
    "deletable": true,
    "editable": true
   },
   "source": [
    "## b. PE 1500 Turnover\n",
    "\n",
    "Use the `calculate_daily_turnover` helper function to find and plot the turnover of the PE 1500 universe during 2016. Compare the average to that of the QTradableStocksUS."
   ]
  },
  {
   "cell_type": "code",
   "execution_count": null,
   "metadata": {
    "collapsed": false,
    "deletable": true,
    "editable": true
   },
   "outputs": [],
   "source": [
    "# Your code goes here"
   ]
  },
  {
   "cell_type": "markdown",
   "metadata": {
    "deletable": true,
    "editable": true
   },
   "source": [
    "## c. Smoothing the PE 1500\n",
    "\n",
    "Using `AtLeastN`, apply a smoothing function to the PE 1500 to reduce turnover noise and find the new mean turnover."
   ]
  },
  {
   "cell_type": "code",
   "execution_count": null,
   "metadata": {
    "collapsed": false,
    "deletable": true,
    "editable": true
   },
   "outputs": [],
   "source": [
    "# Your code goes here"
   ]
  },
  {
   "cell_type": "markdown",
   "metadata": {},
   "source": [
    "---\n",
    "\n",
    "Congratulations on completing the Universe Selection exercises!\n",
    "\n",
    "As you learn more about writing trading models and the Quantopian platform, enter a daily [Quantopian Contest](https://www.quantopian.com/contest). Your strategy will be evaluated for a cash prize every day.\n",
    "\n",
    "Start by going through the [Writing a Contest Algorithm](https://www.quantopian.com/tutorials/contest) tutorial."
   ]
  },
  {
   "cell_type": "markdown",
   "metadata": {
    "deletable": true,
    "editable": true
   },
   "source": [
    "*This presentation is for informational purposes only and does not constitute an offer to sell, a solicitation to buy, or a recommendation for any security; nor does it constitute an offer to provide investment advisory or other services by Quantopian, Inc. (\"Quantopian\"). Nothing contained herein constitutes investment advice or offers any opinion with respect to the suitability of any security, and any views expressed herein should not be taken as advice to buy, sell, or hold any security or as an endorsement of any security or company.  In preparing the information contained herein, Quantopian, Inc. has not taken into account the investment needs, objectives, and financial circumstances of any particular investor. Any views expressed and data illustrated herein were prepared based upon information, believed to be reliable, available to Quantopian, Inc. at the time of publication. Quantopian makes no guarantees as to their accuracy or completeness. All information is subject to change and may quickly become unreliable for various reasons, including changes in market conditions or economic circumstances.*"
   ]
  }
 ],
 "metadata": {
  "kernelspec": {
   "display_name": "Python 2",
   "language": "python",
   "name": "python2"
  },
  "language_info": {
   "codemirror_mode": {
    "name": "ipython",
    "version": 2
   },
   "file_extension": ".py",
   "mimetype": "text/x-python",
   "name": "python",
   "nbconvert_exporter": "python",
   "pygments_lexer": "ipython2",
   "version": "2.7.12"
  }
 },
 "nbformat": 4,
 "nbformat_minor": 0
}
