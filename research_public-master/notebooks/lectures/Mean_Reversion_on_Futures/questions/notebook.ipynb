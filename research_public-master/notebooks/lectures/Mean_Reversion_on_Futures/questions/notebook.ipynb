{
 "cells": [
  {
   "cell_type": "markdown",
   "metadata": {
    "deletable": true,
    "editable": true
   },
   "source": [
    "# Exercises: Mean Reversion on Futures\n",
    "By Chris Fenaroli, Delaney Mackenzie, and Maxwell Margenot\n",
    "\n",
    "## Lecture Link\n",
    "https://www.quantopian.com/lectures/introduction-to-pairs-trading\n",
    "\n",
    "https://www.quantopian.com/lectures/mean-reversion-on-futures\n",
    "\n",
    "###IMPORTANT NOTE: \n",
    "This lecture corresponds to the Mean Reversion on Futures lecture, which is part of the Quantopian lecture series. This homework expects you to rely heavily on the code presented in the corresponding lecture. Please copy and paste regularly from that lecture when starting to work on the problems, as trying to do them from scratch will likely be too difficult.\n",
    "\n",
    "Part of the Quantopian Lecture Series:\n",
    "\n",
    "* [www.quantopian.com/lectures](https://www.quantopian.com/lectures)\n",
    "* [github.com/quantopian/research_public](https://github.com/quantopian/research_public)\n",
    "\n",
    "\n",
    "----"
   ]
  },
  {
   "cell_type": "markdown",
   "metadata": {
    "deletable": true,
    "editable": true
   },
   "source": [
    "## Key concepts"
   ]
  },
  {
   "cell_type": "code",
   "execution_count": null,
   "metadata": {
    "collapsed": true,
    "deletable": true,
    "editable": true
   },
   "outputs": [],
   "source": [
    "# Useful Functions\n",
    "def find_cointegrated_pairs(data):\n",
    "    n = data.shape[1]\n",
    "    score_matrix = np.zeros((n, n))\n",
    "    pvalue_matrix = np.ones((n, n))\n",
    "    keys = data.keys()\n",
    "    pairs = []\n",
    "    for i in range(n):\n",
    "        for j in range(i+1, n):\n",
    "            S1 = data[keys[i]]\n",
    "            S2 = data[keys[j]]\n",
    "            result = coint(S1, S2)\n",
    "            score = result[0]\n",
    "            pvalue = result[1]\n",
    "            score_matrix[i, j] = score\n",
    "            pvalue_matrix[i, j] = pvalue\n",
    "            if pvalue < 0.05:\n",
    "                pairs.append((keys[i], keys[j]))\n",
    "    return score_matrix, pvalue_matrix, pairs"
   ]
  },
  {
   "cell_type": "code",
   "execution_count": null,
   "metadata": {
    "collapsed": true,
    "deletable": true,
    "editable": true
   },
   "outputs": [],
   "source": [
    "# Useful Libraries\n",
    "import numpy as np\n",
    "import pandas as pd\n",
    "\n",
    "import statsmodels\n",
    "import statsmodels.api as sm\n",
    "from statsmodels.tsa.stattools import coint, adfuller\n",
    "from quantopian.research.experimental import history, continuous_future\n",
    "# just set the seed for the random number generator\n",
    "np.random.seed(107)\n",
    "\n",
    "import matplotlib.pyplot as plt"
   ]
  },
  {
   "cell_type": "markdown",
   "metadata": {
    "deletable": true,
    "editable": true
   },
   "source": [
    "----"
   ]
  },
  {
   "cell_type": "markdown",
   "metadata": {
    "deletable": true,
    "editable": true
   },
   "source": [
    "#Exercise 1: Testing Artificial Examples\n",
    "\n",
    "We'll use some artificially generated series first as they are much cleaner and easier to work with. In general when learning or developing a new technique, use simulated data to provide a clean environment. Simulated data also allows you to control the level of noise and difficulty level for your model.\n",
    "\n",
    "##a. Cointegration Test I\n",
    "\n",
    "Determine whether the following two artificial series $A$ and $B$ are cointegrated using the `coint()` function and a reasonable confidence level."
   ]
  },
  {
   "cell_type": "code",
   "execution_count": null,
   "metadata": {
    "collapsed": false,
    "deletable": true,
    "editable": true
   },
   "outputs": [],
   "source": [
    "A_returns = np.random.normal(0, 1, 100)\n",
    "A = pd.Series(np.cumsum(A_returns), name='X') + 50\n",
    "\n",
    "some_noise = np.random.exponential(1, 100)\n",
    "\n",
    "B = A - 7 + some_noise\n",
    "\n",
    "#Your code goes here"
   ]
  },
  {
   "cell_type": "markdown",
   "metadata": {
    "deletable": true,
    "editable": true
   },
   "source": [
    "##b. Cointegration Test II\n",
    "\n",
    "Determine whether the following two artificial series $C$ and $D$ are cointegrated using the `coint()` function and a reasonable confidence level."
   ]
  },
  {
   "cell_type": "code",
   "execution_count": null,
   "metadata": {
    "collapsed": false,
    "deletable": true,
    "editable": true
   },
   "outputs": [],
   "source": [
    "C_returns = np.random.normal(1, 1, 100) \n",
    "C = pd.Series(np.cumsum(C_returns), name='X') + 100\n",
    "\n",
    "D_returns = np.random.normal(2, 1, 100)\n",
    "D = pd.Series(np.cumsum(D_returns), name='X') + 100\n",
    "\n",
    "#Your code goes here"
   ]
  },
  {
   "cell_type": "markdown",
   "metadata": {
    "deletable": true,
    "editable": true
   },
   "source": [
    "----"
   ]
  },
  {
   "cell_type": "markdown",
   "metadata": {
    "deletable": true,
    "editable": true
   },
   "source": [
    "#Exercise 2: Testing Real Examples\n",
    "\n",
    "##a. Real Cointegration Test I\n",
    "\n",
    "Determine whether the following two assets `CN` and `SB` were cointegrated during 2015 using the `coint()` function and a reasonable confidence level."
   ]
  },
  {
   "cell_type": "code",
   "execution_count": null,
   "metadata": {
    "collapsed": false,
    "deletable": true,
    "editable": true
   },
   "outputs": [],
   "source": [
    "cn = continuous_future('CN', offset = 0, roll = 'calendar', adjustment = 'mul')\n",
    "sb = continuous_future('SB', offset = 0, roll = 'calendar', adjustment = 'mul')\n",
    "\n",
    "cn_price = history(cn, 'price', '2015-01-01', '2016-01-01', 'daily')\n",
    "sb_price = history(sb, 'price', '2015-01-01', '2016-01-01', 'daily')\n",
    "\n",
    "#Your code goes here"
   ]
  },
  {
   "cell_type": "markdown",
   "metadata": {
    "deletable": true,
    "editable": true
   },
   "source": [
    "##b. Real Cointegration Test II\n",
    "\n",
    "Determine whether the following two underlyings `CL` and `HO` were cointegrated during 2015 using the `coint()` function and a reasonable confidence level."
   ]
  },
  {
   "cell_type": "code",
   "execution_count": null,
   "metadata": {
    "collapsed": false,
    "deletable": true,
    "editable": true
   },
   "outputs": [],
   "source": [
    "cl = continuous_future('CL', offset = 0, roll = 'calendar', adjustment = 'mul')\n",
    "ho = continuous_future('HO', offset = 0, roll = 'calendar', adjustment = 'mul')\n",
    "\n",
    "cl_price = history(cl, 'price', '2015-01-01', '2016-01-01', 'daily')\n",
    "ho_price = history(ho, 'price', '2015-01-01', '2016-01-01', 'daily')\n",
    "\n",
    "#Your code goes here"
   ]
  },
  {
   "cell_type": "markdown",
   "metadata": {
    "deletable": true,
    "editable": true
   },
   "source": [
    "----"
   ]
  },
  {
   "cell_type": "markdown",
   "metadata": {
    "deletable": true,
    "editable": true
   },
   "source": [
    "#Exercise 3: Out of Sample Validation\n",
    "\n",
    "##a. Calculating the Spread\n",
    "\n",
    "Using pricing data from 2015, construct a linear regression to find a coefficient for the linear combination of `CL` and `HO` that makes their spread stationary."
   ]
  },
  {
   "cell_type": "code",
   "execution_count": null,
   "metadata": {
    "collapsed": true,
    "deletable": true,
    "editable": true
   },
   "outputs": [],
   "source": [
    "\n",
    "#Your code goes here"
   ]
  },
  {
   "cell_type": "markdown",
   "metadata": {
    "deletable": true,
    "editable": true
   },
   "source": [
    "##b. Testing the Coefficient\n",
    "\n",
    "Use your coefficient from part a to plot the weighted spread using prices from the first half of 2016, and check whether the result is still stationary."
   ]
  },
  {
   "cell_type": "code",
   "execution_count": null,
   "metadata": {
    "collapsed": false,
    "deletable": true,
    "editable": true
   },
   "outputs": [],
   "source": [
    "cl_out = get_pricing(cl, fields='price', \n",
    "                        start_date='2016-01-01', end_date='2016-07-01')\n",
    "ho_out = get_pricing(ho, fields='price', \n",
    "                        start_date='2016-01-01', end_date='2016-07-01')\n",
    "\n",
    "#Your code goes here"
   ]
  },
  {
   "cell_type": "markdown",
   "metadata": {
    "deletable": true,
    "editable": true
   },
   "source": [
    "----"
   ]
  },
  {
   "cell_type": "markdown",
   "metadata": {
    "deletable": true,
    "editable": true
   },
   "source": [
    "#Extra Credit Exercise: Hurst Exponent\n",
    "\n",
    "This exercise is more difficult and we will not provide initial structure.\n",
    "\n",
    "The Hurst exponent is a statistic between 0 and 1 that provides information about how much a time series is trending or mean reverting. We want our spread time series to be mean reverting, so we can use the Hurst exponent to monitor whether our pair is going out of cointegration. Effectively as a means of process control to know when our pair is no longer good to trade.\n",
    "\n",
    "Please find either an existing Python library that computes, or compute yourself, the Hurst exponent. Then plot it over time for the spread on the above pair of stocks.\n",
    "\n",
    "These links may be helpful:\n",
    "\n",
    "* https://en.wikipedia.org/wiki/Hurst_exponent\n",
    "* https://www.quantopian.com/posts/pair-trade-with-cointegration-and-mean-reversion-tests"
   ]
  },
  {
   "cell_type": "code",
   "execution_count": null,
   "metadata": {
    "collapsed": true,
    "deletable": true,
    "editable": true
   },
   "outputs": [],
   "source": [
    "# Your code goes here"
   ]
  },
  {
   "cell_type": "markdown",
   "metadata": {},
   "source": [
    "---\n",
    "\n",
    "Congratulations on completing the Mean Reversion on Futures exercises!\n",
    "\n",
    "As you learn more about writing trading models and the Quantopian platform, enter the daily [Quantopian Contest](https://www.quantopian.com/contest). Your strategy will be evaluated for a cash prize every day.\n",
    "\n",
    "Start by going through the [Writing a Contest Algorithm](https://www.quantopian.com/tutorials/contest) tutorial."
   ]
  },
  {
   "cell_type": "markdown",
   "metadata": {
    "deletable": true,
    "editable": true
   },
   "source": [
    "*This presentation is for informational purposes only and does not constitute an offer to sell, a solic\n",
    "itation to buy, or a recommendation for any security; nor does it constitute an offer to provide investment advisory or other services by Quantopian, Inc. (\"Quantopian\"). Nothing contained herein constitutes investment advice or offers any opinion with respect to the suitability of any security, and any views expressed herein should not be taken as advice to buy, sell, or hold any security or as an endorsement of any security or company.  In preparing the information contained herein, Quantopian, Inc. has not taken into account the investment needs, objectives, and financial circumstances of any particular investor. Any views expressed and data illustrated herein were prepared based upon information, believed to be reliable, available to Quantopian, Inc. at the time of publication. Quantopian makes no guarantees as to their accuracy or completeness. All information is subject to change and may quickly become unreliable for various reasons, including changes in market conditions or economic circumstances.*"
   ]
  }
 ],
 "metadata": {
  "kernelspec": {
   "display_name": "Python 2",
   "language": "python",
   "name": "python2"
  },
  "language_info": {
   "codemirror_mode": {
    "name": "ipython",
    "version": 2
   },
   "file_extension": ".py",
   "mimetype": "text/x-python",
   "name": "python",
   "nbconvert_exporter": "python",
   "pygments_lexer": "ipython2",
   "version": "2.7.12"
  }
 },
 "nbformat": 4,
 "nbformat_minor": 0
}