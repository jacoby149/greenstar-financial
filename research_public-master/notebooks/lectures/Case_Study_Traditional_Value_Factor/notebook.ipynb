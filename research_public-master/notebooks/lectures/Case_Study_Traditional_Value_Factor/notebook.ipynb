{
 "cells": [
  {
   "cell_type": "markdown",
   "metadata": {},
   "source": [
    "#Traditional Value Factor Algorithm\n",
    "\n",
    "By Gil Wassermann\n",
    "\n",
    "Strategy taken from \"130/30: The New Long-Only\" by Andrew Lo and Pankaj Patel\n",
    "\n",
    "Part of the Quantopian Lecture Series:\n",
    "* www.quantopian.com/lectures\n",
    "* github.com/quantopian/research_public\n",
    "\n"
   ]
  },
  {
   "cell_type": "markdown",
   "metadata": {},
   "source": [
    "Before the crisis of 2007, 130/30 funds were all the rage. The idea of a 130/30 fund is simple: take a long position of 130% and a short position of 30%; this combination gives a net exposure of 100% (the same as a long-only fund) as well as the added benefit of the ability to short stocks. The ability to short in a trading strategy is crucial as it allows a fund manager to capitalize on a security's poor performance, which is impossible in a traditional, long-only strategy.\n",
    "\n",
    "This notebook, using factors outlined by Andrew Lo and Pankaj Patel in \"130/30: The New Long Only\", will demonstrate how to create an algorithmic 130/30 strategy. It will also highlight Quantopian's Pipeline API which is a powerful tool for developing factor trading strategies."
   ]
  },
  {
   "cell_type": "markdown",
   "metadata": {},
   "source": [
    "First, let us import all necessary libraries and functions for this algorithm"
   ]
  },
  {
   "cell_type": "code",
   "execution_count": 1,
   "metadata": {
    "collapsed": true
   },
   "outputs": [],
   "source": [
    "import numpy as np\n",
    "import pandas as pd\n",
    "import matplotlib.pyplot as plt\n",
    "from quantopian.pipeline import Pipeline\n",
    "from quantopian.pipeline.data.builtin import USEquityPricing\n",
    "from quantopian.research import run_pipeline\n",
    "from quantopian.pipeline.data import Fundamentals\n",
    "from quantopian.pipeline.factors import CustomFactor"
   ]
  },
  {
   "cell_type": "markdown",
   "metadata": {},
   "source": [
    "#Traditional Value\n",
    "\n",
    "In this notebook, we will develop a strategy based on the \"traditional value\" metrics described in the Lo/Patel whitepaper. The factors employed in this strategy designate stocks as either cheap or expensive using classic fundamental analysis. The factors that Lo/Patel used are:\n",
    "\n",
    "* Dividend Yield\n",
    "* Price to Book Value\n",
    "* Price to Trailing 12-Month Sales\n",
    "* Price to Trainling 12-Month Cash Flows"
   ]
  },
  {
   "cell_type": "markdown",
   "metadata": {},
   "source": [
    "##Dividend Yield\n",
    "\n",
    "Dividend yield is calculated as:\n",
    "\n",
    "$$Dividend\\;Yield = \\frac{Annual\\;Dividends\\;per\\;share}{Price\\;per\\;share}$$\n",
    "\n",
    "When a company makes profit, it faces a choice. It could either reinvest those profits in the company with an eye to increase efficiency, purchase new technology, etc. or it could pay dividends to its equity holders. While reinvestment may increase a company's future share price and thereby reward investors, the most concrete way equity holders are rewarded is through dividends. An equity with a high dividend yield is particularly attractive as the quantity of dividends paid to investors represent a larger proportion of the share price itself. Now we shall create a Dividend Yield factor using the Pipeline API framework and Pipeline's list of fundamental values."
   ]
  },
  {
   "cell_type": "code",
   "execution_count": 2,
   "metadata": {
    "collapsed": false
   },
   "outputs": [],
   "source": [
    "# Custom Factor 1 : Dividend Yield\n",
    "class Div_Yield(CustomFactor):\n",
    "    inputs = [Fundamentals.div_yield5_year]\n",
    "    window_length = 1\n",
    "    def compute(self, today, assets, out, d_y):\n",
    "        out[:] = d_y[-1]"
   ]
  },
  {
   "cell_type": "markdown",
   "metadata": {},
   "source": [
    "While this factor could be calculated using other fundamental metrics, Fundamentals removes the need for any calculation. It is good practice to check the list of [fundamentals](https://www.quantopian.com/help/fundamentals) before creating a custom factor from scratch.\n",
    "\n",
    "We will initialize a temporary Pipeline to get a sense of the values."
   ]
  },
  {
   "cell_type": "code",
   "execution_count": 3,
   "metadata": {
    "collapsed": false
   },
   "outputs": [
    {
     "data": {
      "text/html": [
       "<div>\n",
       "<table border=\"1\" class=\"dataframe\">\n",
       "  <thead>\n",
       "    <tr style=\"text-align: right;\">\n",
       "      <th></th>\n",
       "      <th></th>\n",
       "      <th>Dividend Yield</th>\n",
       "    </tr>\n",
       "  </thead>\n",
       "  <tbody>\n",
       "    <tr>\n",
       "      <th rowspan=\"5\" valign=\"top\">2015-11-11 00:00:00+00:00</th>\n",
       "      <th>Equity(2 [ARNC])</th>\n",
       "      <td>0.0110</td>\n",
       "    </tr>\n",
       "    <tr>\n",
       "      <th>Equity(41 [ARCB])</th>\n",
       "      <td>0.0064</td>\n",
       "    </tr>\n",
       "    <tr>\n",
       "      <th>Equity(52 [ABM])</th>\n",
       "      <td>0.0240</td>\n",
       "    </tr>\n",
       "    <tr>\n",
       "      <th>Equity(62 [ABT])</th>\n",
       "      <td>0.0279</td>\n",
       "    </tr>\n",
       "    <tr>\n",
       "      <th>Equity(64 [ABX])</th>\n",
       "      <td>0.0192</td>\n",
       "    </tr>\n",
       "  </tbody>\n",
       "</table>\n",
       "</div>"
      ],
      "text/plain": [
       "                                             Dividend Yield\n",
       "2015-11-11 00:00:00+00:00 Equity(2 [ARNC])           0.0110\n",
       "                          Equity(41 [ARCB])          0.0064\n",
       "                          Equity(52 [ABM])           0.0240\n",
       "                          Equity(62 [ABT])           0.0279\n",
       "                          Equity(64 [ABX])           0.0192"
      ]
     },
     "execution_count": 3,
     "metadata": {},
     "output_type": "execute_result"
    }
   ],
   "source": [
    "# create the pipeline\n",
    "temp_pipe_1 = Pipeline()\n",
    "\n",
    "# add the factor to the pipeline\n",
    "temp_pipe_1.add(Div_Yield(), 'Dividend Yield')\n",
    "\n",
    "# run the pipeline and get data for first 5 equities\n",
    "run_pipeline(temp_pipe_1, start_date = '2015-11-11', end_date = '2015-11-11').dropna().head()"
   ]
  },
  {
   "cell_type": "markdown",
   "metadata": {},
   "source": [
    "##Price to Book Value\n",
    "\n",
    "Price to Book Value (a.k.a Price to Book Ratio) is calculated as:\n",
    "\n",
    "$$P/B\\;Ratio = \\frac{Price\\;per\\;share}{Net\\;Asset\\;Value\\;per\\;share}$$\n",
    "\n",
    "Net Asset Value per share can be thought of (very roughly) as a company's total assets less its total liabilities, all divided by the number of shares outstanding.\n",
    "\n",
    "The P/B Ratio gives a sense of a stock being either over- or undervalued. A high P/B ratio suggests that a stock's price is overvalued, and should therefore be shorted, whereas a low P/B ratio is attractive as the stock gained by purchasing the equity is hypothetically \"worth more\" than the price paid for it. \n",
    "\n",
    "We will now create a P/B Ratio custom factor and look at some of the results."
   ]
  },
  {
   "cell_type": "code",
   "execution_count": 4,
   "metadata": {
    "collapsed": false
   },
   "outputs": [
    {
     "data": {
      "text/html": [
       "<div>\n",
       "<table border=\"1\" class=\"dataframe\">\n",
       "  <thead>\n",
       "    <tr style=\"text-align: right;\">\n",
       "      <th></th>\n",
       "      <th></th>\n",
       "      <th>P/B Ratio</th>\n",
       "    </tr>\n",
       "  </thead>\n",
       "  <tbody>\n",
       "    <tr>\n",
       "      <th rowspan=\"5\" valign=\"top\">2015-11-11 00:00:00+00:00</th>\n",
       "      <th>Equity(2 [ARNC])</th>\n",
       "      <td>0.899825</td>\n",
       "    </tr>\n",
       "    <tr>\n",
       "      <th>Equity(21 [AAME])</th>\n",
       "      <td>0.976077</td>\n",
       "    </tr>\n",
       "    <tr>\n",
       "      <th>Equity(24 [AAPL])</th>\n",
       "      <td>5.632086</td>\n",
       "    </tr>\n",
       "    <tr>\n",
       "      <th>Equity(25 [ARNC_PR])</th>\n",
       "      <td>NaN</td>\n",
       "    </tr>\n",
       "    <tr>\n",
       "      <th>Equity(31 [ABAX])</th>\n",
       "      <td>5.281542</td>\n",
       "    </tr>\n",
       "  </tbody>\n",
       "</table>\n",
       "</div>"
      ],
      "text/plain": [
       "                                                P/B Ratio\n",
       "2015-11-11 00:00:00+00:00 Equity(2 [ARNC])       0.899825\n",
       "                          Equity(21 [AAME])      0.976077\n",
       "                          Equity(24 [AAPL])      5.632086\n",
       "                          Equity(25 [ARNC_PR])        NaN\n",
       "                          Equity(31 [ABAX])      5.281542"
      ]
     },
     "execution_count": 4,
     "metadata": {},
     "output_type": "execute_result"
    }
   ],
   "source": [
    "# Custom Factor 2 : P/B Ratio\n",
    "class Price_to_Book(CustomFactor):\n",
    "    inputs = [Fundamentals.pb_ratio]\n",
    "    window_length = 1\n",
    "\n",
    "    def compute(self, today, assets, out, pbr):\n",
    "        out[:] = pbr[-1]\n",
    "        \n",
    "# create the Pipeline\n",
    "temp_pipe_2 = Pipeline()\n",
    "\n",
    "# add the factor to the Pipeline\n",
    "temp_pipe_2.add(Price_to_Book(), 'P/B Ratio')\n",
    "\n",
    "# run the Pipeline and get data for first 5 equities\n",
    "run_pipeline(temp_pipe_2, start_date='2015-11-11', end_date='2015-11-11').head()"
   ]
  },
  {
   "cell_type": "markdown",
   "metadata": {},
   "source": [
    "There are two points to make about this data series. \n",
    "\n",
    "Firstly, AA_PR's P/B Ratio is given as NaN by Pipeline. NaN stands for \"not a number\" and occurs when a value can not be fetched by Pipeline. Eventually, we will remove these NaN values from the dataset as they often lead to confusing errors when manipulating the data.\n",
    "\n",
    "Secondly, a low P/B Ratio and a high Dividend Yield are attractive for investors, whereas a a high P/B Ratio and a low Dividend Yield are unattractive. Therefore, we will \"invert\" the P/B ratio by making each value negative in the factor output so that, when the data is aggregated later in the algorithm, the maxima and minima have the same underlying \"meaning\"."
   ]
  },
  {
   "cell_type": "markdown",
   "metadata": {},
   "source": [
    "##Price to Trailing 12-Month Sales\n",
    "\n",
    "This is calculated as a simple ratio between price per share and trailing 12-month (TTM) sales. \n",
    "\n",
    "TTM is a transformation rather than a metric and effectively calculates improvement or deterioration of a fundamental value from a particular quarter one year previously. For example, if one wanted to calculate today's TTM Sales for company XYZ, one would take the most recent quarter's revenue and divide it by the difference between this quarter's revenue and this quarter's revenue last year added to the revenue as given by the company's most recent fiscal year-end filing.\n",
    "\n",
    "To calculate the exact TTM of a security is indeed possible using Pipeline; however, the code required is slow. Luckily, this value can be well approximated by the built-in Fundamental Morningstar ratios, which use annual sales to calculate the Price to Sales fundamental value. This slight change boosts the code's speed enormously yet has very little impact on the results of the strategy itself."
   ]
  },
  {
   "cell_type": "markdown",
   "metadata": {},
   "source": [
    "Price to TTM Sales is similar to the P/B Ratio in terms of function. The major difference in these two ratios is the fact that inclusion of TTM means that seasonal fluctuations are minimized, as previous data is used to smooth the value. In our case, annualized values accomplish this same smoothing.\n",
    "\n",
    "Also, note that the values produced are negative; this factor requires the same inversion as the P/B Ratio."
   ]
  },
  {
   "cell_type": "code",
   "execution_count": 5,
   "metadata": {
    "collapsed": false
   },
   "outputs": [
    {
     "data": {
      "text/html": [
       "<div>\n",
       "<table border=\"1\" class=\"dataframe\">\n",
       "  <thead>\n",
       "    <tr style=\"text-align: right;\">\n",
       "      <th></th>\n",
       "      <th></th>\n",
       "      <th>Price / TTM Sales</th>\n",
       "    </tr>\n",
       "  </thead>\n",
       "  <tbody>\n",
       "    <tr>\n",
       "      <th rowspan=\"5\" valign=\"top\">2015-11-11 00:00:00+00:00</th>\n",
       "      <th>Equity(2 [ARNC])</th>\n",
       "      <td>-0.453038</td>\n",
       "    </tr>\n",
       "    <tr>\n",
       "      <th>Equity(21 [AAME])</th>\n",
       "      <td>-0.629844</td>\n",
       "    </tr>\n",
       "    <tr>\n",
       "      <th>Equity(24 [AAPL])</th>\n",
       "      <td>-2.988556</td>\n",
       "    </tr>\n",
       "    <tr>\n",
       "      <th>Equity(25 [ARNC_PR])</th>\n",
       "      <td>NaN</td>\n",
       "    </tr>\n",
       "    <tr>\n",
       "      <th>Equity(31 [ABAX])</th>\n",
       "      <td>-5.640918</td>\n",
       "    </tr>\n",
       "  </tbody>\n",
       "</table>\n",
       "</div>"
      ],
      "text/plain": [
       "                                                Price / TTM Sales\n",
       "2015-11-11 00:00:00+00:00 Equity(2 [ARNC])              -0.453038\n",
       "                          Equity(21 [AAME])             -0.629844\n",
       "                          Equity(24 [AAPL])             -2.988556\n",
       "                          Equity(25 [ARNC_PR])                NaN\n",
       "                          Equity(31 [ABAX])             -5.640918"
      ]
     },
     "execution_count": 5,
     "metadata": {},
     "output_type": "execute_result"
    }
   ],
   "source": [
    "# Custom Factor 3 : Price to Trailing 12 Month Sales       \n",
    "class Price_to_TTM_Sales(CustomFactor):\n",
    "    inputs = [Fundamentals.ps_ratio]\n",
    "    window_length = 1\n",
    "    \n",
    "    def compute(self, today, assets, out, ps):\n",
    "        out[:] = -ps[-1]\n",
    "        \n",
    "# create the pipeline\n",
    "temp_pipe_3 = Pipeline()\n",
    "\n",
    "# add the factor to the pipeline\n",
    "temp_pipe_3.add(Price_to_TTM_Sales(), 'Price / TTM Sales')\n",
    "\n",
    "# run the pipeline and get data for first 5 equities\n",
    "run_pipeline(temp_pipe_3, start_date='2015-11-11', end_date='2015-11-11').head()"
   ]
  },
  {
   "cell_type": "markdown",
   "metadata": {},
   "source": [
    "##Price to Trailing 12-Month Cashflows\n",
    "\n",
    "This is calculated as a simple ratio between price per share and TTM free cashflow  (here using the built-in Fundamental Morningstar ratio as an approximaton).\n",
    "\n",
    "This ratio serves a similar function to the previous two. A future notebook will explore the subtle differences in these metrics, but they largely serve the same purpose. Once again, low values are attractive and high values are unattractive, so the metric must be inverted."
   ]
  },
  {
   "cell_type": "code",
   "execution_count": 6,
   "metadata": {
    "collapsed": false
   },
   "outputs": [
    {
     "data": {
      "text/html": [
       "<div>\n",
       "<table border=\"1\" class=\"dataframe\">\n",
       "  <thead>\n",
       "    <tr style=\"text-align: right;\">\n",
       "      <th></th>\n",
       "      <th></th>\n",
       "      <th>Price / TTM Cashflows</th>\n",
       "    </tr>\n",
       "  </thead>\n",
       "  <tbody>\n",
       "    <tr>\n",
       "      <th rowspan=\"5\" valign=\"top\">2015-11-11 00:00:00+00:00</th>\n",
       "      <th>Equity(2 [ARNC])</th>\n",
       "      <td>-4.929472</td>\n",
       "    </tr>\n",
       "    <tr>\n",
       "      <th>Equity(21 [AAME])</th>\n",
       "      <td>-34.732899</td>\n",
       "    </tr>\n",
       "    <tr>\n",
       "      <th>Equity(24 [AAPL])</th>\n",
       "      <td>-8.594865</td>\n",
       "    </tr>\n",
       "    <tr>\n",
       "      <th>Equity(25 [ARNC_PR])</th>\n",
       "      <td>NaN</td>\n",
       "    </tr>\n",
       "    <tr>\n",
       "      <th>Equity(31 [ABAX])</th>\n",
       "      <td>-42.920180</td>\n",
       "    </tr>\n",
       "  </tbody>\n",
       "</table>\n",
       "</div>"
      ],
      "text/plain": [
       "                                                Price / TTM Cashflows\n",
       "2015-11-11 00:00:00+00:00 Equity(2 [ARNC])                  -4.929472\n",
       "                          Equity(21 [AAME])                -34.732899\n",
       "                          Equity(24 [AAPL])                 -8.594865\n",
       "                          Equity(25 [ARNC_PR])                    NaN\n",
       "                          Equity(31 [ABAX])                -42.920180"
      ]
     },
     "execution_count": 6,
     "metadata": {},
     "output_type": "execute_result"
    }
   ],
   "source": [
    "# Custom Factor 4 : Price to Trailing 12 Month Cashflow\n",
    "class Price_to_TTM_Cashflows(CustomFactor):\n",
    "    inputs = [Fundamentals.pcf_ratio]\n",
    "    window_length = 1\n",
    "    \n",
    "    def compute(self, today, assets, out, pcf):\n",
    "        out[:] = -pcf[-1] \n",
    "        \n",
    "# create the pipeline\n",
    "temp_pipe_4 = Pipeline()\n",
    "\n",
    "# add the factor to the pipeline\n",
    "temp_pipe_4.add(Price_to_TTM_Cashflows(), 'Price / TTM Cashflows')\n",
    "\n",
    "# run the pipeline and get data for first 5 equities\n",
    "run_pipeline(temp_pipe_4, start_date='2015-11-11', end_date='2015-11-11').head()"
   ]
  },
  {
   "cell_type": "markdown",
   "metadata": {},
   "source": [
    "##The Full Pipeline\n",
    "\n",
    "Now that each individual factor has been added, it is now time to get all the necessary data at once. In the algorithm, this will take place once every day.\n",
    "\n",
    "Later in the process, we will need a factor in order to create an approximate S&P500, so we will also include another factor called SPY_proxy (SPY is an ETF that tracks the S&P500). The S&P500 is a collection of 500 of the largest companies traded on the stock market. Our interpretation of the S&P500 is a group of 500 companies with the greatest market capitalizations; however, the actual S&P500 will be slightly different as Standard and Poors, who create the index, have a more nuanced algorithm for calculation.\n",
    "\n",
    "We will also alter our P/B Ratio factor in order to account for the inversion."
   ]
  },
  {
   "cell_type": "code",
   "execution_count": 7,
   "metadata": {
    "collapsed": false,
    "scrolled": true
   },
   "outputs": [
    {
     "data": {
      "text/html": [
       "<div>\n",
       "<table border=\"1\" class=\"dataframe\">\n",
       "  <thead>\n",
       "    <tr style=\"text-align: right;\">\n",
       "      <th></th>\n",
       "      <th></th>\n",
       "      <th>Dividend Yield</th>\n",
       "      <th>Price / TTM Cashflow</th>\n",
       "      <th>Price / TTM Sales</th>\n",
       "      <th>Price to Book</th>\n",
       "      <th>SPY Proxy</th>\n",
       "    </tr>\n",
       "  </thead>\n",
       "  <tbody>\n",
       "    <tr>\n",
       "      <th rowspan=\"5\" valign=\"top\">2015-11-11 00:00:00+00:00</th>\n",
       "      <th>Equity(2 [ARNC])</th>\n",
       "      <td>0.011</td>\n",
       "      <td>-4.929472</td>\n",
       "      <td>-0.453038</td>\n",
       "      <td>-0.899825</td>\n",
       "      <td>1.128021e+10</td>\n",
       "    </tr>\n",
       "    <tr>\n",
       "      <th>Equity(21 [AAME])</th>\n",
       "      <td>NaN</td>\n",
       "      <td>-34.732899</td>\n",
       "      <td>-0.629844</td>\n",
       "      <td>-0.976077</td>\n",
       "      <td>1.029634e+08</td>\n",
       "    </tr>\n",
       "    <tr>\n",
       "      <th>Equity(24 [AAPL])</th>\n",
       "      <td>NaN</td>\n",
       "      <td>-8.594865</td>\n",
       "      <td>-2.988556</td>\n",
       "      <td>-5.632086</td>\n",
       "      <td>6.722177e+11</td>\n",
       "    </tr>\n",
       "    <tr>\n",
       "      <th>Equity(25 [ARNC_PR])</th>\n",
       "      <td>NaN</td>\n",
       "      <td>NaN</td>\n",
       "      <td>NaN</td>\n",
       "      <td>NaN</td>\n",
       "      <td>NaN</td>\n",
       "    </tr>\n",
       "    <tr>\n",
       "      <th>Equity(31 [ABAX])</th>\n",
       "      <td>NaN</td>\n",
       "      <td>-42.920180</td>\n",
       "      <td>-5.640918</td>\n",
       "      <td>-5.281542</td>\n",
       "      <td>1.186963e+09</td>\n",
       "    </tr>\n",
       "  </tbody>\n",
       "</table>\n",
       "</div>"
      ],
      "text/plain": [
       "                                                Dividend Yield  \\\n",
       "2015-11-11 00:00:00+00:00 Equity(2 [ARNC])               0.011   \n",
       "                          Equity(21 [AAME])                NaN   \n",
       "                          Equity(24 [AAPL])                NaN   \n",
       "                          Equity(25 [ARNC_PR])             NaN   \n",
       "                          Equity(31 [ABAX])                NaN   \n",
       "\n",
       "                                                Price / TTM Cashflow  \\\n",
       "2015-11-11 00:00:00+00:00 Equity(2 [ARNC])                 -4.929472   \n",
       "                          Equity(21 [AAME])               -34.732899   \n",
       "                          Equity(24 [AAPL])                -8.594865   \n",
       "                          Equity(25 [ARNC_PR])                   NaN   \n",
       "                          Equity(31 [ABAX])               -42.920180   \n",
       "\n",
       "                                                Price / TTM Sales  \\\n",
       "2015-11-11 00:00:00+00:00 Equity(2 [ARNC])              -0.453038   \n",
       "                          Equity(21 [AAME])             -0.629844   \n",
       "                          Equity(24 [AAPL])             -2.988556   \n",
       "                          Equity(25 [ARNC_PR])                NaN   \n",
       "                          Equity(31 [ABAX])             -5.640918   \n",
       "\n",
       "                                                Price to Book     SPY Proxy  \n",
       "2015-11-11 00:00:00+00:00 Equity(2 [ARNC])          -0.899825  1.128021e+10  \n",
       "                          Equity(21 [AAME])         -0.976077  1.029634e+08  \n",
       "                          Equity(24 [AAPL])         -5.632086  6.722177e+11  \n",
       "                          Equity(25 [ARNC_PR])            NaN           NaN  \n",
       "                          Equity(31 [ABAX])         -5.281542  1.186963e+09  "
      ]
     },
     "execution_count": 7,
     "metadata": {},
     "output_type": "execute_result"
    }
   ],
   "source": [
    "# This factor creates the synthetic S&P500\n",
    "class SPY_proxy(CustomFactor):\n",
    "    inputs = [Fundamentals.market_cap]\n",
    "    window_length = 1\n",
    "    \n",
    "    def compute(self, today, assets, out, mc):\n",
    "        out[:] = mc[-1]\n",
    "        \n",
    "# Custom Factor 2 : P/B Ratio\n",
    "class Price_to_Book(CustomFactor):\n",
    "    inputs = [Fundamentals.pb_ratio]\n",
    "    window_length = 1\n",
    "\n",
    "    def compute(self, today, assets, out, pbr):\n",
    "        out[:] = -pbr[-1]\n",
    "        \n",
    "def Data_Pull():\n",
    "    \n",
    "    # create the piepline for the data pull\n",
    "    Data_Pipe = Pipeline()\n",
    "    \n",
    "    # create SPY proxy\n",
    "    Data_Pipe.add(SPY_proxy(), 'SPY Proxy')\n",
    "\n",
    "    # Div Yield\n",
    "    Data_Pipe.add(Div_Yield(), 'Dividend Yield') \n",
    "    \n",
    "    # Price to Book\n",
    "    Data_Pipe.add(Price_to_Book(), 'Price to Book')\n",
    "    \n",
    "    # Price / TTM Sales\n",
    "    Data_Pipe.add(Price_to_TTM_Sales(), 'Price / TTM Sales')\n",
    "    \n",
    "    # Price / TTM Cashflows\n",
    "    Data_Pipe.add(Price_to_TTM_Cashflows(), 'Price / TTM Cashflow')\n",
    "        \n",
    "    return Data_Pipe\n",
    "\n",
    "# NB: Data pull is a function that returns a Pipeline object, so need ()\n",
    "results = run_pipeline(Data_Pull(), start_date='2015-11-11', end_date='2015-11-11')\n",
    "results.head()"
   ]
  },
  {
   "cell_type": "markdown",
   "metadata": {},
   "source": [
    "##Aggregation\n",
    "\n",
    "Now that we have all our data, we need to manipulate this in order to create a single ranking of the securities. Lo/Patel recommend the following algorithm:\n",
    "\n",
    "* Extract the S&P500 from the set of equities and find the mean and standard deviation of each factor for this dataset (standard_frame_compute)\n",
    "\n",
    "* Use these computed values to standardize each factor (standard_frame_compute)\n",
    "\n",
    "* Replace values that are greater that 10 or less that -10 with 10 and -10 respectively in order to limit the effect of outliers (filter_fn)\n",
    "\n",
    "* Sum these values for each equity and divide by the number of factors in order to give a value between -10 and 10 (composite score)\n",
    "\n",
    "The code for this is shown below."
   ]
  },
  {
   "cell_type": "code",
   "execution_count": 8,
   "metadata": {
    "collapsed": false
   },
   "outputs": [
    {
     "name": "stderr",
     "output_type": "stream",
     "text": [
      "/usr/local/lib/python2.7/dist-packages/ipykernel_launcher.py:17: FutureWarning: sort(columns=....) is deprecated, use sort_values(by=.....)\n",
      "/usr/local/lib/python2.7/dist-packages/ipykernel_launcher.py:66: FutureWarning: sort is deprecated, use sort_values(inplace=True) for INPLACE sorting\n"
     ]
    },
    {
     "data": {
      "text/plain": [
       "(2015-11-11 00:00:00+00:00, Equity(35162 [ARR]))      1.941979\n",
       "(2015-11-11 00:00:00+00:00, Equity(27019 [WIN]))      1.670852\n",
       "(2015-11-11 00:00:00+00:00, Equity(39622 [NKA]))      1.631767\n",
       "(2015-11-11 00:00:00+00:00, Equity(28076 [RSO]))      1.575746\n",
       "(2015-11-11 00:00:00+00:00, Equity(32675 [BBEP]))     1.508037\n",
       "(2015-11-11 00:00:00+00:00, Equity(27993 [LINE]))     1.448997\n",
       "(2015-11-11 00:00:00+00:00, Equity(11461 [DOM]))      1.439093\n",
       "(2015-11-11 00:00:00+00:00, Equity(24102 [NRP]))      1.415778\n",
       "(2015-11-11 00:00:00+00:00, Equity(5061 [MSFT]))      1.408201\n",
       "(2015-11-11 00:00:00+00:00, Equity(34662 [NYMT]))     1.333686\n",
       "(2015-11-11 00:00:00+00:00, Equity(8347 [XOM]))       1.324958\n",
       "(2015-11-11 00:00:00+00:00, Equity(33159 [LGCY]))     1.251848\n",
       "(2015-11-11 00:00:00+00:00, Equity(33178 [MVO]))      1.247968\n",
       "(2015-11-11 00:00:00+00:00, Equity(38477 [CYS]))      1.226731\n",
       "(2015-11-11 00:00:00+00:00, Equity(35054 [NMM]))      1.213649\n",
       "(2015-11-11 00:00:00+00:00, Equity(3149 [GE]))        1.178168\n",
       "(2015-11-11 00:00:00+00:00, Equity(38887 [TWO]))      1.170784\n",
       "(2015-11-11 00:00:00+00:00, Equity(40060 [FULL]))     1.162997\n",
       "(2015-11-11 00:00:00+00:00, Equity(26517 [PSEC]))     1.160164\n",
       "(2015-11-11 00:00:00+00:00, Equity(6653 [T]))         1.146484\n",
       "(2015-11-11 00:00:00+00:00, Equity(21907 [MNDO]))     1.107410\n",
       "(2015-11-11 00:00:00+00:00, Equity(32443 [PGH]))      1.087876\n",
       "(2015-11-11 00:00:00+00:00, Equity(32293 [OBE]))      1.056844\n",
       "(2015-11-11 00:00:00+00:00, Equity(7143 [SAN]))       1.049898\n",
       "(2015-11-11 00:00:00+00:00, Equity(17657 [ORAN]))     1.046273\n",
       "(2015-11-11 00:00:00+00:00, Equity(27487 [RDS_A]))    1.040481\n",
       "(2015-11-11 00:00:00+00:00, Equity(39942 [AT]))       1.038906\n",
       "(2015-11-11 00:00:00+00:00, Equity(34931 [VNR]))      1.034368\n",
       "(2015-11-11 00:00:00+00:00, Equity(33024 [KCAP]))     1.026654\n",
       "(2015-11-11 00:00:00+00:00, Equity(27470 [RDS_B]))    1.022292\n",
       "                                                        ...   \n",
       "(2015-11-11 00:00:00+00:00, Equity(26017 [UTG]))     -0.982711\n",
       "(2015-11-11 00:00:00+00:00, Equity(26781 [MKTX]))    -0.983476\n",
       "(2015-11-11 00:00:00+00:00, Equity(34797 [MAIN]))    -1.026855\n",
       "(2015-11-11 00:00:00+00:00, Equity(1068 [BPT]))      -1.153233\n",
       "(2015-11-11 00:00:00+00:00, Equity(41886 [FNV]))     -1.172843\n",
       "(2015-11-11 00:00:00+00:00, Equity(22545 [NXJ]))     -1.209950\n",
       "(2015-11-11 00:00:00+00:00, Equity(28356 [GLO]))     -1.214150\n",
       "(2015-11-11 00:00:00+00:00, Equity(18522 [ARMH]))    -1.248968\n",
       "(2015-11-11 00:00:00+00:00, Equity(27200 [GLQ]))     -1.287656\n",
       "(2015-11-11 00:00:00+00:00, Equity(26521 [GLV]))     -1.289762\n",
       "(2015-11-11 00:00:00+00:00, Equity(7551 [TPL]))      -1.306126\n",
       "(2015-11-11 00:00:00+00:00, Equity(40168 [CFD]))     -1.336972\n",
       "(2015-11-11 00:00:00+00:00, Equity(24489 [GLNG]))    -1.348952\n",
       "(2015-11-11 00:00:00+00:00, Equity(5272 [NRT]))      -1.370774\n",
       "(2015-11-11 00:00:00+00:00, Equity(24731 [LEN_B]))   -1.519243\n",
       "(2015-11-11 00:00:00+00:00, Equity(1423 [CET]))      -1.525415\n",
       "(2015-11-11 00:00:00+00:00, Equity(4263 [KMB]))      -1.531782\n",
       "(2015-11-11 00:00:00+00:00, Equity(2382 [DXR]))      -1.561114\n",
       "(2015-11-11 00:00:00+00:00, Equity(2404 [EAT]))      -1.562417\n",
       "(2015-11-11 00:00:00+00:00, Equity(35902 [PM]))      -1.570361\n",
       "(2015-11-11 00:00:00+00:00, Equity(1936 [CSWC]))     -1.618194\n",
       "(2015-11-11 00:00:00+00:00, Equity(26414 [FEN]))     -1.750639\n",
       "(2015-11-11 00:00:00+00:00, Equity(20277 [RAI]))     -1.769105\n",
       "(2015-11-11 00:00:00+00:00, Equity(4417 [LEN]))      -1.885524\n",
       "(2015-11-11 00:00:00+00:00, Equity(2420 [ECF]))      -1.917463\n",
       "(2015-11-11 00:00:00+00:00, Equity(4849 [SPGI]))     -1.927483\n",
       "(2015-11-11 00:00:00+00:00, Equity(33555 [CQP]))     -2.062992\n",
       "(2015-11-11 00:00:00+00:00, Equity(4564 [LB]))       -2.086269\n",
       "(2015-11-11 00:00:00+00:00, Equity(5281 [NEN]))      -2.200646\n",
       "(2015-11-11 00:00:00+00:00, Equity(13508 [CLB]))     -2.521344\n",
       "dtype: float64"
      ]
     },
     "execution_count": 8,
     "metadata": {},
     "output_type": "execute_result"
    }
   ],
   "source": [
    "# limit effect of outliers\n",
    "def filter_fn(x):\n",
    "    if x <= -10:\n",
    "        x = -10.0\n",
    "    elif x >= 10:\n",
    "        x = 10.0\n",
    "    return x   \n",
    "\n",
    "# standardize using mean and sd of S&P500\n",
    "def standard_frame_compute(df):\n",
    "    \n",
    "    # basic clean of dataset to remove infinite values\n",
    "    df = df.replace([np.inf, -np.inf], np.nan)\n",
    "    df = df.dropna()\n",
    "    \n",
    "    # need standardization params from synthetic S&P500\n",
    "    df_SPY = df.sort(columns='SPY Proxy', ascending=False)\n",
    "\n",
    "    # create separate dataframe for SPY\n",
    "    # to store standardization values\n",
    "    df_SPY = df_SPY.head(500)\n",
    "    \n",
    "    # get dataframes into numpy array\n",
    "    df_SPY = df_SPY.as_matrix()\n",
    "    \n",
    "    # store index values\n",
    "    index = df.index.values\n",
    "    df = df.as_matrix()\n",
    "    \n",
    "    df_standard = np.empty(df.shape[0])\n",
    "    \n",
    "    \n",
    "    for col_SPY, col_full in zip(df_SPY.T, df.T):\n",
    "        \n",
    "        # summary stats for S&P500\n",
    "        mu = np.mean(col_SPY)\n",
    "        sigma = np.std(col_SPY)\n",
    "        col_standard = np.array(((col_full - mu) / sigma)) \n",
    "\n",
    "        # create vectorized function (lambda equivalent)\n",
    "        fltr = np.vectorize(filter_fn)\n",
    "        col_standard = (fltr(col_standard))\n",
    "        \n",
    "        # make range between -10 and 10\n",
    "        col_standard = (col_standard / df.shape[1])\n",
    "        \n",
    "        # attach calculated values as new row in df_standard\n",
    "        df_standard = np.vstack((df_standard, col_standard))\n",
    "     \n",
    "    # get rid of first entry (empty scores)\n",
    "    df_standard = np.delete(df_standard,0,0)\n",
    "    \n",
    "    return (df_standard, index)\n",
    "\n",
    "# Sum up and sort data\n",
    "def composite_score(df, index):\n",
    "\n",
    "    # sum up transformed data\n",
    "    df_composite = df.sum(axis=0)\n",
    "    \n",
    "    # put into a pandas dataframe and connect numbers\n",
    "    # to equities via reindexing\n",
    "    df_composite = pd.Series(data=df_composite,index=index)\n",
    "    \n",
    "    # sort descending\n",
    "    df_composite.sort(ascending=False)\n",
    "\n",
    "    return df_composite\n",
    "\n",
    "# compute the standardized values\n",
    "results_standard, index = standard_frame_compute(results)\n",
    "\n",
    "# aggregate the scores\n",
    "ranked_scores = composite_score(results_standard, index)\n",
    "\n",
    "# print the final rankings\n",
    "ranked_scores"
   ]
  },
  {
   "cell_type": "markdown",
   "metadata": {},
   "source": [
    "##Stock Choice\n",
    "\n",
    "Now that we have ranked our securities, we need to choose a long basket and a short basket. Since we need to keep the ratio 130/30 between longs and shorts, why not have 26 longs and 6 shorts (in the algorithm we will weigh each of these equally, giving us our desired leverage and exposure).\n",
    "\n",
    "On the graph below, we plot a histogram of the securities to get a sense of the distribution of scores. The red lines represent the cutoff points for the long and short buckets. One thing to notice is that the vast majority of equities are ranked near the middle of the histogram, whereas the tails are quite thin. This would suggest that there is something special about the securities chosen to be in these baskets, and -hopefully- these special qualities will yield positive alpha for the strategy."
   ]
  },
  {
   "cell_type": "code",
   "execution_count": 9,
   "metadata": {
    "collapsed": false
   },
   "outputs": [
    {
     "data": {
      "image/png": "[encoded data removed]",
      "text/plain": [
       "<matplotlib.figure.Figure at 0x7f8b874fbb90>"
      ]
     },
     "metadata": {},
     "output_type": "display_data"
    }
   ],
   "source": [
    "# create histogram of scores\n",
    "ranked_scores.hist()\n",
    "\n",
    "# make scores into list for ease of manipulation\n",
    "ranked_scores_list = ranked_scores.tolist()\n",
    "\n",
    "# add labels to axes\n",
    "plt.xlabel('Standardized Scores')\n",
    "plt.ylabel('Quantity in Basket')\n",
    "\n",
    "# show long bucket\n",
    "plt.axvline(x=ranked_scores_list[25], linewidth=1, color='r')\n",
    "\n",
    "# show short bucket\n",
    "plt.axvline(x=ranked_scores_list[-6], linewidth=1, color='r');"
   ]
  },
  {
   "cell_type": "markdown",
   "metadata": {},
   "source": [
    "Please see the full algorithm for backtested returns!"
   ]
  },
  {
   "cell_type": "markdown",
   "metadata": {},
   "source": [
    "NB: In the implementation of the algorithm, a series of filters is used in order to ensure that only tradeable stocks are included. The methodology for this filter can be found in https://www.quantopian.com/posts/pipeline-trading-universe-best-practice."
   ]
  },
  {
   "cell_type": "markdown",
   "metadata": {},
   "source": [
    "*This presentation is for informational purposes only and does not constitute an offer to sell, a solicitation to buy, or a recommendation for any security; nor does it constitute an offer to provide investment advisory or other services by Quantopian, Inc. (\"Quantopian\"). Nothing contained herein constitutes investment advice or offers any opinion with respect to the suitability of any security, and any views expressed herein should not be taken as advice to buy, sell, or hold any security or as an endorsement of any security or company.  In preparing the information contained herein, Quantopian, Inc. has not taken into account the investment needs, objectives, and financial circumstances of any particular investor. Any views expressed and data illustrated herein were prepared based upon information, believed to be reliable, available to Quantopian, Inc. at the time of publication. Quantopian makes no guarantees as to their accuracy or completeness. All information is subject to change and may quickly become unreliable for various reasons, including changes in market conditions or economic circumstances.*"
   ]
  }
 ],
 "metadata": {
  "kernelspec": {
   "display_name": "Python 2",
   "language": "python",
   "name": "python2"
  },
  "language_info": {
   "codemirror_mode": {
    "name": "ipython",
    "version": 2
   },
   "file_extension": ".py",
   "mimetype": "text/x-python",
   "name": "python",
   "nbconvert_exporter": "python",
   "pygments_lexer": "ipython2",
   "version": "2.7.12"
  }
 },
 "nbformat": 4,
 "nbformat_minor": 0
}
