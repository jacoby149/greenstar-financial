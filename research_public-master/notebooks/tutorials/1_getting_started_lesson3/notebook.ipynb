{
 "cells": [
  {
   "cell_type": "markdown",
   "metadata": {},
   "source": [
    "## Pipeline API"
   ]
  },
  {
   "cell_type": "markdown",
   "metadata": {},
   "source": [
    "The Pipeline API is a powerful tool for cross-sectional analysis of asset data. It allows us to define a set of calculations on multiple data inputs and analyze a large amount of assets at a time. Some common uses for the Pipeline API include:  \n",
    "\n",
    "* Selecting assets based on filtering rules  \n",
    "* Ranking assets based on a scoring function  \n",
    "* Calculating portfolio allocations  \n",
    "\n",
    "To begin, let's import the Pipeline class and create a function that returns an empty pipeline. Putting our pipeline definition inside a function helps us keep things organized as our pipeline grows in complexity. This is particularly helpful when transferring data pipelines between Research and the IDE."
   ]
  },
  {
   "cell_type": "code",
   "execution_count": 1,
   "metadata": {},
   "outputs": [],
   "source": [
    "# Pipeline class\n",
    "from quantopian.pipeline import Pipeline\n",
    "\n",
    "def make_pipeline():\n",
    "    # Create and return an empty Pipeline\n",
    "    return Pipeline()"
   ]
  },
  {
   "cell_type": "markdown",
   "metadata": {},
   "source": [
    "To add an output to our pipeline we need to include a reference to a dataset, and specify the computations we want to carry out on that data. For example, we will add a reference to the `close` column from the `USEquityPricing` dataset. Then, we can define our output to be the latest value from this column as follows:"
   ]
  },
  {
   "cell_type": "code",
   "execution_count": 2,
   "metadata": {},
   "outputs": [],
   "source": [
    "# Import Pipeline class and USEquityPricing dataset\n",
    "from quantopian.pipeline import Pipeline\n",
    "from quantopian.pipeline.data import EquityPricing\n",
    "from quantopian.pipeline.domain import US_EQUITIES\n",
    "\n",
    "def make_pipeline():\n",
    "    # Get latest closing price\n",
    "    close_price = EquityPricing.close.latest\n",
    "\n",
    "    # Return Pipeline containing latest closing price\n",
    "    return Pipeline(\n",
    "        columns={\n",
    "            'close_price': close_price,\n",
    "        },\n",
    "        domain=US_EQUITIES,\n",
    "    )"
   ]
  },
  {
   "cell_type": "markdown",
   "metadata": {},
   "source": [
    "The Pipeline API also provides a number of built-in calculations, some of which are computed over trailing windows of data. For example, the following code imports the sentdex `sentiment` dataset and defines an output as the 3 day moving average of its `sentiment_signal` column:"
   ]
  },
  {
   "cell_type": "code",
   "execution_count": 3,
   "metadata": {},
   "outputs": [],
   "source": [
    "# Import Pipeline class and datasets\n",
    "from quantopian.pipeline import Pipeline\n",
    "from quantopian.pipeline.data import EquityPricing\n",
    "from quantopian.pipeline.domain import US_EQUITIES\n",
    "from quantopian.pipeline.data.sentdex import sentiment\n",
    "\n",
    "# Import built-in moving average calculation\n",
    "from quantopian.pipeline.factors import SimpleMovingAverage\n",
    "\n",
    "\n",
    "def make_pipeline():\n",
    "    # Get latest closing price\n",
    "    close_price = EquityPricing.close.latest\n",
    "\n",
    "    # Calculate 3 day average the sentiment signal\n",
    "    sentiment_score = SimpleMovingAverage(\n",
    "        inputs=[sentiment.sentiment_signal],\n",
    "        window_length=3,\n",
    "    )\n",
    "\n",
    "    # Return Pipeline containing close_price\n",
    "    # and sentiment_score\n",
    "    return Pipeline(\n",
    "        columns={\n",
    "            'close_price': close_price,\n",
    "            'sentiment_score': sentiment_score,\n",
    "        }\n",
    "    )"
   ]
  },
  {
   "cell_type": "markdown",
   "metadata": {},
   "source": [
    "### Universe Selection"
   ]
  },
  {
   "cell_type": "markdown",
   "metadata": {},
   "source": [
    "An important part of developing a strategy is defining the set of assets that we want to consider trading in our portfolio. We usually refer to this set of assets as our trading universe.  \n",
    "\n",
    "A trading universe should be as large as possible, while also excluding assets that aren't appropriate for our portfolio. For example, we want to exclude stocks that are illiquid or difficult to trade. Quantopian's `QTradableStocksUS` universe offers this characteristic. We can set `QTradableStocksUS` as our trading universe using the screen parameter of our pipeline constructor. We can also screen for only those stocks that have a valid, non nan, sentiment_mean:"
   ]
  },
  {
   "cell_type": "code",
   "execution_count": 4,
   "metadata": {},
   "outputs": [],
   "source": [
    "# Import Pipeline class and datasets\n",
    "from quantopian.pipeline import Pipeline\n",
    "from quantopian.pipeline.data import EquityPricing\n",
    "from quantopian.pipeline.domain import US_EQUITIES\n",
    "from quantopian.pipeline.data.sentdex import sentiment\n",
    "\n",
    "# Import built-in moving average calculation\n",
    "from quantopian.pipeline.factors import SimpleMovingAverage\n",
    "\n",
    "# Import built-in trading universe\n",
    "from quantopian.pipeline.filters import QTradableStocksUS\n",
    "\n",
    "\n",
    "def make_pipeline():\n",
    "    # Create a reference to our trading universe\n",
    "    base_universe = QTradableStocksUS()\n",
    "\n",
    "    # Get latest closing price\n",
    "    close_price = EquityPricing.close.latest\n",
    "\n",
    "    # Calculate 3 day average of sentiment scores\n",
    "    sentiment_score = SimpleMovingAverage(\n",
    "        inputs=[sentiment.sentiment_signal],\n",
    "        window_length=3,\n",
    "    )\n",
    "\n",
    "    # Return Pipeline containing close_price and\n",
    "    # sentiment_score that has our trading universe as screen\n",
    "    return Pipeline(\n",
    "        columns={\n",
    "            'close_price': close_price,\n",
    "            'sentiment_score': sentiment_score,\n",
    "        },\n",
    "        screen=base_universe & sentiment_score.notnan(),\n",
    "        domain=US_EQUITIES,\n",
    "    )"
   ]
  },
  {
   "cell_type": "markdown",
   "metadata": {},
   "source": [
    "Now that our pipeline definition is complete, we can execute it over a specific period of time using `run_pipeline`. The output will be a pandas DataFrame indexed by date and asset, with columns corresponding to the outputs we added to our pipeline definition:"
   ]
  },
  {
   "cell_type": "code",
   "execution_count": 5,
   "metadata": {},
   "outputs": [
    {
     "data": {
      "application/vnd.jupyter.widget-view+json": {
       "model_id": "",
       "version_major": 2,
       "version_minor": 0
      },
      "text/plain": []
     },
     "metadata": {},
     "output_type": "display_data"
    },
    {
     "data": {
      "text/html": [
       "<b>Pipeline Execution Time:</b> 2 Minutes, 36.61 Seconds"
      ],
      "text/plain": [
       "<IPython.core.display.HTML object>"
      ]
     },
     "metadata": {},
     "output_type": "display_data"
    },
    {
     "data": {
      "text/html": [
       "<div>\n",
       "<table border=\"1\" class=\"dataframe\">\n",
       "  <thead>\n",
       "    <tr style=\"text-align: right;\">\n",
       "      <th></th>\n",
       "      <th></th>\n",
       "      <th>close_price</th>\n",
       "      <th>sentiment_score</th>\n",
       "    </tr>\n",
       "  </thead>\n",
       "  <tbody>\n",
       "    <tr>\n",
       "      <th rowspan=\"10\" valign=\"top\">2014-01-02 00:00:00+00:00</th>\n",
       "      <th>Equity(2 [HWM])</th>\n",
       "      <td>10.63</td>\n",
       "      <td>6.000000</td>\n",
       "    </tr>\n",
       "    <tr>\n",
       "      <th>Equity(24 [AAPL])</th>\n",
       "      <td>561.16</td>\n",
       "      <td>-1.666667</td>\n",
       "    </tr>\n",
       "    <tr>\n",
       "      <th>Equity(62 [ABT])</th>\n",
       "      <td>38.34</td>\n",
       "      <td>4.000000</td>\n",
       "    </tr>\n",
       "    <tr>\n",
       "      <th>Equity(67 [ADSK])</th>\n",
       "      <td>50.32</td>\n",
       "      <td>6.000000</td>\n",
       "    </tr>\n",
       "    <tr>\n",
       "      <th>Equity(76 [TAP])</th>\n",
       "      <td>56.15</td>\n",
       "      <td>6.000000</td>\n",
       "    </tr>\n",
       "    <tr>\n",
       "      <th>Equity(88 [ACI])</th>\n",
       "      <td>4.44</td>\n",
       "      <td>6.000000</td>\n",
       "    </tr>\n",
       "    <tr>\n",
       "      <th>Equity(114 [ADBE])</th>\n",
       "      <td>59.87</td>\n",
       "      <td>5.000000</td>\n",
       "    </tr>\n",
       "    <tr>\n",
       "      <th>Equity(122 [ADI])</th>\n",
       "      <td>50.93</td>\n",
       "      <td>6.000000</td>\n",
       "    </tr>\n",
       "    <tr>\n",
       "      <th>Equity(128 [ADM])</th>\n",
       "      <td>43.41</td>\n",
       "      <td>4.000000</td>\n",
       "    </tr>\n",
       "    <tr>\n",
       "      <th>Equity(161 [AEP])</th>\n",
       "      <td>46.74</td>\n",
       "      <td>6.000000</td>\n",
       "    </tr>\n",
       "  </tbody>\n",
       "</table>\n",
       "</div>"
      ],
      "text/plain": [
       "                                              close_price  sentiment_score\n",
       "2014-01-02 00:00:00+00:00 Equity(2 [HWM])           10.63         6.000000\n",
       "                          Equity(24 [AAPL])        561.16        -1.666667\n",
       "                          Equity(62 [ABT])          38.34         4.000000\n",
       "                          Equity(67 [ADSK])         50.32         6.000000\n",
       "                          Equity(76 [TAP])          56.15         6.000000\n",
       "                          Equity(88 [ACI])           4.44         6.000000\n",
       "                          Equity(114 [ADBE])        59.87         5.000000\n",
       "                          Equity(122 [ADI])         50.93         6.000000\n",
       "                          Equity(128 [ADM])         43.41         4.000000\n",
       "                          Equity(161 [AEP])         46.74         6.000000"
      ]
     },
     "execution_count": 5,
     "metadata": {},
     "output_type": "execute_result"
    }
   ],
   "source": [
    "# Import run_pipeline method\n",
    "from quantopian.research import run_pipeline\n",
    "\n",
    "# Execute pipeline created by make_pipeline\n",
    "# between start_date and end_date\n",
    "pipeline_output = run_pipeline(\n",
    "    make_pipeline(),\n",
    "    start_date='2014-01-01',\n",
    "    end_date='2017-1-1'\n",
    ")\n",
    "\n",
    "# Display last 10 rows\n",
    "pipeline_output.head(10)"
   ]
  },
  {
   "cell_type": "markdown",
   "metadata": {},
   "source": [
    "In the next lesson we will formalize the strategy our algorithm will use to select assets to trade. Then, we will use a factor analysis tool to evaluate the predictive power of our strategy over historical data."
   ]
  }
 ],
 "metadata": {
  "kernelspec": {
   "display_name": "Python 3.5",
   "language": "python",
   "name": "py35"
  },
  "language_info": {
   "codemirror_mode": {
    "name": "ipython",
    "version": 3
   },
   "file_extension": ".py",
   "mimetype": "text/x-python",
   "name": "python",
   "nbconvert_exporter": "python",
   "pygments_lexer": "ipython3",
   "version": "3.5.9"
  }
 },
 "nbformat": 4,
 "nbformat_minor": 2
}