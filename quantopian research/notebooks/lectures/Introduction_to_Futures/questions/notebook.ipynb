{
 "cells": [
  {
   "cell_type": "markdown",
   "metadata": {
    "deletable": true,
    "editable": true
   },
   "source": [
    "# Exercises: Introduction to Futures Contracts\n",
    "By Christopher van Hoecke, Maxwell Margenot, and Delaney Mackenzie\n",
    "\n",
    "## Lecture Link : \n",
    "https://www.quantopian.com/lectures/introduction-to-futures\n",
    "\n",
    "### IMPORTANT NOTE: \n",
    "This lecture corresponds to the Futures lecture, which is part of the Quantopian lecture series. This homework expects you to rely heavily on the code presented in the corresponding lecture. Please copy and paste regularly from that lecture when starting to work on the problems, as trying to do them from scratch will likely be too difficult.\n",
    "\n",
    "Part of the Quantopian Lecture Series:\n",
    "\n",
    "* [www.quantopian.com/lectures](https://www.quantopian.com/lectures)\n",
    "* [github.com/quantopian/research_public](https://github.com/quantopian/research_public)\n",
    "\n",
    "----"
   ]
  },
  {
   "cell_type": "code",
   "execution_count": null,
   "metadata": {
    "collapsed": true,
    "deletable": true,
    "editable": true
   },
   "outputs": [],
   "source": [
    "# Useful Libraries\n",
    "import numpy as np\n",
    "import pandas as pd\n",
    "import matplotlib.pyplot as plt"
   ]
  },
  {
   "cell_type": "markdown",
   "metadata": {
    "deletable": true,
    "editable": true
   },
   "source": [
    "----"
   ]
  },
  {
   "cell_type": "markdown",
   "metadata": {
    "deletable": true,
    "editable": true
   },
   "source": [
    "# Exercise 1: Futures Contract vs. Spot Markets\n",
    "\n",
    "In 2016, a corn farmer decided to sell his corn at the spot price to a distributor.\n",
    "\n",
    "Decide whether his decision to sell corn at the spot price was a wise one by comparing his profits from the market contract with his potential profits from the futures contract.\n",
    "\n",
    "Use the price of CORN, an ETF, as the spot price for 6 bushels of corn when he goes to market.\n",
    "\n",
    "You may also assume the following:\n",
    "- The producer plans on selling 15,000 bushels of corn in September 2016\n",
    "- The farmer would enter into a futures position on June 1st\n",
    "- The spot price sale would take place on the same date that the futures contract expires\n",
    "- No fees or payments are included in the futures sale or the market sale\n",
    "\n",
    "(Note that the listed futures price of corn is for one bushel.)"
   ]
  },
  {
   "cell_type": "code",
   "execution_count": null,
   "metadata": {
    "collapsed": false,
    "deletable": true,
    "editable": true,
    "scrolled": false
   },
   "outputs": [],
   "source": [
    "bushels = 15000\n",
    "spot_symbol = 'CORN'\n",
    "futures_contract = symbols('CNU16')\n",
    "spot_prices = get_pricing(spot_symbol, start_date = '2016-06-01', end_date = '2016-09-15', fields = 'price')\n",
    "futures_prices = get_pricing(futures_contract, start_date = '2016-06-01',end_date='2016-09-15', fields='price')\n",
    "\n",
    "# Sale date of corn \n",
    "sale_date = '2016-09-14'\n",
    "\n",
    "# Plotting\n",
    "plt.plot(spot_prices);\n",
    "plt.axvline(sale_date, linestyle='dashed', color='r', label='Sale Date')\n",
    "plt.legend();"
   ]
  },
  {
   "cell_type": "code",
   "execution_count": null,
   "metadata": {
    "collapsed": false,
    "deletable": true,
    "editable": true
   },
   "outputs": [],
   "source": [
    "p = spot_prices.loc[sale_date]\n",
    "spot_multiplier = bushels//6\n",
    "\n",
    "market_profits = \n",
    "\n",
    "print 'profits from market price: $', market_profits"
   ]
  },
  {
   "cell_type": "code",
   "execution_count": null,
   "metadata": {
    "collapsed": false,
    "deletable": true,
    "editable": true
   },
   "outputs": [],
   "source": [
    "## Your code goes here\n",
    "futures_entry_date = '2016-06-01'\n",
    "futures_profits =\n",
    "print 'profits from future contract:', futures_profits, '$'"
   ]
  },
  {
   "cell_type": "code",
   "execution_count": null,
   "metadata": {
    "collapsed": true,
    "deletable": true,
    "editable": true
   },
   "outputs": [],
   "source": [
    "## Your code goes here\n",
    "lost_profits =\n",
    "print 'Profits the producer lost in a year:', int(lost_profits), '$'"
   ]
  },
  {
   "cell_type": "markdown",
   "metadata": {
    "deletable": true,
    "editable": true
   },
   "source": [
    "---"
   ]
  },
  {
   "cell_type": "markdown",
   "metadata": {
    "collapsed": true,
    "deletable": true,
    "editable": true
   },
   "source": [
    "# Exercise 2: Carrying Costs\n",
    "\n",
    "## a. Contango\n",
    "\n",
    "Consider the same corn farmer from Exercise 1. \n",
    "\n",
    "Calculate the theoretical futures price series as a function of time, given the following:\n",
    "- The cost of carry is $0.01$\n",
    "- The spot price of corn was originally 1000 dollars, and that the price is driven by a normal distribution\n",
    "- Maturity is achieved after 100 days\n",
    "\n",
    "$$\\text{Recall:}  \\quad   F(t, T) = S(t)e^{c(T - t)}$$\n"
   ]
  },
  {
   "cell_type": "code",
   "execution_count": null,
   "metadata": {
    "collapsed": false,
    "deletable": true,
    "editable": true
   },
   "outputs": [],
   "source": [
    "## Your code goes here\n",
    "N =  # Days to expiry of futures contract\n",
    "cost_of_carry =  # Cost of Carry\n",
    "\n",
    "spot_price = pd.Series(np.ones(N), name = \"Spot Price\")\n",
    "futures_price = pd.Series(np.ones(N), name = \"Futures Price\")\n",
    "\n",
    "## Your code goes here\n",
    "spot_price[0] =  # Starting Spot Price \n",
    "futures_price[0] = spot_price[0]*np.exp(cost_of_carry*N)\n",
    "\n",
    "for n in range(1, N): \n",
    "    spot_price[n] = spot_price[n-1]*(1 + np.random.normal(0, 0.05))\n",
    "    futures_price[n] = spot_price[n]*np.exp(cost_of_carry*(N - n))\n",
    "\n",
    "spot_price.plot()\n",
    "futures_price.plot()\n",
    "plt.legend()\n",
    "\n",
    "plt.title('Contango')\n",
    "plt.xlabel('Time')\n",
    "plt.ylabel('Price');"
   ]
  },
  {
   "cell_type": "markdown",
   "metadata": {
    "deletable": true,
    "editable": true
   },
   "source": [
    "## b. Backwardation\n",
    "Consider the corn farmer again.\n",
    "\n",
    "Calculate the futures price as a function of time, given the following:\n",
    "\n",
    "- The cost of carry is -0.01\n",
    "- The spot price of corn was originally \\$1000, and that the price is driven by a normal distribution\n",
    "- Maturity is achieved after 100 days"
   ]
  },
  {
   "cell_type": "code",
   "execution_count": null,
   "metadata": {
    "collapsed": false,
    "deletable": true,
    "editable": true
   },
   "outputs": [],
   "source": [
    "## Your code goes here\n",
    "N =  # Days to expiry of futures contract\n",
    "cost_of_carry =  # Cost of Carriny\n",
    "\n",
    "spot_price = pd.Series(np.ones(N), name = \"Spot Price\")\n",
    "futures_price = pd.Series(np.ones(N), name = \"Futures Price\")\n",
    "\n",
    "## Your code goes here\n",
    "spot_price[0] =  # Starting Spot Price \n",
    "futures_price[0] = spot_price[0]*np.exp(cost_of_carry*N)\n",
    "\n",
    "for n in range(1, N): \n",
    "    spot_price[n] = spot_price[n-1]*(1 + np.random.normal(0, 0.05))\n",
    "    futures_price[n] = spot_price[n]*np.exp(cost_of_carry*(N - n))\n",
    "\n",
    "spot_price.plot()\n",
    "futures_price.plot()\n",
    "plt.legend()\n",
    "\n",
    "plt.title('Contango')\n",
    "plt.xlabel('Time')\n",
    "plt.ylabel('Price');"
   ]
  },
  {
   "cell_type": "markdown",
   "metadata": {},
   "source": [
    "---"
   ]
  },
  {
   "cell_type": "markdown",
   "metadata": {
    "deletable": true,
    "editable": true
   },
   "source": [
    "Congratulations on completing the Introduction to Futures exercises!\n",
    "\n",
    "As you learn more about writing trading models and the Quantopian platform, enter the daily [Quantopian Contest](https://www.quantopian.com/contest). Your strategy will be evaluated for a cash prize every day.\n",
    "\n",
    "Start by going through the [Writing a Contest Algorithm](https://www.quantopian.com/tutorials/contest) tutorial."
   ]
  },
  {
   "cell_type": "markdown",
   "metadata": {
    "deletable": true,
    "editable": true
   },
   "source": [
    "*This presentation is for informational purposes only and does not constitute an offer to sell, a solicitation to buy, or a recommendation for any security; nor does it constitute an offer to provide investment advisory or other services by Quantopian, Inc. (\"Quantopian\"). Nothing contained herein constitutes investment advice or offers any opinion with respect to the suitability of any security, and any views expressed herein should not be taken as advice to buy, sell, or hold any security or as an endorsement of any security or company.  In preparing the information contained herein, Quantopian, Inc. has not taken into account the investment needs, objectives, and financial circumstances of any particular investor. Any views expressed and data illustrated herein were prepared based upon information, believed to be reliable, available to Quantopian, Inc. at the time of publication. Quantopian makes no guarantees as to their accuracy or completeness. All information is subject to change and may quickly become unreliable for various reasons, including changes in market conditions or economic circumstances.*"
   ]
  }
 ],
 "metadata": {
  "kernelspec": {
   "display_name": "Python 2",
   "language": "python",
   "name": "python2"
  },
  "language_info": {
   "codemirror_mode": {
    "name": "ipython",
    "version": 2
   },
   "file_extension": ".py",
   "mimetype": "text/x-python",
   "name": "python",
   "nbconvert_exporter": "python",
   "pygments_lexer": "ipython2",
   "version": "2.7.12"
  }
 },
 "nbformat": 4,
 "nbformat_minor": 2
}