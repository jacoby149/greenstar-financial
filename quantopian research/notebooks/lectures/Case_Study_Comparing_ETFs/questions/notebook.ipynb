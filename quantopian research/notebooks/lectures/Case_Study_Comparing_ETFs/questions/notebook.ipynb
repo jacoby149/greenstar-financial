{
 "cells": [
  {
   "cell_type": "markdown",
   "metadata": {
    "collapsed": true
   },
   "source": [
    "# Exercises: Comparing ETFs\n",
    "By Christopher van Hoecke, Maxwell Margenot, and Delaney Mackenzie\n",
    "\n",
    "\n",
    "## Lecture Link :\n",
    "https://www.quantopian.com/lectures/statistical-moments\n",
    "\n",
    "https://www.quantopian.com/lectures/hypothesis-testing\n",
    "\n",
    "###IMPORTANT NOTE: \n",
    "This lecture corresponds to the statistical moments and hypothesis testing lecture, which is part of the Quantopian lecture series. This homework expects you to rely heavily on the code presented in the corresponding lecture. Please copy and paste regularly from that lecture when starting to work on the problems, as trying to do them from scratch will likely be too difficult.\n",
    "\n",
    "When you feel comfortable with the topics presented here, see if you can create an algorithm that qualifies for the Quantopian Contest. Participants are evaluated on their ability to produce risk-constrained alpha and the top 10 contest participants are awarded cash prizes on a daily basis.\n",
    "\n",
    "https://www.quantopian.com/contest\n",
    "\n",
    "Part of the Quantopian Lecture Series:\n",
    "\n",
    "* [www.quantopian.com/lectures](https://www.quantopian.com/lectures)\n",
    "* [github.com/quantopian/research_public](https://github.com/quantopian/research_public)\n",
    "----"
   ]
  },
  {
   "cell_type": "markdown",
   "metadata": {},
   "source": [
    "## Key Concepts\n",
    "t-statistic formula for unequal variances : $ t = \\frac{\\bar{X}_1 - \\bar{X}_2}{(\\frac{s_1^2}{n_1} + \\frac{s_2^2}{n_2})^{1/2}}$\n",
    "\n",
    "Where $s_1$ and $s_2$ are the standard deviation of set 1 and set 2; and $n_1$ and $n_2$ are the number of observations we have."
   ]
  },
  {
   "cell_type": "code",
   "execution_count": null,
   "metadata": {
    "collapsed": true
   },
   "outputs": [],
   "source": [
    "# Useful Libraries\n",
    "import numpy as np\n",
    "import matplotlib.pyplot as plt\n",
    "from scipy import stats\n",
    "import seaborn as sns"
   ]
  },
  {
   "cell_type": "code",
   "execution_count": null,
   "metadata": {
    "collapsed": true
   },
   "outputs": [],
   "source": [
    "# Useful functions \n",
    "def normal_test(X):\n",
    "    z, pval = stats.normaltest(X)\n",
    "    if pval < 0.05:\n",
    "        print 'Values are not normally distributed.'\n",
    "    else: \n",
    "        print 'Values are normally distributed.'\n",
    "    return"
   ]
  },
  {
   "cell_type": "markdown",
   "metadata": {},
   "source": [
    "#### Data"
   ]
  },
  {
   "cell_type": "code",
   "execution_count": null,
   "metadata": {
    "collapsed": true
   },
   "outputs": [],
   "source": [
    "# Get pricing data for an energy (XLE) and industrial (XLI) ETF\n",
    "xle = get_pricing('XLE', fields = 'price', start_date = '2016-01-01', end_date = '2017-01-01')\n",
    "xli = get_pricing('XLI', fields = 'price', start_date = '2016-01-01', end_date = '2017-01-01')\n",
    "\n",
    "# Compute returns\n",
    "xle_returns = xle.pct_change()[1:]\n",
    "xli_returns = xli.pct_change()[1:]"
   ]
  },
  {
   "cell_type": "markdown",
   "metadata": {},
   "source": [
    "## Exercise 1 : Hypothesis Testing on Variance. \n",
    "- Plot the histogram of the returns of XLE and XLI\n",
    "- Check to see if each return stream is normally distributed\n",
    "- If the assets are normally distributed, use the F-test to perform a hypothesis test and decide whether they have the two assets have the same variance.\n",
    "- If the assets are **not** normally distributed, use the Levene test (in the scipy library) to perform a hypothesis test on variance. "
   ]
  },
  {
   "cell_type": "code",
   "execution_count": null,
   "metadata": {
    "collapsed": true
   },
   "outputs": [],
   "source": [
    "# Histograms of XLE and XLI returns\n",
    "\n",
    "## Your code goes here"
   ]
  },
  {
   "cell_type": "code",
   "execution_count": null,
   "metadata": {
    "collapsed": true
   },
   "outputs": [],
   "source": [
    "# Checking for normality using function above. \n",
    "\n",
    "## Your code goes here"
   ]
  },
  {
   "cell_type": "code",
   "execution_count": null,
   "metadata": {
    "collapsed": true
   },
   "outputs": [],
   "source": [
    "# Use the levene or the F-test to check hypothesis of variance. \n",
    "\n",
    "## Your code goes ehre"
   ]
  },
  {
   "cell_type": "markdown",
   "metadata": {},
   "source": [
    "----"
   ]
  },
  {
   "cell_type": "markdown",
   "metadata": {},
   "source": [
    "## Exercise 2 : Hypothesis Testing on Mean.\n",
    "\n",
    "Since we know that the variances are not equal, we must use Welch's t-test. \n",
    "- Calculate the mean returns of XLE and XLI.\n",
    "    - Find the difference between the two means.\n",
    "- Calculate the standard deviation of the returns of XLE and XLI\n",
    "- Using the formula given above, calculate the t-test statistic (Using $\\alpha = 0.05$) for Welch's t-test to test whether the mean returns of XLE and XLI are different.\n",
    "- Consult the [Hypothesis Testing Lecture](https://www.quantopian.com/lectures#Hypothesis-Testing) to calculate the p-value for this test. Are the mean returns of XLE and XLI the same?\n",
    "\n",
    "\n",
    "- Now use the t-test function for two independent samples from the scipy library. Compare the results."
   ]
  },
  {
   "cell_type": "code",
   "execution_count": null,
   "metadata": {
    "collapsed": true
   },
   "outputs": [],
   "source": [
    "# Manually calculating the t-statistic\n",
    "# Note that the test also requires information about the degrees of freedom\n",
    "# We will not compute that here\n",
    "\n",
    "## Your code goes here"
   ]
  },
  {
   "cell_type": "code",
   "execution_count": null,
   "metadata": {
    "collapsed": true
   },
   "outputs": [],
   "source": [
    "# Alternative form, using the scipy library on python. \n",
    "\n",
    "## Your code goes here"
   ]
  },
  {
   "cell_type": "markdown",
   "metadata": {},
   "source": [
    "----"
   ]
  },
  {
   "cell_type": "markdown",
   "metadata": {
    "collapsed": true
   },
   "source": [
    "## Exercise 3 : Skewness\n",
    "- Calculate the mean and median of the two assets\n",
    "- Calculate the skewness using the scipy library"
   ]
  },
  {
   "cell_type": "code",
   "execution_count": null,
   "metadata": {
    "collapsed": true
   },
   "outputs": [],
   "source": [
    "# Calculate the mean and median of xle and xli using the numpy library\n",
    "\n",
    "## Your code goes here"
   ]
  },
  {
   "cell_type": "code",
   "execution_count": null,
   "metadata": {
    "collapsed": true
   },
   "outputs": [],
   "source": [
    "# Print values of Skewness for xle and xli returns \n",
    "\n",
    "## Your code goes here"
   ]
  },
  {
   "cell_type": "markdown",
   "metadata": {},
   "source": [
    "----"
   ]
  },
  {
   "cell_type": "markdown",
   "metadata": {},
   "source": [
    "## Exercise 4 :  Kurtosis\n",
    "- Check the kurtosis of the two assets, using the scipy library. \n",
    "- Using the seaborn library, plot the distribution of XLE and XLI returns. \n",
    "\n",
    "Recall:   \n",
    "- Kurtosis > 3 is leptokurtic, a highly peaked, narrow deviation from the mean\n",
    "- Kurtosis = 3 is mesokurtic. The most significant mesokurtic distribution is the normal distribution family. \n",
    "- Kurtosis < 3 is platykurtic, a lower-peaked, broad deviation from the mean"
   ]
  },
  {
   "cell_type": "code",
   "execution_count": null,
   "metadata": {
    "collapsed": true,
    "scrolled": true
   },
   "outputs": [],
   "source": [
    "# Print value of Kurtosis for xle and xli returns \n",
    "\n",
    "## Your code goes here"
   ]
  },
  {
   "cell_type": "code",
   "execution_count": null,
   "metadata": {
    "collapsed": true,
    "scrolled": false
   },
   "outputs": [],
   "source": [
    "# Distribution plot of XLE returns in red (for Kurtosis of 1.6). \n",
    "# Distribution plot of XLI returns in blue (for Kurtosis of 2.0).\n",
    "\n",
    "## Your code goes here"
   ]
  },
  {
   "cell_type": "markdown",
   "metadata": {},
   "source": [
    "*This presentation is for informational purposes only and does not constitute an offer to sell, a solicitation to buy, or a recommendation for any security; nor does it constitute an offer to provide investment advisory or other services by Quantopian, Inc. (\"Quantopian\"). Nothing contained herein constitutes investment advice or offers any opinion with respect to the suitability of any security, and any views expressed herein should not be taken as advice to buy, sell, or hold any security or as an endorsement of any security or company.  In preparing the information contained herein, Quantopian, Inc. has not taken into account the investment needs, objectives, and financial circumstances of any particular investor. Any views expressed and data illustrated herein were prepared based upon information, believed to be reliable, available to Quantopian, Inc. at the time of publication. Quantopian makes no guarantees as to their accuracy or completeness. All information is subject to change and may quickly become unreliable for various reasons, including changes in market conditions or economic circumstances.*"
   ]
  }
 ],
 "metadata": {
  "kernelspec": {
   "display_name": "Python 2",
   "language": "python",
   "name": "python2"
  },
  "language_info": {
   "codemirror_mode": {
    "name": "ipython",
    "version": 2
   },
   "file_extension": ".py",
   "mimetype": "text/x-python",
   "name": "python",
   "nbconvert_exporter": "python",
   "pygments_lexer": "ipython2",
   "version": "2.7.10"
  }
 },
 "nbformat": 4,
 "nbformat_minor": 2
}
