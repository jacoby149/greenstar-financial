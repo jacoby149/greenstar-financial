{
 "cells": [
  {
   "cell_type": "markdown",
   "metadata": {},
   "source": [
    "# Alphalens Quickstart Template"
   ]
  },
  {
   "cell_type": "code",
   "execution_count": null,
   "metadata": {},
   "outputs": [],
   "source": [
    "from quantopian.pipeline import Pipeline\n",
    "from quantopian.research import run_pipeline\n",
    "from quantopian.pipeline.filters import QTradableStocksUS\n",
    "from quantopian.pipeline.data import factset, USEquityPricing\n",
    "from quantopian.pipeline.classifiers.fundamentals import Sector\n",
    "from quantopian.pipeline.factors import Returns, SimpleMovingAverage, CustomFactor, RSI\n",
    "\n",
    "from alphalens.performance import mean_information_coefficient\n",
    "from alphalens.utils import get_clean_factor_and_forward_returns\n",
    "from alphalens.tears import create_information_tear_sheet, create_returns_tear_sheet"
   ]
  },
  {
   "cell_type": "markdown",
   "metadata": {},
   "source": [
    "## Define Your Alpha Factor Here\n",
    "\n",
    "Spend your time in this cell, creating good factors. Then simply run the rest of the notebook to analyze `factor_to_analyze`!"
   ]
  },
  {
   "cell_type": "code",
   "execution_count": null,
   "metadata": {},
   "outputs": [],
   "source": [
    "def make_pipeline():\n",
    "    \n",
    "    assets_moving_average = SimpleMovingAverage(inputs=[factset.Fundamentals.assets], window_length=252)\n",
    "    current_assets = factset.Fundamentals.assets.latest\n",
    "    \n",
    "    factor_to_analyze = (current_assets - assets_moving_average)\n",
    "    \n",
    "    sector = Sector()\n",
    "    \n",
    "    return Pipeline(\n",
    "        columns = {'factor_to_analyze': factor_to_analyze, 'sector': sector},\n",
    "        screen = QTradableStocksUS() & factor_to_analyze.notnull() & sector.notnull()\n",
    "    )\n",
    "\n",
    "factor_data = run_pipeline(make_pipeline(), '2015-1-1', '2016-1-1')\n",
    "pricing_data = get_pricing(factor_data.index.levels[1], '2015-1-1', '2016-6-1', fields='open_price')"
   ]
  },
  {
   "cell_type": "markdown",
   "metadata": {},
   "source": [
    "## Determine The Decay Rate Of Your Alpha Factor."
   ]
  },
  {
   "cell_type": "code",
   "execution_count": null,
   "metadata": {},
   "outputs": [],
   "source": [
    "longest_look_forward_period = 63 # week = 5, month = 21, quarter = 63, year = 252\n",
    "range_step = 5\n",
    "\n",
    "merged_data = get_clean_factor_and_forward_returns(\n",
    "    factor = factor_data['factor_to_analyze'],\n",
    "    prices = pricing_data,\n",
    "    periods = range(1, longest_look_forward_period, range_step)\n",
    ")\n",
    "\n",
    "mean_information_coefficient(merged_data).plot(title=\"IC Decay\")"
   ]
  },
  {
   "cell_type": "markdown",
   "metadata": {},
   "source": [
    "## Create Group Neutral Tear Sheets"
   ]
  },
  {
   "cell_type": "code",
   "execution_count": null,
   "metadata": {
    "scrolled": true
   },
   "outputs": [],
   "source": [
    "sector_labels, sector_labels[-1] = dict(Sector.SECTOR_NAMES), \"Unknown\"\n",
    "\n",
    "merged_data = get_clean_factor_and_forward_returns(\n",
    "    factor = factor_data['factor_to_analyze'],\n",
    "    prices = pricing_data,\n",
    "    groupby = factor_data['sector'],\n",
    "    groupby_labels = sector_labels,\n",
    "    binning_by_group = True,\n",
    "    periods = (1,5,10)\n",
    ")\n",
    "\n",
    "create_information_tear_sheet(merged_data, by_group=True, group_neutral=True)\n",
    "create_returns_tear_sheet(merged_data, by_group=True, group_neutral=True)"
   ]
  }
 ],
 "metadata": {
  "kernelspec": {
   "display_name": "Python 3.5",
   "language": "python",
   "name": "py35"
  },
  "language_info": {
   "codemirror_mode": {
    "name": "ipython",
    "version": 3
   },
   "file_extension": ".py",
   "mimetype": "text/x-python",
   "name": "python",
   "nbconvert_exporter": "python",
   "pygments_lexer": "ipython3",
   "version": "3.7.0"
  }
 },
 "nbformat": 4,
 "nbformat_minor": 2
}
