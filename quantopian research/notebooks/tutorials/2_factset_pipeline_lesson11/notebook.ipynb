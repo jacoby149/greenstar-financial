{
 "cells": [
  {
   "cell_type": "code",
   "execution_count": 1,
   "metadata": {},
   "outputs": [],
   "source": [
    "from quantopian.pipeline import Pipeline\n",
    "from quantopian.pipeline.data.builtin import USEquityPricing\n",
    "from quantopian.pipeline.factors import AverageDollarVolume, SimpleMovingAverage\n",
    "from quantopian.research import run_pipeline"
   ]
  },
  {
   "cell_type": "markdown",
   "metadata": {},
   "source": [
    "##Putting It All Together\n",
    "Now that we've covered the basic components of the Pipeline API, let's construct a pipeline that we might want to use in an algorithm.\n",
    "\n",
    "To start, let's first create a filter to narrow down the types of securities coming out of our pipeline. In this example, we will create a filter to select assets that we can reliably trade, by excluding securities such as microcaps and penny stocks. We'll select for securities that meet the following criteria:\n",
    "- Has a sufficiently high market cap.\n",
    "- Trades at a sufficiently high volume.\n",
    "- Has a daily close price above $5.00.\n",
    "\n",
    "###Creating Our Pipeline\n",
    "Let's create a filter for each criterion and combine them together to create a `tradeable_stocks` filter. First we need to import the `USEquityPricing` and FactSet `Fundamentals` data sets, as well as the `AverageDollarVolume` factor we'll be using."
   ]
  },
  {
   "cell_type": "code",
   "execution_count": 2,
   "metadata": {},
   "outputs": [],
   "source": [
    "from quantopian.pipeline.data.builtin import USEquityPricing\n",
    "from quantopian.pipeline.data.factset import Fundamentals\n",
    "from quantopian.pipeline.factors import AverageDollarVolume"
   ]
  },
  {
   "cell_type": "markdown",
   "metadata": {},
   "source": [
    "Now we can define our filters:"
   ]
  },
  {
   "cell_type": "code",
   "execution_count": 3,
   "metadata": {},
   "outputs": [],
   "source": [
    "# Filter for high market cap.\n",
    "market_cap = Fundamentals.mkt_val.latest\n",
    "market_cap_filter = market_cap.notnull() & (market_cap > 500000000)\n",
    "\n",
    "# Equities with a high dollar volume.\n",
    "high_dollar_volume = AverageDollarVolume(window_length=200) > 2500000\n",
    "\n",
    "# Equities with a close price above $5.00.\n",
    "price_filter = USEquityPricing.close.latest > 5\n",
    "\n",
    "# Filter for stocks that pass all of our previous filters.\n",
    "base_universe = market_cap_filter & high_dollar_volume & price_filter"
   ]
  },
  {
   "cell_type": "markdown",
   "metadata": {},
   "source": [
    "Note that when defining our filters, we used several `Classifier` methods that we haven't yet seen including `notnull`, `startswith`, `endswith`, and `matches`. Documentation on these methods is available [here](https://www.quantopian.com/help#quantopian_pipeline_classifiers_Classifier).\n",
    "\n",
    "Note that when defining our filters we used `notnull`, a `Classifier` method that we haven't seen before. Documentation on this and other methods is available [here](https://www.quantopian.com/help#quantopian_pipeline_classifiers_Classifier)."
   ]
  },
  {
   "cell_type": "markdown",
   "metadata": {},
   "source": [
    "###Mean Reversion Factors\n",
    "Now that we have a filter `base_universe` that we can use to select a subset of securities, let's focus on creating factors for this subset. For this example, let's create a pipeline for a mean reversion strategy. In this strategy, we'll look at the 10-day and 30-day moving averages (close price). Let's plan to open equally weighted long positions in the 75 securities with the least (most negative) percent difference and equally weighted short positions in the 75 with the greatest percent difference. To do this, let's create two moving average factors using our `base_universe` filter as a mask. Then let's combine them into a factor computing the percent difference."
   ]
  },
  {
   "cell_type": "code",
   "execution_count": 4,
   "metadata": {},
   "outputs": [],
   "source": [
    "# 10-day close price average.\n",
    "mean_10 = SimpleMovingAverage(inputs=[USEquityPricing.close], window_length=10, mask=base_universe)\n",
    "\n",
    "# 30-day close price average.\n",
    "mean_30 = SimpleMovingAverage(inputs=[USEquityPricing.close], window_length=30, mask=base_universe)\n",
    "\n",
    "percent_difference = (mean_10 - mean_30) / mean_30"
   ]
  },
  {
   "cell_type": "markdown",
   "metadata": {},
   "source": [
    "Next, let's create filters for the top 75 and bottom 75 equities by `percent_difference`."
   ]
  },
  {
   "cell_type": "code",
   "execution_count": 5,
   "metadata": {},
   "outputs": [],
   "source": [
    "# Create a filter to select securities to short.\n",
    "shorts = percent_difference.top(75)\n",
    "\n",
    "# Create a filter to select securities to long.\n",
    "longs = percent_difference.bottom(75)"
   ]
  },
  {
   "cell_type": "markdown",
   "metadata": {},
   "source": [
    "Let's then combine `shorts` and `longs` to create a new filter that we can use as the screen of our pipeline:"
   ]
  },
  {
   "cell_type": "code",
   "execution_count": 6,
   "metadata": {},
   "outputs": [],
   "source": [
    "securities_to_trade = (shorts | longs)"
   ]
  },
  {
   "cell_type": "markdown",
   "metadata": {},
   "source": [
    "Since our earlier filters were used as masks as we built up to this final filter, when we use `securities_to_trade` as a screen, the output securities will meet the criteria outlined at the beginning of the lesson (primary shares, non-ETFs, etc.). They will also have high dollar volume."
   ]
  },
  {
   "cell_type": "markdown",
   "metadata": {
    "collapsed": true
   },
   "source": [
    "Finally, let's instantiate our pipeline. Since we are planning on opening equally weighted long and short positions later, the only information that we actually need from our pipeline is which securities we want to trade (the pipeline index) and whether or not to open a long or a short position. Let's add our `longs` and `shorts` filters to our pipeline and set our screen to be `securities_to_trade`."
   ]
  },
  {
   "cell_type": "code",
   "execution_count": 7,
   "metadata": {},
   "outputs": [],
   "source": [
    "def make_pipeline():\n",
    "    \n",
    "    # 10-day close price average.\n",
    "    mean_10 = SimpleMovingAverage(inputs=[USEquityPricing.close], window_length=10, mask=base_universe)\n",
    "\n",
    "    # 30-day close price average.\n",
    "    mean_30 = SimpleMovingAverage(inputs=[USEquityPricing.close], window_length=30, mask=base_universe)\n",
    "\n",
    "    # Percent difference factor.\n",
    "    percent_difference = (mean_10 - mean_30) / mean_30\n",
    "    \n",
    "    # Create a filter to select securities to short.\n",
    "    shorts = percent_difference.top(75)\n",
    "\n",
    "    # Create a filter to select securities to long.\n",
    "    longs = percent_difference.bottom(75)\n",
    "    \n",
    "    # Filter for the securities that we want to trade.\n",
    "    securities_to_trade = (shorts | longs)\n",
    "    \n",
    "    return Pipeline(\n",
    "        columns={\n",
    "            'longs': longs,\n",
    "            'shorts': shorts,\n",
    "        },\n",
    "        screen=securities_to_trade,\n",
    "    )"
   ]
  },
  {
   "cell_type": "markdown",
   "metadata": {},
   "source": [
    "Running this pipeline will result in a DataFrame containing 2 columns. Each day, the columns will contain boolean values that we can use to decide whether we want to open a long or short position in each security."
   ]
  },
  {
   "cell_type": "code",
   "execution_count": 8,
   "metadata": {},
   "outputs": [
    {
     "data": {
      "text/html": [
       "<div>\n",
       "<table border=\"1\" class=\"dataframe\">\n",
       "  <thead>\n",
       "    <tr style=\"text-align: right;\">\n",
       "      <th></th>\n",
       "      <th></th>\n",
       "      <th>longs</th>\n",
       "      <th>shorts</th>\n",
       "    </tr>\n",
       "  </thead>\n",
       "  <tbody>\n",
       "    <tr>\n",
       "      <th rowspan=\"5\" valign=\"top\">2015-05-05 00:00:00+00:00</th>\n",
       "      <th>Equity(371 [TVTY])</th>\n",
       "      <td>True</td>\n",
       "      <td>False</td>\n",
       "    </tr>\n",
       "    <tr>\n",
       "      <th>Equity(523 [AAN])</th>\n",
       "      <td>False</td>\n",
       "      <td>True</td>\n",
       "    </tr>\n",
       "    <tr>\n",
       "      <th>Equity(1068 [BPT])</th>\n",
       "      <td>False</td>\n",
       "      <td>True</td>\n",
       "    </tr>\n",
       "    <tr>\n",
       "      <th>Equity(1244 [CAMP])</th>\n",
       "      <td>False</td>\n",
       "      <td>True</td>\n",
       "    </tr>\n",
       "    <tr>\n",
       "      <th>Equity(1595 [CLF])</th>\n",
       "      <td>False</td>\n",
       "      <td>True</td>\n",
       "    </tr>\n",
       "  </tbody>\n",
       "</table>\n",
       "</div>"
      ],
      "text/plain": [
       "                                               longs shorts\n",
       "2015-05-05 00:00:00+00:00 Equity(371 [TVTY])    True  False\n",
       "                          Equity(523 [AAN])    False   True\n",
       "                          Equity(1068 [BPT])   False   True\n",
       "                          Equity(1244 [CAMP])  False   True\n",
       "                          Equity(1595 [CLF])   False   True"
      ]
     },
     "execution_count": 8,
     "metadata": {},
     "output_type": "execute_result"
    }
   ],
   "source": [
    "result = run_pipeline(make_pipeline(), '2015-05-05', '2015-05-05')\n",
    "result.head()"
   ]
  },
  {
   "cell_type": "markdown",
   "metadata": {},
   "source": [
    "In the next lesson, we'll add this pipeline to an algorithm."
   ]
  }
 ],
 "metadata": {
  "kernelspec": {
   "display_name": "Python 2",
   "language": "python",
   "name": "python2"
  },
  "language_info": {
   "codemirror_mode": {
    "name": "ipython",
    "version": 2
   },
   "file_extension": ".py",
   "mimetype": "text/x-python",
   "name": "python",
   "nbconvert_exporter": "python",
   "pygments_lexer": "ipython2",
   "version": "2.7.12"
  }
 },
 "nbformat": 4,
 "nbformat_minor": 1
}