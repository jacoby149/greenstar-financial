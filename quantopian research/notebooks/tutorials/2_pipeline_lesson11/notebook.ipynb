{
 "cells": [
  {
   "cell_type": "code",
   "execution_count": 1,
   "metadata": {
    "collapsed": true
   },
   "outputs": [],
   "source": [
    "from quantopian.pipeline import Pipeline\n",
    "from quantopian.research import run_pipeline\n",
    "from quantopian.pipeline.data.builtin import USEquityPricing\n",
    "from quantopian.pipeline.factors import SimpleMovingAverage, AverageDollarVolume"
   ]
  },
  {
   "cell_type": "markdown",
   "metadata": {},
   "source": [
    "##Putting It All Together\n",
    "Now that we've covered the basic components of the Pipeline API, let's construct a pipeline that we might want to use in an algorithm.\n",
    "\n",
    "To start, let's first create a filter to narrow down the types of securities coming out of our pipeline. In this example, we will create a filter to select for securities that meet all of the following criteria:\n",
    "- Is a primary share\n",
    "- Is listed as a common stock\n",
    "- Is not a [depositary receipt](http://www.investopedia.com/terms/d/depositaryreceipt.asp) (ADR/GDR)\n",
    "- Is not trading [over-the-counter](http://www.investopedia.com/terms/o/otc.asp) (OTC)\n",
    "- Is not [when-issued](http://www.investopedia.com/terms/w/wi.asp) (WI)\n",
    "- Doesn't have a name indicating it's a [limited partnership](http://www.investopedia.com/terms/l/limitedpartnership.asp) (LP)\n",
    "- Doesn't have a company reference entry indicating it's a LP\n",
    "- Is not an [ETF](http://www.investopedia.com/terms/e/etf.asp) (has Morningstar fundamental data)\n",
    "\n",
    "\n",
    "####Why These Criteria?\n",
    "Selecting for primary shares and common stock helps us to select only a single security for each company. In general, primary shares are a good representative asset of a company so we will select for these in our pipeline.\n",
    "\n",
    "ADRs and GDRs are issuances in the US equity market for stocks that trade on other exchanges. Frequently, there is inherent risk associated with depositary receipts due to currency fluctuations so we exclude them from our pipeline.\n",
    "\n",
    "OTC, WI, and LP securities are not tradeable with most brokers. As a result, we exclude them from our pipeline.\n",
    "\n",
    "###Creating Our Pipeline\n",
    "Let's create a filter for each criterion and combine them together to create a `tradeable_stocks` filter. First, we need to import the Morningstar `DataSet` as well as the `IsPrimaryShare` builtin filter."
   ]
  },
  {
   "cell_type": "code",
   "execution_count": 2,
   "metadata": {
    "collapsed": true
   },
   "outputs": [],
   "source": [
    "from quantopian.pipeline.data import Fundamentals\n",
    "from quantopian.pipeline.filters.fundamentals import IsPrimaryShare"
   ]
  },
  {
   "cell_type": "markdown",
   "metadata": {},
   "source": [
    "Now we can define our filters:"
   ]
  },
  {
   "cell_type": "code",
   "execution_count": 3,
   "metadata": {
    "collapsed": true
   },
   "outputs": [],
   "source": [
    "# Filter for primary share equities. IsPrimaryShare is a built-in filter.\n",
    "primary_share = IsPrimaryShare()\n",
    "\n",
    "# Equities listed as common stock (as opposed to, say, preferred stock).\n",
    "# 'ST00000001' indicates common stock.\n",
    "common_stock = Fundamentals.security_type.latest.eq('ST00000001')\n",
    "\n",
    "# Non-depositary receipts. Recall that the ~ operator inverts filters,\n",
    "# turning Trues into Falses and vice versa\n",
    "not_depositary = ~Fundamentals.is_depositary_receipt.latest\n",
    "\n",
    "# Equities not trading over-the-counter.\n",
    "not_otc = ~Fundamentals.exchange_id.latest.startswith('OTC')\n",
    "\n",
    "# Not when-issued equities.\n",
    "not_wi = ~Fundamentals.symbol.latest.endswith('.WI')\n",
    "\n",
    "# Equities without LP in their name, .matches does a match using a regular\n",
    "# expression\n",
    "not_lp_name = ~Fundamentals.standard_name.latest.matches('.* L[. ]?P.?$')\n",
    "\n",
    "# Equities with a null value in the limited_partnership Morningstar\n",
    "# fundamental field.\n",
    "not_lp_balance_sheet = Fundamentals.limited_partnership.latest.isnull()\n",
    "\n",
    "# Equities whose most recent Morningstar market cap is not null have\n",
    "# fundamental data and therefore are not ETFs.\n",
    "have_market_cap = Fundamentals.market_cap.latest.notnull()\n",
    "\n",
    "# Filter for stocks that pass all of our previous filters.\n",
    "tradeable_stocks = (\n",
    "    primary_share\n",
    "    & common_stock\n",
    "    & not_depositary\n",
    "    & not_otc\n",
    "    & not_wi\n",
    "    & not_lp_name\n",
    "    & not_lp_balance_sheet\n",
    "    & have_market_cap\n",
    ")"
   ]
  },
  {
   "cell_type": "markdown",
   "metadata": {},
   "source": [
    "Note that when defining our filters, we used several `Classifier` methods that we haven't yet seen including `notnull`, `startswith`, `endswith`, and `matches`. Documentation on these methods is available [here](https://www.quantopian.com/help#quantopian_pipeline_classifiers_Classifier).\n",
    "\n",
    "Next, let's create a filter for the top 30% of tradeable stocks by 20-day average dollar volume. We'll call this our `base_universe`."
   ]
  },
  {
   "cell_type": "code",
   "execution_count": 4,
   "metadata": {
    "collapsed": true
   },
   "outputs": [],
   "source": [
    "base_universe = AverageDollarVolume(window_length=20, mask=tradeable_stocks).percentile_between(70, 100)"
   ]
  },
  {
   "cell_type": "markdown",
   "metadata": {},
   "source": [
    "####Built-in Base Universe\n",
    "\n",
    "We have just defined our own base universe to select 'tradeable' securities with high dollar volume. However, Quantopian has several built-in filters that do something similar, the best and newest of which is the [QTradableStocksUS](https://www.quantopian.com/help#quantopian_pipeline_filters_QTradableStocksUS). The QTradableStocksUS is a built-in pipeline filter that selects a daily universe of stocks that are filtered in three passes and adhere to a set of criteria to yield the most liquid universe possible without any size constraints. The QTradableStocksUS therefore has no size cutoff unlike its predecessors, the [Q500US](https://www.quantopian.com/help#quantopian_pipeline_filters_Q500US) and the [Q1500US](https://www.quantopian.com/help#quantopian_pipeline_filters_Q1500US). More detail on the selection criteria of the QTradableStocksUS can be found [here](https://www.quantopian.com/posts/working-on-our-best-universe-yet-qtradablestocksus).\n",
    "\n",
    "To simplify our pipeline, let's replace what we've already written for our `base_universe` with the `QTradableStocksUS` built-in filter. First, we need to import it."
   ]
  },
  {
   "cell_type": "code",
   "execution_count": 5,
   "metadata": {
    "collapsed": true
   },
   "outputs": [],
   "source": [
    "from quantopian.pipeline.filters import QTradableStocksUS"
   ]
  },
  {
   "cell_type": "markdown",
   "metadata": {},
   "source": [
    "Then, let's set our base_universe to the `QTradableStocksUS`."
   ]
  },
  {
   "cell_type": "code",
   "execution_count": 6,
   "metadata": {
    "collapsed": true
   },
   "outputs": [],
   "source": [
    "base_universe = QTradableStocksUS()"
   ]
  },
  {
   "cell_type": "markdown",
   "metadata": {},
   "source": [
    "Now that we have a filter `base_universe` that we can use to select a subset of securities, let's focus on creating factors for this subset. For this example, let's create a pipeline for a mean reversion strategy. In this strategy, we'll look at the 10-day and 30-day moving averages (close price). Let's plan to open equally weighted long positions in the 75 securities with the least (most negative) percent difference and equally weighted short positions in the 75 with the greatest percent difference. To do this, let's create two moving average factors using our `base_universe` filter as a mask. Then let's combine them into a factor computing the percent difference."
   ]
  },
  {
   "cell_type": "code",
   "execution_count": 7,
   "metadata": {
    "collapsed": true
   },
   "outputs": [],
   "source": [
    "# 10-day close price average.\n",
    "mean_10 = SimpleMovingAverage(inputs=[USEquityPricing.close], window_length=10, mask=base_universe)\n",
    "\n",
    "# 30-day close price average.\n",
    "mean_30 = SimpleMovingAverage(inputs=[USEquityPricing.close], window_length=30, mask=base_universe)\n",
    "\n",
    "percent_difference = (mean_10 - mean_30) / mean_30"
   ]
  },
  {
   "cell_type": "markdown",
   "metadata": {},
   "source": [
    "Next, let's create filters for the top 75 and bottom 75 equities by `percent_difference`."
   ]
  },
  {
   "cell_type": "code",
   "execution_count": 8,
   "metadata": {
    "collapsed": true
   },
   "outputs": [],
   "source": [
    "# Create a filter to select securities to short.\n",
    "shorts = percent_difference.top(75)\n",
    "\n",
    "# Create a filter to select securities to long.\n",
    "longs = percent_difference.bottom(75)"
   ]
  },
  {
   "cell_type": "markdown",
   "metadata": {},
   "source": [
    "Let's then combine `shorts` and `longs` to create a new filter that we can use as the screen of our pipeline:"
   ]
  },
  {
   "cell_type": "code",
   "execution_count": 9,
   "metadata": {
    "collapsed": true
   },
   "outputs": [],
   "source": [
    "securities_to_trade = (shorts | longs)"
   ]
  },
  {
   "cell_type": "markdown",
   "metadata": {},
   "source": [
    "Since our earlier filters were used as masks as we built up to this final filter, when we use `securities_to_trade` as a screen, the output securities will meet the criteria outlined at the beginning of the lesson (primary shares, non-ETFs, etc.). They will also have high dollar volume."
   ]
  },
  {
   "cell_type": "markdown",
   "metadata": {
    "collapsed": true
   },
   "source": [
    "Finally, let's instantiate our pipeline. Since we are planning on opening equally weighted long and short positions later, the only information that we actually need from our pipeline is which securities we want to trade (the pipeline index) and whether or not to open a long or a short position. Let's add our `longs` and `shorts` filters to our pipeline and set our screen to be `securities_to_trade`."
   ]
  },
  {
   "cell_type": "code",
   "execution_count": 10,
   "metadata": {
    "collapsed": true
   },
   "outputs": [],
   "source": [
    "def make_pipeline():\n",
    "    \n",
    "    # Base universe filter.\n",
    "    base_universe = QTradableStocksUS()\n",
    "    \n",
    "    # 10-day close price average.\n",
    "    mean_10 = SimpleMovingAverage(inputs=[USEquityPricing.close], window_length=10, mask=base_universe)\n",
    "\n",
    "    # 30-day close price average.\n",
    "    mean_30 = SimpleMovingAverage(inputs=[USEquityPricing.close], window_length=30, mask=base_universe)\n",
    "\n",
    "    # Percent difference factor.\n",
    "    percent_difference = (mean_10 - mean_30) / mean_30\n",
    "    \n",
    "    # Create a filter to select securities to short.\n",
    "    shorts = percent_difference.top(75)\n",
    "\n",
    "    # Create a filter to select securities to long.\n",
    "    longs = percent_difference.bottom(75)\n",
    "    \n",
    "    # Filter for the securities that we want to trade.\n",
    "    securities_to_trade = (shorts | longs)\n",
    "    \n",
    "    return Pipeline(\n",
    "        columns={\n",
    "            'longs': longs,\n",
    "            'shorts': shorts\n",
    "        },\n",
    "        screen=securities_to_trade\n",
    "    )"
   ]
  },
  {
   "cell_type": "markdown",
   "metadata": {},
   "source": [
    "Running this pipeline will result in a DataFrame containing 2 columns. Each day, the columns will contain boolean values that we can use to decide whether we want to open a long or short position in each security."
   ]
  },
  {
   "cell_type": "code",
   "execution_count": 11,
   "metadata": {
    "collapsed": false
   },
   "outputs": [
    {
     "data": {
      "text/html": [
       "<div>\n",
       "<table border=\"1\" class=\"dataframe\">\n",
       "  <thead>\n",
       "    <tr style=\"text-align: right;\">\n",
       "      <th></th>\n",
       "      <th></th>\n",
       "      <th>longs</th>\n",
       "      <th>shorts</th>\n",
       "    </tr>\n",
       "  </thead>\n",
       "  <tbody>\n",
       "    <tr>\n",
       "      <th rowspan=\"5\" valign=\"top\">2015-05-05 00:00:00+00:00</th>\n",
       "      <th>Equity(39 [DDC])</th>\n",
       "      <td>False</td>\n",
       "      <td>True</td>\n",
       "    </tr>\n",
       "    <tr>\n",
       "      <th>Equity(351 [AMD])</th>\n",
       "      <td>True</td>\n",
       "      <td>False</td>\n",
       "    </tr>\n",
       "    <tr>\n",
       "      <th>Equity(371 [TVTY])</th>\n",
       "      <td>True</td>\n",
       "      <td>False</td>\n",
       "    </tr>\n",
       "    <tr>\n",
       "      <th>Equity(474 [APOG])</th>\n",
       "      <td>False</td>\n",
       "      <td>True</td>\n",
       "    </tr>\n",
       "    <tr>\n",
       "      <th>Equity(523 [AAN])</th>\n",
       "      <td>False</td>\n",
       "      <td>True</td>\n",
       "    </tr>\n",
       "  </tbody>\n",
       "</table>\n",
       "</div>"
      ],
      "text/plain": [
       "                                              longs shorts\n",
       "2015-05-05 00:00:00+00:00 Equity(39 [DDC])    False   True\n",
       "                          Equity(351 [AMD])    True  False\n",
       "                          Equity(371 [TVTY])   True  False\n",
       "                          Equity(474 [APOG])  False   True\n",
       "                          Equity(523 [AAN])   False   True"
      ]
     },
     "execution_count": 11,
     "metadata": {},
     "output_type": "execute_result"
    }
   ],
   "source": [
    "result = run_pipeline(make_pipeline(), '2015-05-05', '2015-05-05')\n",
    "result.head()"
   ]
  },
  {
   "cell_type": "markdown",
   "metadata": {},
   "source": [
    "In the next lesson, we'll add this pipeline to an algorithm."
   ]
  }
 ],
 "metadata": {
  "kernelspec": {
   "display_name": "Python 2",
   "language": "python",
   "name": "python2"
  },
  "language_info": {
   "codemirror_mode": {
    "name": "ipython",
    "version": 2
   },
   "file_extension": ".py",
   "mimetype": "text/x-python",
   "name": "python",
   "nbconvert_exporter": "python",
   "pygments_lexer": "ipython2",
   "version": "2.7.12"
  }
 },
 "nbformat": 4,
 "nbformat_minor": 1
}
