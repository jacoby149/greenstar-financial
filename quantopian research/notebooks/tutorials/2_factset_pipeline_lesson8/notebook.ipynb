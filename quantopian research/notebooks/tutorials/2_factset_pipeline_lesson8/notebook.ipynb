{
 "cells": [
  {
   "cell_type": "code",
   "execution_count": 1,
   "metadata": {},
   "outputs": [],
   "source": [
    "from quantopian.pipeline import Pipeline\n",
    "from quantopian.pipeline.factors import AverageDollarVolume, SimpleMovingAverage\n",
    "from quantopian.research import run_pipeline"
   ]
  },
  {
   "cell_type": "markdown",
   "metadata": {},
   "source": [
    "##Classifiers\n",
    "A classifier is a function from an asset and a moment in time to a [categorical output](https://en.wikipedia.org/wiki/Categorical_variable) such as a `string` or `integer` label:\n",
    "```\n",
    "F(asset, timestamp) -> category\n",
    "```\n",
    "An example of a classifier producing a string output is the currency in which a security is traded. To create this classifier, we'll have to import `Fundamentals.curn_doc_af` and use the [latest](https://www.quantopian.com/tutorials/pipeline#lesson3) attribute to instantiate our classifier:"
   ]
  },
  {
   "cell_type": "code",
   "execution_count": 2,
   "metadata": {},
   "outputs": [],
   "source": [
    "from quantopian.pipeline.data.factset import Fundamentals\n",
    "\n",
    "# Since the underlying data of Fundamentals.curn_doc_af is of type\n",
    "# string, .latest returns a Classifier.\n",
    "currency = Fundamentals.curn_doc_af.latest"
   ]
  },
  {
   "cell_type": "markdown",
   "metadata": {},
   "source": [
    "Previously, we saw that the `latest` attribute produced an instance of a `Factor`. In this case, since the underlying data is of type `string`, `latest` produces a `Classifier`.\n",
    "\n",
    "Similarly, the underlying type of a `Classifier` could in theory be an `int`, where the integer doesn't actually represent a numerical value, but rather a categorical value."
   ]
  },
  {
   "cell_type": "markdown",
   "metadata": {},
   "source": [
    "###Building Filters from Classifiers\n",
    "Classifiers can also be used to produce filters with methods like `isnull`, `eq`, and `startswith`. The full list of `Classifier` methods producing `Filters` can be found [here](https://www.quantopian.com/help#quantopian_pipeline_classifiers_Classifier).\n",
    "\n",
    "As an example, if we wanted a filter to select securities trading in the United States Dollar, we can use the `eq` method of our `Fundamentals.curn_doc_af` classifier."
   ]
  },
  {
   "cell_type": "code",
   "execution_count": 3,
   "metadata": {},
   "outputs": [],
   "source": [
    "us_currency_filter = currency.eq('USD')"
   ]
  },
  {
   "cell_type": "markdown",
   "metadata": {},
   "source": [
    "This filter will return `True` for securities having `'USD'` as their primary trading currency."
   ]
  },
  {
   "cell_type": "markdown",
   "metadata": {},
   "source": [
    "###Quantiles\n",
    "Classifiers can also be produced from various `Factor` methods. The most general of these is the `quantiles` method which accepts a bin count as an argument. The `quantiles` method assigns a label from 0 to (bins - 1) to every non-NaN data point in the factor output and returns a `Classifier` with these labels. `NaN`s are labeled with -1. Aliases are available for [quartiles](https://www.quantopian.com/help/#quantopian_pipeline_factors_Factor_quartiles) (`quantiles(4)`), [quintiles](https://www.quantopian.com/help/#quantopian_pipeline_factors_Factor_quintiles) (`quantiles(5)`), and [deciles](https://www.quantopian.com/help/#quantopian_pipeline_factors_Factor_deciles) (`quantiles(10)`). As an example, this is what a filter for the top decile of a factor might look like:"
   ]
  },
  {
   "cell_type": "code",
   "execution_count": 4,
   "metadata": {},
   "outputs": [],
   "source": [
    "dollar_volume_decile = AverageDollarVolume(window_length=10).deciles()\n",
    "top_decile = (dollar_volume_decile.eq(9))"
   ]
  },
  {
   "cell_type": "markdown",
   "metadata": {},
   "source": [
    "Let's put each of our classifiers into a pipeline and run it to see what they look like."
   ]
  },
  {
   "cell_type": "code",
   "execution_count": 5,
   "metadata": {},
   "outputs": [],
   "source": [
    "def make_pipeline():\n",
    "    currency = Fundamentals.curn_doc_af.latest\n",
    "    us_currency_filter = currency.eq('USD')\n",
    "\n",
    "    dollar_volume_decile = AverageDollarVolume(window_length=10).deciles()\n",
    "    top_decile = (dollar_volume_decile.eq(9))\n",
    "    \n",
    "    return Pipeline(\n",
    "        columns={\n",
    "            'currency': currency,\n",
    "            'dollar_volume_decile': dollar_volume_decile,\n",
    "        },\n",
    "        screen=(us_currency_filter & top_decile),\n",
    "    )"
   ]
  },
  {
   "cell_type": "code",
   "execution_count": 6,
   "metadata": {},
   "outputs": [
    {
     "name": "stdout",
     "output_type": "stream",
     "text": [
      "Number of securities that passed the filter: 647\n"
     ]
    },
    {
     "data": {
      "text/html": [
       "<div>\n",
       "<table border=\"1\" class=\"dataframe\">\n",
       "  <thead>\n",
       "    <tr style=\"text-align: right;\">\n",
       "      <th></th>\n",
       "      <th></th>\n",
       "      <th>currency</th>\n",
       "      <th>dollar_volume_decile</th>\n",
       "    </tr>\n",
       "  </thead>\n",
       "  <tbody>\n",
       "    <tr>\n",
       "      <th rowspan=\"5\" valign=\"top\">2015-05-05 00:00:00+00:00</th>\n",
       "      <th>Equity(2 [ARNC])</th>\n",
       "      <td>USD</td>\n",
       "      <td>9</td>\n",
       "    </tr>\n",
       "    <tr>\n",
       "      <th>Equity(24 [AAPL])</th>\n",
       "      <td>USD</td>\n",
       "      <td>9</td>\n",
       "    </tr>\n",
       "    <tr>\n",
       "      <th>Equity(62 [ABT])</th>\n",
       "      <td>USD</td>\n",
       "      <td>9</td>\n",
       "    </tr>\n",
       "    <tr>\n",
       "      <th>Equity(64 [ABX])</th>\n",
       "      <td>USD</td>\n",
       "      <td>9</td>\n",
       "    </tr>\n",
       "    <tr>\n",
       "      <th>Equity(67 [ADSK])</th>\n",
       "      <td>USD</td>\n",
       "      <td>9</td>\n",
       "    </tr>\n",
       "  </tbody>\n",
       "</table>\n",
       "</div>"
      ],
      "text/plain": [
       "                                            currency  dollar_volume_decile\n",
       "2015-05-05 00:00:00+00:00 Equity(2 [ARNC])       USD                     9\n",
       "                          Equity(24 [AAPL])      USD                     9\n",
       "                          Equity(62 [ABT])       USD                     9\n",
       "                          Equity(64 [ABX])       USD                     9\n",
       "                          Equity(67 [ADSK])      USD                     9"
      ]
     },
     "execution_count": 6,
     "metadata": {},
     "output_type": "execute_result"
    }
   ],
   "source": [
    "result = run_pipeline(make_pipeline(), '2015-05-05', '2015-05-05')\n",
    "print 'Number of securities that passed the filter: %d' % len(result)\n",
    "result.head(5)"
   ]
  },
  {
   "cell_type": "markdown",
   "metadata": {},
   "source": [
    "Classifiers are also useful for describing grouping keys for complex transformations on Factor outputs. Grouping operations such as [demean](https://www.quantopian.com/help#quantopian_pipeline_factors_Factor_demean) and [groupby](https://www.quantopian.com/help#quantopian_pipeline_factors_Factor_groupby) are outside the scope of this tutorial. A future tutorial will cover more advanced uses for classifiers.\n",
    "\n",
    "In the next lesson, we'll look at the different datasets that we can use in pipeline."
   ]
  }
 ],
 "metadata": {
  "kernelspec": {
   "display_name": "Python 2",
   "language": "python",
   "name": "python2"
  },
  "language_info": {
   "codemirror_mode": {
    "name": "ipython",
    "version": 2
   },
   "file_extension": ".py",
   "mimetype": "text/x-python",
   "name": "python",
   "nbconvert_exporter": "python",
   "pygments_lexer": "ipython2",
   "version": "2.7.12"
  }
 },
 "nbformat": 4,
 "nbformat_minor": 1
}